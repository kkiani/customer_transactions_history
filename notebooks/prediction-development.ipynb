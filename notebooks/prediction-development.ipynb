{
 "metadata": {
  "language_info": {
   "codemirror_mode": {
    "name": "ipython",
    "version": 3
   },
   "file_extension": ".py",
   "mimetype": "text/x-python",
   "name": "python",
   "nbconvert_exporter": "python",
   "pygments_lexer": "ipython3",
   "version": "3.7.3-final"
  },
  "orig_nbformat": 2,
  "kernelspec": {
   "name": "python3",
   "display_name": "Python 3.7.3 64-bit ('venv')",
   "metadata": {
    "interpreter": {
     "hash": "01185dee19e1cce7dc5b64a6e8219da1d901d6d66896a1c033ff0413b7d2da6c"
    }
   }
  }
 },
 "nbformat": 4,
 "nbformat_minor": 2,
 "cells": [
  {
   "cell_type": "code",
   "execution_count": 1,
   "metadata": {},
   "outputs": [],
   "source": [
    "import pandas as pd\n",
    "import seaborn as sns\n",
    "import matplotlib.pyplot as plt\n",
    "import numpy as np"
   ]
  },
  {
   "cell_type": "code",
   "execution_count": 2,
   "metadata": {},
   "outputs": [],
   "source": [
    "import warnings\n",
    "warnings.filterwarnings('ignore')"
   ]
  },
  {
   "source": [
    "# Loading Dataset"
   ],
   "cell_type": "markdown",
   "metadata": {}
  },
  {
   "cell_type": "code",
   "execution_count": 3,
   "metadata": {},
   "outputs": [
    {
     "output_type": "execute_result",
     "data": {
      "text/plain": [
       "        customer_id  product_id                             date\n",
       "657826      8752181  G5HEPH9A2T 2017-01-01 08:32:26.307000+00:00\n",
       "658033      8752181  RZ1BJ9ZV9C 2017-01-01 08:38:15.207000+00:00\n",
       "755034      7269786  G5HEPH9A2T 2017-01-01 11:29:18.527000+00:00\n",
       "755319      7269786  FA7OOL7Z3T 2017-01-01 11:59:30.613000+00:00\n",
       "659733      5255027  FA7OOL7Z3T 2017-01-01 15:22:46.793000+00:00\n",
       "...             ...         ...                              ...\n",
       "294947      1971440  GJROWT9RPV 2020-03-16 23:29:31.810000+00:00\n",
       "104192      8350659  G5HEPH9A2T 2020-03-16 23:54:22.647000+00:00\n",
       "104658      8350659  XZ6UVEYK40 2020-03-16 23:58:40.210000+00:00\n",
       "103766      8350659  GJROWT9RPV 2020-03-17 00:07:18.663000+00:00\n",
       "102112      8350659  XD4I34ED7F 2020-03-17 00:08:21.430000+00:00\n",
       "\n",
       "[975955 rows x 3 columns]"
      ],
      "text/html": "<div>\n<style scoped>\n    .dataframe tbody tr th:only-of-type {\n        vertical-align: middle;\n    }\n\n    .dataframe tbody tr th {\n        vertical-align: top;\n    }\n\n    .dataframe thead th {\n        text-align: right;\n    }\n</style>\n<table border=\"1\" class=\"dataframe\">\n  <thead>\n    <tr style=\"text-align: right;\">\n      <th></th>\n      <th>customer_id</th>\n      <th>product_id</th>\n      <th>date</th>\n    </tr>\n  </thead>\n  <tbody>\n    <tr>\n      <th>657826</th>\n      <td>8752181</td>\n      <td>G5HEPH9A2T</td>\n      <td>2017-01-01 08:32:26.307000+00:00</td>\n    </tr>\n    <tr>\n      <th>658033</th>\n      <td>8752181</td>\n      <td>RZ1BJ9ZV9C</td>\n      <td>2017-01-01 08:38:15.207000+00:00</td>\n    </tr>\n    <tr>\n      <th>755034</th>\n      <td>7269786</td>\n      <td>G5HEPH9A2T</td>\n      <td>2017-01-01 11:29:18.527000+00:00</td>\n    </tr>\n    <tr>\n      <th>755319</th>\n      <td>7269786</td>\n      <td>FA7OOL7Z3T</td>\n      <td>2017-01-01 11:59:30.613000+00:00</td>\n    </tr>\n    <tr>\n      <th>659733</th>\n      <td>5255027</td>\n      <td>FA7OOL7Z3T</td>\n      <td>2017-01-01 15:22:46.793000+00:00</td>\n    </tr>\n    <tr>\n      <th>...</th>\n      <td>...</td>\n      <td>...</td>\n      <td>...</td>\n    </tr>\n    <tr>\n      <th>294947</th>\n      <td>1971440</td>\n      <td>GJROWT9RPV</td>\n      <td>2020-03-16 23:29:31.810000+00:00</td>\n    </tr>\n    <tr>\n      <th>104192</th>\n      <td>8350659</td>\n      <td>G5HEPH9A2T</td>\n      <td>2020-03-16 23:54:22.647000+00:00</td>\n    </tr>\n    <tr>\n      <th>104658</th>\n      <td>8350659</td>\n      <td>XZ6UVEYK40</td>\n      <td>2020-03-16 23:58:40.210000+00:00</td>\n    </tr>\n    <tr>\n      <th>103766</th>\n      <td>8350659</td>\n      <td>GJROWT9RPV</td>\n      <td>2020-03-17 00:07:18.663000+00:00</td>\n    </tr>\n    <tr>\n      <th>102112</th>\n      <td>8350659</td>\n      <td>XD4I34ED7F</td>\n      <td>2020-03-17 00:08:21.430000+00:00</td>\n    </tr>\n  </tbody>\n</table>\n<p>975955 rows × 3 columns</p>\n</div>"
     },
     "metadata": {},
     "execution_count": 3
    }
   ],
   "source": [
    "frames = [pd.read_csv('../data/transactions_1.csv', index_col=0), pd.read_csv('../data/transactions_2.csv', index_col=0)]\n",
    "# frames = [pd.read_csv('../data/transactions_1.csv', index_col=0)]\n",
    "df = pd.concat(frames)\n",
    "df['date'] = pd.to_datetime(df['date'])\n",
    "df.sort_values('date')"
   ]
  },
  {
   "source": [
    "# Question\n",
    "## Build a model to predict the total number of transactions for the next three months per customer anywhere in 2019. For example, given all data up to the end of January 2019, predict the size of the transactions between Feb 1st and April 30th for each customer. Then, measure the performance of your model with appropriate metrics and visuals."
   ],
   "cell_type": "markdown",
   "metadata": {}
  },
  {
   "cell_type": "code",
   "execution_count": 4,
   "metadata": {},
   "outputs": [],
   "source": [
    "selected_month = 1\n",
    "prediction_start_date = f'2019-{selected_month}-01'\n",
    "prediction_end_date = f'2019-{selected_month+3}-01'"
   ]
  },
  {
   "cell_type": "code",
   "execution_count": 5,
   "metadata": {},
   "outputs": [
    {
     "output_type": "execute_result",
     "data": {
      "text/plain": [
       "date         2017-01-31 00:00:00+00:00  2017-02-28 00:00:00+00:00  \\\n",
       "customer_id                                                         \n",
       "1000178                              0                          0   \n",
       "1000692                              0                          0   \n",
       "1000821                              0                          0   \n",
       "1004714                              0                          3   \n",
       "1005470                              0                          0   \n",
       "...                                ...                        ...   \n",
       "9974841                              0                          0   \n",
       "9976006                              0                         26   \n",
       "9978245                              3                         37   \n",
       "9997425                             11                          4   \n",
       "9998153                              0                          0   \n",
       "\n",
       "date         2017-03-31 00:00:00+00:00  2017-04-30 00:00:00+00:00  \\\n",
       "customer_id                                                         \n",
       "1000178                             24                          0   \n",
       "1000692                              6                          0   \n",
       "1000821                              0                          0   \n",
       "1004714                              0                          0   \n",
       "1005470                              0                          0   \n",
       "...                                ...                        ...   \n",
       "9974841                              0                          0   \n",
       "9976006                             14                          9   \n",
       "9978245                             32                         14   \n",
       "9997425                              0                          0   \n",
       "9998153                              0                          0   \n",
       "\n",
       "date         2017-05-31 00:00:00+00:00  2017-06-30 00:00:00+00:00  \\\n",
       "customer_id                                                         \n",
       "1000178                              0                          0   \n",
       "1000692                              0                          0   \n",
       "1000821                              0                          0   \n",
       "1004714                              3                          1   \n",
       "1005470                              0                          1   \n",
       "...                                ...                        ...   \n",
       "9974841                              0                          8   \n",
       "9976006                              0                         19   \n",
       "9978245                              5                         39   \n",
       "9997425                              1                          0   \n",
       "9998153                              0                          0   \n",
       "\n",
       "date         2017-07-31 00:00:00+00:00  2017-08-31 00:00:00+00:00  \\\n",
       "customer_id                                                         \n",
       "1000178                              0                         47   \n",
       "1000692                              0                          0   \n",
       "1000821                              0                          0   \n",
       "1004714                              2                          0   \n",
       "1005470                              0                          2   \n",
       "...                                ...                        ...   \n",
       "9974841                              0                          0   \n",
       "9976006                              0                          0   \n",
       "9978245                              8                         79   \n",
       "9997425                              0                          0   \n",
       "9998153                              0                          0   \n",
       "\n",
       "date         2017-09-30 00:00:00+00:00  2017-10-31 00:00:00+00:00  ...  \\\n",
       "customer_id                                                        ...   \n",
       "1000178                             29                          0  ...   \n",
       "1000692                              0                          0  ...   \n",
       "1000821                              0                          0  ...   \n",
       "1004714                              0                          4  ...   \n",
       "1005470                              0                          3  ...   \n",
       "...                                ...                        ...  ...   \n",
       "9974841                              0                          0  ...   \n",
       "9976006                              0                          0  ...   \n",
       "9978245                             48                          8  ...   \n",
       "9997425                              0                          0  ...   \n",
       "9998153                              0                          0  ...   \n",
       "\n",
       "date         2019-06-30 00:00:00+00:00  2019-07-31 00:00:00+00:00  \\\n",
       "customer_id                                                         \n",
       "1000178                              0                          0   \n",
       "1000692                              3                          2   \n",
       "1000821                              0                          3   \n",
       "1004714                              0                          5   \n",
       "1005470                              0                          0   \n",
       "...                                ...                        ...   \n",
       "9974841                              0                          0   \n",
       "9976006                              0                          0   \n",
       "9978245                             31                          1   \n",
       "9997425                              0                          0   \n",
       "9998153                              0                          7   \n",
       "\n",
       "date         2019-08-31 00:00:00+00:00  2019-09-30 00:00:00+00:00  \\\n",
       "customer_id                                                         \n",
       "1000178                              0                          0   \n",
       "1000692                              8                          5   \n",
       "1000821                             14                          5   \n",
       "1004714                              5                          0   \n",
       "1005470                              0                          3   \n",
       "...                                ...                        ...   \n",
       "9974841                              0                          0   \n",
       "9976006                              0                          0   \n",
       "9978245                              1                          0   \n",
       "9997425                              0                          0   \n",
       "9998153                              0                         22   \n",
       "\n",
       "date         2019-10-31 00:00:00+00:00  2019-11-30 00:00:00+00:00  \\\n",
       "customer_id                                                         \n",
       "1000178                              0                          0   \n",
       "1000692                             19                          6   \n",
       "1000821                              1                         17   \n",
       "1004714                              0                          0   \n",
       "1005470                              0                          2   \n",
       "...                                ...                        ...   \n",
       "9974841                              0                          0   \n",
       "9976006                              0                          0   \n",
       "9978245                             23                          2   \n",
       "9997425                              0                          0   \n",
       "9998153                              0                          0   \n",
       "\n",
       "date         2019-12-31 00:00:00+00:00  2020-01-31 00:00:00+00:00  \\\n",
       "customer_id                                                         \n",
       "1000178                              0                          0   \n",
       "1000692                             24                          1   \n",
       "1000821                              7                         13   \n",
       "1004714                              0                          0   \n",
       "1005470                              0                          0   \n",
       "...                                ...                        ...   \n",
       "9974841                              0                          0   \n",
       "9976006                              0                          0   \n",
       "9978245                              1                          0   \n",
       "9997425                              0                          0   \n",
       "9998153                              0                          0   \n",
       "\n",
       "date         2020-02-29 00:00:00+00:00  2020-03-31 00:00:00+00:00  \n",
       "customer_id                                                        \n",
       "1000178                              0                          0  \n",
       "1000692                              8                          5  \n",
       "1000821                              4                          0  \n",
       "1004714                              1                          0  \n",
       "1005470                              1                          0  \n",
       "...                                ...                        ...  \n",
       "9974841                              1                          0  \n",
       "9976006                              0                          0  \n",
       "9978245                              0                          0  \n",
       "9997425                              0                          0  \n",
       "9998153                              0                          0  \n",
       "\n",
       "[2002 rows x 39 columns]"
      ],
      "text/html": "<div>\n<style scoped>\n    .dataframe tbody tr th:only-of-type {\n        vertical-align: middle;\n    }\n\n    .dataframe tbody tr th {\n        vertical-align: top;\n    }\n\n    .dataframe thead th {\n        text-align: right;\n    }\n</style>\n<table border=\"1\" class=\"dataframe\">\n  <thead>\n    <tr style=\"text-align: right;\">\n      <th>date</th>\n      <th>2017-01-31 00:00:00+00:00</th>\n      <th>2017-02-28 00:00:00+00:00</th>\n      <th>2017-03-31 00:00:00+00:00</th>\n      <th>2017-04-30 00:00:00+00:00</th>\n      <th>2017-05-31 00:00:00+00:00</th>\n      <th>2017-06-30 00:00:00+00:00</th>\n      <th>2017-07-31 00:00:00+00:00</th>\n      <th>2017-08-31 00:00:00+00:00</th>\n      <th>2017-09-30 00:00:00+00:00</th>\n      <th>2017-10-31 00:00:00+00:00</th>\n      <th>...</th>\n      <th>2019-06-30 00:00:00+00:00</th>\n      <th>2019-07-31 00:00:00+00:00</th>\n      <th>2019-08-31 00:00:00+00:00</th>\n      <th>2019-09-30 00:00:00+00:00</th>\n      <th>2019-10-31 00:00:00+00:00</th>\n      <th>2019-11-30 00:00:00+00:00</th>\n      <th>2019-12-31 00:00:00+00:00</th>\n      <th>2020-01-31 00:00:00+00:00</th>\n      <th>2020-02-29 00:00:00+00:00</th>\n      <th>2020-03-31 00:00:00+00:00</th>\n    </tr>\n    <tr>\n      <th>customer_id</th>\n      <th></th>\n      <th></th>\n      <th></th>\n      <th></th>\n      <th></th>\n      <th></th>\n      <th></th>\n      <th></th>\n      <th></th>\n      <th></th>\n      <th></th>\n      <th></th>\n      <th></th>\n      <th></th>\n      <th></th>\n      <th></th>\n      <th></th>\n      <th></th>\n      <th></th>\n      <th></th>\n      <th></th>\n    </tr>\n  </thead>\n  <tbody>\n    <tr>\n      <th>1000178</th>\n      <td>0</td>\n      <td>0</td>\n      <td>24</td>\n      <td>0</td>\n      <td>0</td>\n      <td>0</td>\n      <td>0</td>\n      <td>47</td>\n      <td>29</td>\n      <td>0</td>\n      <td>...</td>\n      <td>0</td>\n      <td>0</td>\n      <td>0</td>\n      <td>0</td>\n      <td>0</td>\n      <td>0</td>\n      <td>0</td>\n      <td>0</td>\n      <td>0</td>\n      <td>0</td>\n    </tr>\n    <tr>\n      <th>1000692</th>\n      <td>0</td>\n      <td>0</td>\n      <td>6</td>\n      <td>0</td>\n      <td>0</td>\n      <td>0</td>\n      <td>0</td>\n      <td>0</td>\n      <td>0</td>\n      <td>0</td>\n      <td>...</td>\n      <td>3</td>\n      <td>2</td>\n      <td>8</td>\n      <td>5</td>\n      <td>19</td>\n      <td>6</td>\n      <td>24</td>\n      <td>1</td>\n      <td>8</td>\n      <td>5</td>\n    </tr>\n    <tr>\n      <th>1000821</th>\n      <td>0</td>\n      <td>0</td>\n      <td>0</td>\n      <td>0</td>\n      <td>0</td>\n      <td>0</td>\n      <td>0</td>\n      <td>0</td>\n      <td>0</td>\n      <td>0</td>\n      <td>...</td>\n      <td>0</td>\n      <td>3</td>\n      <td>14</td>\n      <td>5</td>\n      <td>1</td>\n      <td>17</td>\n      <td>7</td>\n      <td>13</td>\n      <td>4</td>\n      <td>0</td>\n    </tr>\n    <tr>\n      <th>1004714</th>\n      <td>0</td>\n      <td>3</td>\n      <td>0</td>\n      <td>0</td>\n      <td>3</td>\n      <td>1</td>\n      <td>2</td>\n      <td>0</td>\n      <td>0</td>\n      <td>4</td>\n      <td>...</td>\n      <td>0</td>\n      <td>5</td>\n      <td>5</td>\n      <td>0</td>\n      <td>0</td>\n      <td>0</td>\n      <td>0</td>\n      <td>0</td>\n      <td>1</td>\n      <td>0</td>\n    </tr>\n    <tr>\n      <th>1005470</th>\n      <td>0</td>\n      <td>0</td>\n      <td>0</td>\n      <td>0</td>\n      <td>0</td>\n      <td>1</td>\n      <td>0</td>\n      <td>2</td>\n      <td>0</td>\n      <td>3</td>\n      <td>...</td>\n      <td>0</td>\n      <td>0</td>\n      <td>0</td>\n      <td>3</td>\n      <td>0</td>\n      <td>2</td>\n      <td>0</td>\n      <td>0</td>\n      <td>1</td>\n      <td>0</td>\n    </tr>\n    <tr>\n      <th>...</th>\n      <td>...</td>\n      <td>...</td>\n      <td>...</td>\n      <td>...</td>\n      <td>...</td>\n      <td>...</td>\n      <td>...</td>\n      <td>...</td>\n      <td>...</td>\n      <td>...</td>\n      <td>...</td>\n      <td>...</td>\n      <td>...</td>\n      <td>...</td>\n      <td>...</td>\n      <td>...</td>\n      <td>...</td>\n      <td>...</td>\n      <td>...</td>\n      <td>...</td>\n      <td>...</td>\n    </tr>\n    <tr>\n      <th>9974841</th>\n      <td>0</td>\n      <td>0</td>\n      <td>0</td>\n      <td>0</td>\n      <td>0</td>\n      <td>8</td>\n      <td>0</td>\n      <td>0</td>\n      <td>0</td>\n      <td>0</td>\n      <td>...</td>\n      <td>0</td>\n      <td>0</td>\n      <td>0</td>\n      <td>0</td>\n      <td>0</td>\n      <td>0</td>\n      <td>0</td>\n      <td>0</td>\n      <td>1</td>\n      <td>0</td>\n    </tr>\n    <tr>\n      <th>9976006</th>\n      <td>0</td>\n      <td>26</td>\n      <td>14</td>\n      <td>9</td>\n      <td>0</td>\n      <td>19</td>\n      <td>0</td>\n      <td>0</td>\n      <td>0</td>\n      <td>0</td>\n      <td>...</td>\n      <td>0</td>\n      <td>0</td>\n      <td>0</td>\n      <td>0</td>\n      <td>0</td>\n      <td>0</td>\n      <td>0</td>\n      <td>0</td>\n      <td>0</td>\n      <td>0</td>\n    </tr>\n    <tr>\n      <th>9978245</th>\n      <td>3</td>\n      <td>37</td>\n      <td>32</td>\n      <td>14</td>\n      <td>5</td>\n      <td>39</td>\n      <td>8</td>\n      <td>79</td>\n      <td>48</td>\n      <td>8</td>\n      <td>...</td>\n      <td>31</td>\n      <td>1</td>\n      <td>1</td>\n      <td>0</td>\n      <td>23</td>\n      <td>2</td>\n      <td>1</td>\n      <td>0</td>\n      <td>0</td>\n      <td>0</td>\n    </tr>\n    <tr>\n      <th>9997425</th>\n      <td>11</td>\n      <td>4</td>\n      <td>0</td>\n      <td>0</td>\n      <td>1</td>\n      <td>0</td>\n      <td>0</td>\n      <td>0</td>\n      <td>0</td>\n      <td>0</td>\n      <td>...</td>\n      <td>0</td>\n      <td>0</td>\n      <td>0</td>\n      <td>0</td>\n      <td>0</td>\n      <td>0</td>\n      <td>0</td>\n      <td>0</td>\n      <td>0</td>\n      <td>0</td>\n    </tr>\n    <tr>\n      <th>9998153</th>\n      <td>0</td>\n      <td>0</td>\n      <td>0</td>\n      <td>0</td>\n      <td>0</td>\n      <td>0</td>\n      <td>0</td>\n      <td>0</td>\n      <td>0</td>\n      <td>0</td>\n      <td>...</td>\n      <td>0</td>\n      <td>7</td>\n      <td>0</td>\n      <td>22</td>\n      <td>0</td>\n      <td>0</td>\n      <td>0</td>\n      <td>0</td>\n      <td>0</td>\n      <td>0</td>\n    </tr>\n  </tbody>\n</table>\n<p>2002 rows × 39 columns</p>\n</div>"
     },
     "metadata": {},
     "execution_count": 5
    }
   ],
   "source": [
    "transactions_per_month_df = df.groupby(['customer_id', pd.Grouper(freq='M', key='date', closed='left')])['customer_id'].count().unstack(fill_value=0)\n",
    "transactions_per_month_df"
   ]
  },
  {
   "cell_type": "code",
   "execution_count": 6,
   "metadata": {},
   "outputs": [],
   "source": [
    "transactions_per_month_df.to_csv('../data/trans_per_month.csv')"
   ]
  },
  {
   "source": [
    "# Solutions\n",
    "## 1. LSTM: Long Short Term Memory"
   ],
   "cell_type": "markdown",
   "metadata": {}
  },
  {
   "cell_type": "code",
   "execution_count": 6,
   "metadata": {},
   "outputs": [],
   "source": [
    "from tensorflow.keras import Sequential\n",
    "from tensorflow.keras.layers import Dense, LSTM\n",
    "from tensorflow.keras.metrics import RootMeanSquaredError\n",
    "\n",
    "from sklearn.model_selection import train_test_split\n",
    "from sklearn.preprocessing import MinMaxScaler\n",
    "from sklearn.metrics import mean_squared_error\n",
    "\n",
    "import math"
   ]
  },
  {
   "cell_type": "code",
   "execution_count": 10,
   "metadata": {},
   "outputs": [],
   "source": [
    "X = transactions_per_month_df.loc[:, transactions_per_month_df.columns.to_series().between('2017-01-01', prediction_start_date)].values\n",
    "y = transactions_per_month_df.loc[:, transactions_per_month_df.columns.to_series().between(prediction_start_date, prediction_end_date)].sum(axis=1).values"
   ]
  },
  {
   "cell_type": "code",
   "execution_count": 11,
   "metadata": {},
   "outputs": [
    {
     "output_type": "execute_result",
     "data": {
      "text/plain": [
       "((2002, 24), (2002,))"
      ]
     },
     "metadata": {},
     "execution_count": 11
    }
   ],
   "source": [
    "X.shape, y.shape"
   ]
  },
  {
   "cell_type": "code",
   "execution_count": 12,
   "metadata": {},
   "outputs": [],
   "source": [
    "x_scaler = MinMaxScaler()\n",
    "y_scaler = MinMaxScaler()\n",
    "\n",
    "X = x_scaler.fit_transform(X)\n",
    "y = y_scaler.fit_transform(y.reshape(-1, 1))[:, 0]"
   ]
  },
  {
   "cell_type": "code",
   "execution_count": 13,
   "metadata": {},
   "outputs": [],
   "source": [
    "X_train, X_test, y_train, y_test = train_test_split(X, y, test_size=0.2, random_state=41)"
   ]
  },
  {
   "cell_type": "code",
   "execution_count": 14,
   "metadata": {},
   "outputs": [],
   "source": [
    "X_train = X_train.reshape(X_train.shape[0], X_train.shape[1], 1)\n",
    "X_test = X_test.reshape(X_test.shape[0], X_test.shape[1], 1)"
   ]
  },
  {
   "cell_type": "code",
   "execution_count": 15,
   "metadata": {},
   "outputs": [
    {
     "output_type": "execute_result",
     "data": {
      "text/plain": [
       "(1601, 24, 1)"
      ]
     },
     "metadata": {},
     "execution_count": 15
    }
   ],
   "source": [
    "X_train.shape "
   ]
  },
  {
   "cell_type": "code",
   "execution_count": 16,
   "metadata": {},
   "outputs": [
    {
     "output_type": "stream",
     "name": "stdout",
     "text": [
      "Model: \"sequential\"\n_________________________________________________________________\nLayer (type)                 Output Shape              Param #   \n=================================================================\nlstm (LSTM)                  (None, 24, 16)            1152      \n_________________________________________________________________\nlstm_1 (LSTM)                (None, 8)                 800       \n_________________________________________________________________\ndense (Dense)                (None, 1)                 9         \n=================================================================\nTotal params: 1,961\nTrainable params: 1,961\nNon-trainable params: 0\n_________________________________________________________________\n"
     ]
    }
   ],
   "source": [
    "model = Sequential()\n",
    "model.add(LSTM(16, input_shape=(X_train.shape[1], X_train.shape[2]), return_sequences=True))\n",
    "model.add(LSTM(8, input_shape=(X_train.shape[1], X_train.shape[2])))\n",
    "model.add(Dense(1, activation='linear'))\n",
    "\n",
    "model.compile(loss='mean_squared_error', optimizer='adam')\n",
    "model.summary()"
   ]
  },
  {
   "source": [
    "model.save('../serialized models/lstm')"
   ],
   "cell_type": "code",
   "metadata": {},
   "execution_count": null,
   "outputs": []
  },
  {
   "cell_type": "code",
   "execution_count": 17,
   "metadata": {},
   "outputs": [],
   "source": [
    "history = model.fit(X_train, y_train, validation_data=(X_test, y_test), epochs=200, verbose=0)"
   ]
  },
  {
   "source": [
    "plt.plot(history.history['loss'], label='train')\n",
    "plt.plot(history.history['val_loss'], label='validation')\n",
    "plt.title('Model loss with 100 epoch')\n",
    "plt.legend()\n",
    "plt.show()"
   ],
   "cell_type": "code",
   "metadata": {},
   "execution_count": 19,
   "outputs": [
    {
     "output_type": "display_data",
     "data": {
      "text/plain": "<Figure size 432x288 with 1 Axes>",
      "image/svg+xml": "<?xml version=\"1.0\" encoding=\"utf-8\" standalone=\"no\"?>\n<!DOCTYPE svg PUBLIC \"-//W3C//DTD SVG 1.1//EN\"\n  \"http://www.w3.org/Graphics/SVG/1.1/DTD/svg11.dtd\">\n<!-- Created with matplotlib (https://matplotlib.org/) -->\n<svg height=\"263.63625pt\" version=\"1.1\" viewBox=\"0 0 397.553125 263.63625\" width=\"397.553125pt\" xmlns=\"http://www.w3.org/2000/svg\" xmlns:xlink=\"http://www.w3.org/1999/xlink\">\n <metadata>\n  <rdf:RDF xmlns:cc=\"http://creativecommons.org/ns#\" xmlns:dc=\"http://purl.org/dc/elements/1.1/\" xmlns:rdf=\"http://www.w3.org/1999/02/22-rdf-syntax-ns#\">\n   <cc:Work>\n    <dc:type rdf:resource=\"http://purl.org/dc/dcmitype/StillImage\"/>\n    <dc:date>2020-12-22T20:33:33.498659</dc:date>\n    <dc:format>image/svg+xml</dc:format>\n    <dc:creator>\n     <cc:Agent>\n      <dc:title>Matplotlib v3.3.3, https://matplotlib.org/</dc:title>\n     </cc:Agent>\n    </dc:creator>\n   </cc:Work>\n  </rdf:RDF>\n </metadata>\n <defs>\n  <style type=\"text/css\">*{stroke-linecap:butt;stroke-linejoin:round;}</style>\n </defs>\n <g id=\"figure_1\">\n  <g id=\"patch_1\">\n   <path d=\"M 0 263.63625 \nL 397.553125 263.63625 \nL 397.553125 0 \nL 0 0 \nz\n\" style=\"fill:none;\"/>\n  </g>\n  <g id=\"axes_1\">\n   <g id=\"patch_2\">\n    <path d=\"M 55.553125 239.758125 \nL 390.353125 239.758125 \nL 390.353125 22.318125 \nL 55.553125 22.318125 \nz\n\" style=\"fill:#ffffff;\"/>\n   </g>\n   <g id=\"matplotlib.axis_1\">\n    <g id=\"xtick_1\">\n     <g id=\"line2d_1\">\n      <defs>\n       <path d=\"M 0 0 \nL 0 3.5 \n\" id=\"m70776d4662\" style=\"stroke:#000000;stroke-width:0.8;\"/>\n      </defs>\n      <g>\n       <use style=\"stroke:#000000;stroke-width:0.8;\" x=\"70.771307\" xlink:href=\"#m70776d4662\" y=\"239.758125\"/>\n      </g>\n     </g>\n     <g id=\"text_1\">\n      <!-- 0 -->\n      <g transform=\"translate(67.590057 254.356563)scale(0.1 -0.1)\">\n       <defs>\n        <path d=\"M 31.78125 66.40625 \nQ 24.171875 66.40625 20.328125 58.90625 \nQ 16.5 51.421875 16.5 36.375 \nQ 16.5 21.390625 20.328125 13.890625 \nQ 24.171875 6.390625 31.78125 6.390625 \nQ 39.453125 6.390625 43.28125 13.890625 \nQ 47.125 21.390625 47.125 36.375 \nQ 47.125 51.421875 43.28125 58.90625 \nQ 39.453125 66.40625 31.78125 66.40625 \nz\nM 31.78125 74.21875 \nQ 44.046875 74.21875 50.515625 64.515625 \nQ 56.984375 54.828125 56.984375 36.375 \nQ 56.984375 17.96875 50.515625 8.265625 \nQ 44.046875 -1.421875 31.78125 -1.421875 \nQ 19.53125 -1.421875 13.0625 8.265625 \nQ 6.59375 17.96875 6.59375 36.375 \nQ 6.59375 54.828125 13.0625 64.515625 \nQ 19.53125 74.21875 31.78125 74.21875 \nz\n\" id=\"DejaVuSans-48\"/>\n       </defs>\n       <use xlink:href=\"#DejaVuSans-48\"/>\n      </g>\n     </g>\n    </g>\n    <g id=\"xtick_2\">\n     <g id=\"line2d_2\">\n      <g>\n       <use style=\"stroke:#000000;stroke-width:0.8;\" x=\"109.007945\" xlink:href=\"#m70776d4662\" y=\"239.758125\"/>\n      </g>\n     </g>\n     <g id=\"text_2\">\n      <!-- 25 -->\n      <g transform=\"translate(102.645445 254.356563)scale(0.1 -0.1)\">\n       <defs>\n        <path d=\"M 19.1875 8.296875 \nL 53.609375 8.296875 \nL 53.609375 0 \nL 7.328125 0 \nL 7.328125 8.296875 \nQ 12.9375 14.109375 22.625 23.890625 \nQ 32.328125 33.6875 34.8125 36.53125 \nQ 39.546875 41.84375 41.421875 45.53125 \nQ 43.3125 49.21875 43.3125 52.78125 \nQ 43.3125 58.59375 39.234375 62.25 \nQ 35.15625 65.921875 28.609375 65.921875 \nQ 23.96875 65.921875 18.8125 64.3125 \nQ 13.671875 62.703125 7.8125 59.421875 \nL 7.8125 69.390625 \nQ 13.765625 71.78125 18.9375 73 \nQ 24.125 74.21875 28.421875 74.21875 \nQ 39.75 74.21875 46.484375 68.546875 \nQ 53.21875 62.890625 53.21875 53.421875 \nQ 53.21875 48.921875 51.53125 44.890625 \nQ 49.859375 40.875 45.40625 35.40625 \nQ 44.1875 33.984375 37.640625 27.21875 \nQ 31.109375 20.453125 19.1875 8.296875 \nz\n\" id=\"DejaVuSans-50\"/>\n        <path d=\"M 10.796875 72.90625 \nL 49.515625 72.90625 \nL 49.515625 64.59375 \nL 19.828125 64.59375 \nL 19.828125 46.734375 \nQ 21.96875 47.46875 24.109375 47.828125 \nQ 26.265625 48.1875 28.421875 48.1875 \nQ 40.625 48.1875 47.75 41.5 \nQ 54.890625 34.8125 54.890625 23.390625 \nQ 54.890625 11.625 47.5625 5.09375 \nQ 40.234375 -1.421875 26.90625 -1.421875 \nQ 22.3125 -1.421875 17.546875 -0.640625 \nQ 12.796875 0.140625 7.71875 1.703125 \nL 7.71875 11.625 \nQ 12.109375 9.234375 16.796875 8.0625 \nQ 21.484375 6.890625 26.703125 6.890625 \nQ 35.15625 6.890625 40.078125 11.328125 \nQ 45.015625 15.765625 45.015625 23.390625 \nQ 45.015625 31 40.078125 35.4375 \nQ 35.15625 39.890625 26.703125 39.890625 \nQ 22.75 39.890625 18.8125 39.015625 \nQ 14.890625 38.140625 10.796875 36.28125 \nz\n\" id=\"DejaVuSans-53\"/>\n       </defs>\n       <use xlink:href=\"#DejaVuSans-50\"/>\n       <use x=\"63.623047\" xlink:href=\"#DejaVuSans-53\"/>\n      </g>\n     </g>\n    </g>\n    <g id=\"xtick_3\">\n     <g id=\"line2d_3\">\n      <g>\n       <use style=\"stroke:#000000;stroke-width:0.8;\" x=\"147.244582\" xlink:href=\"#m70776d4662\" y=\"239.758125\"/>\n      </g>\n     </g>\n     <g id=\"text_3\">\n      <!-- 50 -->\n      <g transform=\"translate(140.882082 254.356563)scale(0.1 -0.1)\">\n       <use xlink:href=\"#DejaVuSans-53\"/>\n       <use x=\"63.623047\" xlink:href=\"#DejaVuSans-48\"/>\n      </g>\n     </g>\n    </g>\n    <g id=\"xtick_4\">\n     <g id=\"line2d_4\">\n      <g>\n       <use style=\"stroke:#000000;stroke-width:0.8;\" x=\"185.48122\" xlink:href=\"#m70776d4662\" y=\"239.758125\"/>\n      </g>\n     </g>\n     <g id=\"text_4\">\n      <!-- 75 -->\n      <g transform=\"translate(179.11872 254.356563)scale(0.1 -0.1)\">\n       <defs>\n        <path d=\"M 8.203125 72.90625 \nL 55.078125 72.90625 \nL 55.078125 68.703125 \nL 28.609375 0 \nL 18.3125 0 \nL 43.21875 64.59375 \nL 8.203125 64.59375 \nz\n\" id=\"DejaVuSans-55\"/>\n       </defs>\n       <use xlink:href=\"#DejaVuSans-55\"/>\n       <use x=\"63.623047\" xlink:href=\"#DejaVuSans-53\"/>\n      </g>\n     </g>\n    </g>\n    <g id=\"xtick_5\">\n     <g id=\"line2d_5\">\n      <g>\n       <use style=\"stroke:#000000;stroke-width:0.8;\" x=\"223.717858\" xlink:href=\"#m70776d4662\" y=\"239.758125\"/>\n      </g>\n     </g>\n     <g id=\"text_5\">\n      <!-- 100 -->\n      <g transform=\"translate(214.174108 254.356563)scale(0.1 -0.1)\">\n       <defs>\n        <path d=\"M 12.40625 8.296875 \nL 28.515625 8.296875 \nL 28.515625 63.921875 \nL 10.984375 60.40625 \nL 10.984375 69.390625 \nL 28.421875 72.90625 \nL 38.28125 72.90625 \nL 38.28125 8.296875 \nL 54.390625 8.296875 \nL 54.390625 0 \nL 12.40625 0 \nz\n\" id=\"DejaVuSans-49\"/>\n       </defs>\n       <use xlink:href=\"#DejaVuSans-49\"/>\n       <use x=\"63.623047\" xlink:href=\"#DejaVuSans-48\"/>\n       <use x=\"127.246094\" xlink:href=\"#DejaVuSans-48\"/>\n      </g>\n     </g>\n    </g>\n    <g id=\"xtick_6\">\n     <g id=\"line2d_6\">\n      <g>\n       <use style=\"stroke:#000000;stroke-width:0.8;\" x=\"261.954495\" xlink:href=\"#m70776d4662\" y=\"239.758125\"/>\n      </g>\n     </g>\n     <g id=\"text_6\">\n      <!-- 125 -->\n      <g transform=\"translate(252.410745 254.356563)scale(0.1 -0.1)\">\n       <use xlink:href=\"#DejaVuSans-49\"/>\n       <use x=\"63.623047\" xlink:href=\"#DejaVuSans-50\"/>\n       <use x=\"127.246094\" xlink:href=\"#DejaVuSans-53\"/>\n      </g>\n     </g>\n    </g>\n    <g id=\"xtick_7\">\n     <g id=\"line2d_7\">\n      <g>\n       <use style=\"stroke:#000000;stroke-width:0.8;\" x=\"300.191133\" xlink:href=\"#m70776d4662\" y=\"239.758125\"/>\n      </g>\n     </g>\n     <g id=\"text_7\">\n      <!-- 150 -->\n      <g transform=\"translate(290.647383 254.356563)scale(0.1 -0.1)\">\n       <use xlink:href=\"#DejaVuSans-49\"/>\n       <use x=\"63.623047\" xlink:href=\"#DejaVuSans-53\"/>\n       <use x=\"127.246094\" xlink:href=\"#DejaVuSans-48\"/>\n      </g>\n     </g>\n    </g>\n    <g id=\"xtick_8\">\n     <g id=\"line2d_8\">\n      <g>\n       <use style=\"stroke:#000000;stroke-width:0.8;\" x=\"338.427771\" xlink:href=\"#m70776d4662\" y=\"239.758125\"/>\n      </g>\n     </g>\n     <g id=\"text_8\">\n      <!-- 175 -->\n      <g transform=\"translate(328.884021 254.356563)scale(0.1 -0.1)\">\n       <use xlink:href=\"#DejaVuSans-49\"/>\n       <use x=\"63.623047\" xlink:href=\"#DejaVuSans-55\"/>\n       <use x=\"127.246094\" xlink:href=\"#DejaVuSans-53\"/>\n      </g>\n     </g>\n    </g>\n    <g id=\"xtick_9\">\n     <g id=\"line2d_9\">\n      <g>\n       <use style=\"stroke:#000000;stroke-width:0.8;\" x=\"376.664409\" xlink:href=\"#m70776d4662\" y=\"239.758125\"/>\n      </g>\n     </g>\n     <g id=\"text_9\">\n      <!-- 200 -->\n      <g transform=\"translate(367.120659 254.356563)scale(0.1 -0.1)\">\n       <use xlink:href=\"#DejaVuSans-50\"/>\n       <use x=\"63.623047\" xlink:href=\"#DejaVuSans-48\"/>\n       <use x=\"127.246094\" xlink:href=\"#DejaVuSans-48\"/>\n      </g>\n     </g>\n    </g>\n   </g>\n   <g id=\"matplotlib.axis_2\">\n    <g id=\"ytick_1\">\n     <g id=\"line2d_10\">\n      <defs>\n       <path d=\"M 0 0 \nL -3.5 0 \n\" id=\"m8b537f0d84\" style=\"stroke:#000000;stroke-width:0.8;\"/>\n      </defs>\n      <g>\n       <use style=\"stroke:#000000;stroke-width:0.8;\" x=\"55.553125\" xlink:href=\"#m8b537f0d84\" y=\"218.76878\"/>\n      </g>\n     </g>\n     <g id=\"text_10\">\n      <!-- 0.00025 -->\n      <g transform=\"translate(7.2 222.567999)scale(0.1 -0.1)\">\n       <defs>\n        <path d=\"M 10.6875 12.40625 \nL 21 12.40625 \nL 21 0 \nL 10.6875 0 \nz\n\" id=\"DejaVuSans-46\"/>\n       </defs>\n       <use xlink:href=\"#DejaVuSans-48\"/>\n       <use x=\"63.623047\" xlink:href=\"#DejaVuSans-46\"/>\n       <use x=\"95.410156\" xlink:href=\"#DejaVuSans-48\"/>\n       <use x=\"159.033203\" xlink:href=\"#DejaVuSans-48\"/>\n       <use x=\"222.65625\" xlink:href=\"#DejaVuSans-48\"/>\n       <use x=\"286.279297\" xlink:href=\"#DejaVuSans-50\"/>\n       <use x=\"349.902344\" xlink:href=\"#DejaVuSans-53\"/>\n      </g>\n     </g>\n    </g>\n    <g id=\"ytick_2\">\n     <g id=\"line2d_11\">\n      <g>\n       <use style=\"stroke:#000000;stroke-width:0.8;\" x=\"55.553125\" xlink:href=\"#m8b537f0d84\" y=\"190.366588\"/>\n      </g>\n     </g>\n     <g id=\"text_11\">\n      <!-- 0.00050 -->\n      <g transform=\"translate(7.2 194.165807)scale(0.1 -0.1)\">\n       <use xlink:href=\"#DejaVuSans-48\"/>\n       <use x=\"63.623047\" xlink:href=\"#DejaVuSans-46\"/>\n       <use x=\"95.410156\" xlink:href=\"#DejaVuSans-48\"/>\n       <use x=\"159.033203\" xlink:href=\"#DejaVuSans-48\"/>\n       <use x=\"222.65625\" xlink:href=\"#DejaVuSans-48\"/>\n       <use x=\"286.279297\" xlink:href=\"#DejaVuSans-53\"/>\n       <use x=\"349.902344\" xlink:href=\"#DejaVuSans-48\"/>\n      </g>\n     </g>\n    </g>\n    <g id=\"ytick_3\">\n     <g id=\"line2d_12\">\n      <g>\n       <use style=\"stroke:#000000;stroke-width:0.8;\" x=\"55.553125\" xlink:href=\"#m8b537f0d84\" y=\"161.964396\"/>\n      </g>\n     </g>\n     <g id=\"text_12\">\n      <!-- 0.00075 -->\n      <g transform=\"translate(7.2 165.763615)scale(0.1 -0.1)\">\n       <use xlink:href=\"#DejaVuSans-48\"/>\n       <use x=\"63.623047\" xlink:href=\"#DejaVuSans-46\"/>\n       <use x=\"95.410156\" xlink:href=\"#DejaVuSans-48\"/>\n       <use x=\"159.033203\" xlink:href=\"#DejaVuSans-48\"/>\n       <use x=\"222.65625\" xlink:href=\"#DejaVuSans-48\"/>\n       <use x=\"286.279297\" xlink:href=\"#DejaVuSans-55\"/>\n       <use x=\"349.902344\" xlink:href=\"#DejaVuSans-53\"/>\n      </g>\n     </g>\n    </g>\n    <g id=\"ytick_4\">\n     <g id=\"line2d_13\">\n      <g>\n       <use style=\"stroke:#000000;stroke-width:0.8;\" x=\"55.553125\" xlink:href=\"#m8b537f0d84\" y=\"133.562204\"/>\n      </g>\n     </g>\n     <g id=\"text_13\">\n      <!-- 0.00100 -->\n      <g transform=\"translate(7.2 137.361423)scale(0.1 -0.1)\">\n       <use xlink:href=\"#DejaVuSans-48\"/>\n       <use x=\"63.623047\" xlink:href=\"#DejaVuSans-46\"/>\n       <use x=\"95.410156\" xlink:href=\"#DejaVuSans-48\"/>\n       <use x=\"159.033203\" xlink:href=\"#DejaVuSans-48\"/>\n       <use x=\"222.65625\" xlink:href=\"#DejaVuSans-49\"/>\n       <use x=\"286.279297\" xlink:href=\"#DejaVuSans-48\"/>\n       <use x=\"349.902344\" xlink:href=\"#DejaVuSans-48\"/>\n      </g>\n     </g>\n    </g>\n    <g id=\"ytick_5\">\n     <g id=\"line2d_14\">\n      <g>\n       <use style=\"stroke:#000000;stroke-width:0.8;\" x=\"55.553125\" xlink:href=\"#m8b537f0d84\" y=\"105.160012\"/>\n      </g>\n     </g>\n     <g id=\"text_14\">\n      <!-- 0.00125 -->\n      <g transform=\"translate(7.2 108.959231)scale(0.1 -0.1)\">\n       <use xlink:href=\"#DejaVuSans-48\"/>\n       <use x=\"63.623047\" xlink:href=\"#DejaVuSans-46\"/>\n       <use x=\"95.410156\" xlink:href=\"#DejaVuSans-48\"/>\n       <use x=\"159.033203\" xlink:href=\"#DejaVuSans-48\"/>\n       <use x=\"222.65625\" xlink:href=\"#DejaVuSans-49\"/>\n       <use x=\"286.279297\" xlink:href=\"#DejaVuSans-50\"/>\n       <use x=\"349.902344\" xlink:href=\"#DejaVuSans-53\"/>\n      </g>\n     </g>\n    </g>\n    <g id=\"ytick_6\">\n     <g id=\"line2d_15\">\n      <g>\n       <use style=\"stroke:#000000;stroke-width:0.8;\" x=\"55.553125\" xlink:href=\"#m8b537f0d84\" y=\"76.757821\"/>\n      </g>\n     </g>\n     <g id=\"text_15\">\n      <!-- 0.00150 -->\n      <g transform=\"translate(7.2 80.557039)scale(0.1 -0.1)\">\n       <use xlink:href=\"#DejaVuSans-48\"/>\n       <use x=\"63.623047\" xlink:href=\"#DejaVuSans-46\"/>\n       <use x=\"95.410156\" xlink:href=\"#DejaVuSans-48\"/>\n       <use x=\"159.033203\" xlink:href=\"#DejaVuSans-48\"/>\n       <use x=\"222.65625\" xlink:href=\"#DejaVuSans-49\"/>\n       <use x=\"286.279297\" xlink:href=\"#DejaVuSans-53\"/>\n       <use x=\"349.902344\" xlink:href=\"#DejaVuSans-48\"/>\n      </g>\n     </g>\n    </g>\n    <g id=\"ytick_7\">\n     <g id=\"line2d_16\">\n      <g>\n       <use style=\"stroke:#000000;stroke-width:0.8;\" x=\"55.553125\" xlink:href=\"#m8b537f0d84\" y=\"48.355629\"/>\n      </g>\n     </g>\n     <g id=\"text_16\">\n      <!-- 0.00175 -->\n      <g transform=\"translate(7.2 52.154848)scale(0.1 -0.1)\">\n       <use xlink:href=\"#DejaVuSans-48\"/>\n       <use x=\"63.623047\" xlink:href=\"#DejaVuSans-46\"/>\n       <use x=\"95.410156\" xlink:href=\"#DejaVuSans-48\"/>\n       <use x=\"159.033203\" xlink:href=\"#DejaVuSans-48\"/>\n       <use x=\"222.65625\" xlink:href=\"#DejaVuSans-49\"/>\n       <use x=\"286.279297\" xlink:href=\"#DejaVuSans-55\"/>\n       <use x=\"349.902344\" xlink:href=\"#DejaVuSans-53\"/>\n      </g>\n     </g>\n    </g>\n   </g>\n   <g id=\"line2d_17\">\n    <path clip-path=\"url(#p5f316120e5)\" d=\"M 70.771307 32.201761 \nL 72.300772 138.065849 \nL 73.830238 163.768672 \nL 75.359703 173.22305 \nL 76.889169 172.345082 \nL 79.9481 182.35505 \nL 81.477565 177.823315 \nL 83.007031 186.75737 \nL 84.536496 189.253297 \nL 86.065962 190.468305 \nL 87.595427 184.54183 \nL 89.124893 188.939647 \nL 90.654358 196.119971 \nL 92.183824 192.968438 \nL 93.713289 189.491295 \nL 95.242755 194.26246 \nL 96.77222 190.940135 \nL 98.301686 196.811888 \nL 99.831151 197.658938 \nL 101.360617 198.811686 \nL 104.419548 198.169504 \nL 105.949014 196.783083 \nL 109.007945 197.536874 \nL 110.53741 200.349648 \nL 112.066876 144.345122 \nL 113.596341 198.038753 \nL 116.655272 201.061848 \nL 118.184738 201.959813 \nL 119.714203 202.219429 \nL 121.243669 202.033841 \nL 122.773134 200.989393 \nL 124.3026 202.759799 \nL 125.832065 202.425623 \nL 127.361531 201.970262 \nL 128.890996 202.488677 \nL 130.420462 201.847007 \nL 131.949927 203.19753 \nL 133.479393 203.870882 \nL 135.008858 203.635195 \nL 136.538324 199.851204 \nL 138.067789 200.515718 \nL 139.597255 203.62964 \nL 141.12672 202.380556 \nL 142.656186 203.688445 \nL 144.185651 204.62554 \nL 145.715117 204.112739 \nL 147.244582 203.726582 \nL 150.303513 203.786511 \nL 151.832979 204.772545 \nL 154.89191 203.719063 \nL 156.421375 203.883222 \nL 157.950841 205.056307 \nL 159.480306 204.751496 \nL 161.009772 205.13431 \nL 162.539237 203.847234 \nL 164.068703 205.320638 \nL 165.598168 205.070978 \nL 167.127634 202.623401 \nL 168.657099 203.816022 \nL 170.186565 204.447276 \nL 171.71603 204.932395 \nL 173.245496 205.985493 \nL 174.774961 205.18349 \nL 176.304427 205.071057 \nL 177.833892 205.113238 \nL 179.363358 205.924892 \nL 180.892823 205.846162 \nL 182.422289 205.98371 \nL 183.951755 204.900369 \nL 185.48122 206.065816 \nL 187.010686 205.208844 \nL 188.540151 205.831022 \nL 190.069617 204.791914 \nL 191.599082 205.641777 \nL 193.128548 204.392045 \nL 194.658013 205.264462 \nL 196.187479 204.676396 \nL 197.716944 206.063717 \nL 199.24641 205.692468 \nL 200.775875 206.007897 \nL 202.305341 205.942105 \nL 203.834806 205.745438 \nL 205.364272 204.765766 \nL 206.893737 206.440037 \nL 208.423203 205.663011 \nL 209.952668 206.423941 \nL 211.482134 206.448316 \nL 213.011599 206.176814 \nL 214.541065 204.953173 \nL 216.07053 207.138806 \nL 217.599996 207.354528 \nL 219.129461 206.669865 \nL 220.658927 206.662455 \nL 222.188392 207.31246 \nL 223.717858 207.372344 \nL 226.776789 206.671942 \nL 228.306254 204.444849 \nL 229.83572 206.339567 \nL 231.365185 205.659457 \nL 232.894651 206.979392 \nL 234.424116 206.684169 \nL 235.953582 207.604149 \nL 237.483047 206.432006 \nL 239.012513 207.157041 \nL 242.071444 206.533104 \nL 243.600909 207.144681 \nL 245.130375 207.367407 \nL 246.65984 195.309054 \nL 248.189306 204.217497 \nL 249.718771 204.879072 \nL 251.248237 207.353262 \nL 252.777702 206.869723 \nL 254.307168 206.153953 \nL 255.836633 207.375098 \nL 257.366099 207.334647 \nL 258.895564 207.552641 \nL 260.42503 206.704308 \nL 261.954495 207.579777 \nL 263.483961 206.796135 \nL 265.013427 207.894786 \nL 266.542892 207.209547 \nL 268.072358 207.124912 \nL 269.601823 202.165898 \nL 271.131289 206.487299 \nL 272.660754 207.253566 \nL 274.19022 206.13097 \nL 275.719685 207.709317 \nL 277.249151 207.503775 \nL 280.308082 207.696045 \nL 281.837547 205.116062 \nL 283.367013 205.984977 \nL 284.896478 205.843732 \nL 286.425944 207.831702 \nL 287.955409 208.204359 \nL 289.484875 206.615084 \nL 291.01434 207.577942 \nL 292.543806 207.530167 \nL 294.073271 208.013861 \nL 295.602737 206.359601 \nL 297.132202 207.135823 \nL 300.191133 206.868682 \nL 301.720599 207.704705 \nL 304.77953 207.279551 \nL 306.308995 208.157087 \nL 307.838461 208.058058 \nL 309.367926 208.324624 \nL 310.897392 207.822669 \nL 312.426857 206.919403 \nL 313.956323 206.328616 \nL 315.485788 207.295803 \nL 317.015254 207.759932 \nL 318.544719 206.814869 \nL 320.074185 207.666227 \nL 321.60365 207.909645 \nL 323.133116 207.856831 \nL 324.662581 208.355933 \nL 326.192047 206.386 \nL 327.721512 207.295855 \nL 329.250978 205.507076 \nL 330.780443 207.530071 \nL 332.309909 207.801613 \nL 333.839374 207.713873 \nL 335.36884 208.242939 \nL 336.898305 207.655627 \nL 338.427771 207.22355 \nL 339.957236 207.498243 \nL 341.486702 208.36163 \nL 343.016167 207.796683 \nL 344.545633 208.368398 \nL 346.075099 208.228579 \nL 347.604564 205.197003 \nL 349.13403 207.937651 \nL 355.251892 208.415168 \nL 358.310823 208.222614 \nL 359.840288 208.295858 \nL 361.369754 208.164886 \nL 362.899219 207.56258 \nL 364.428685 206.096093 \nL 367.487616 208.884777 \nL 369.017081 200.163829 \nL 370.546547 207.543651 \nL 372.076012 207.736966 \nL 373.605478 208.719312 \nL 375.134943 208.156984 \nL 375.134943 208.156984 \n\" style=\"fill:none;stroke:#1f77b4;stroke-linecap:square;stroke-width:1.5;\"/>\n   </g>\n   <g id=\"line2d_18\">\n    <path clip-path=\"url(#p5f316120e5)\" d=\"M 70.771307 168.542168 \nL 72.300772 207.846452 \nL 73.830238 216.510489 \nL 75.359703 216.370494 \nL 76.889169 211.461037 \nL 78.418634 217.994196 \nL 79.9481 211.540637 \nL 81.477565 221.781614 \nL 83.007031 215.459293 \nL 84.536496 220.088574 \nL 86.065962 216.402117 \nL 87.595427 218.323948 \nL 89.124893 219.849791 \nL 90.654358 219.633118 \nL 92.183824 207.423342 \nL 95.242755 214.721184 \nL 96.77222 219.27981 \nL 98.301686 220.267062 \nL 99.831151 220.78195 \nL 101.360617 221.970234 \nL 102.890083 217.465538 \nL 104.419548 222.448828 \nL 105.949014 206.895672 \nL 107.478479 220.030533 \nL 109.007945 221.763126 \nL 110.53741 194.943113 \nL 112.066876 224.791117 \nL 113.596341 222.894146 \nL 115.125807 223.963792 \nL 118.184738 224.214281 \nL 119.714203 222.616328 \nL 121.243669 223.565261 \nL 122.773134 222.742988 \nL 124.3026 224.405033 \nL 125.832065 223.764683 \nL 127.361531 223.448839 \nL 128.890996 224.176574 \nL 130.420462 224.422615 \nL 131.949927 224.521833 \nL 133.479393 224.230649 \nL 135.008858 226.180081 \nL 136.538324 225.964148 \nL 138.067789 223.512409 \nL 139.597255 222.768161 \nL 141.12672 223.995481 \nL 142.656186 224.180495 \nL 144.185651 225.2998 \nL 145.715117 226.011227 \nL 147.244582 225.363877 \nL 148.774048 222.387311 \nL 150.303513 225.084343 \nL 151.832979 226.214212 \nL 153.362444 225.795676 \nL 154.89191 225.146645 \nL 156.421375 225.287511 \nL 157.950841 226.638962 \nL 159.480306 224.986581 \nL 161.009772 226.172066 \nL 162.539237 227.658537 \nL 164.068703 224.971544 \nL 165.598168 227.299974 \nL 167.127634 226.276755 \nL 168.657099 225.958253 \nL 170.186565 226.157791 \nL 171.71603 224.530739 \nL 173.245496 226.613973 \nL 174.774961 226.429829 \nL 176.304427 224.097631 \nL 177.833892 225.7546 \nL 179.363358 226.968187 \nL 180.892823 227.742985 \nL 182.422289 228.109193 \nL 183.951755 224.154599 \nL 185.48122 226.550443 \nL 187.010686 225.484987 \nL 188.540151 224.908276 \nL 190.069617 227.430075 \nL 191.599082 226.04042 \nL 194.658013 227.096748 \nL 196.187479 226.084131 \nL 197.716944 223.893571 \nL 199.24641 228.020193 \nL 200.775875 227.539953 \nL 202.305341 228.528658 \nL 203.834806 227.833195 \nL 205.364272 224.542596 \nL 206.893737 225.71984 \nL 208.423203 226.321283 \nL 209.952668 227.519079 \nL 211.482134 225.18439 \nL 213.011599 228.177339 \nL 214.541065 223.951494 \nL 216.07053 227.542057 \nL 217.599996 225.815135 \nL 219.129461 227.951543 \nL 220.658927 226.589861 \nL 222.188392 227.645496 \nL 223.717858 227.738846 \nL 225.247323 228.41216 \nL 226.776789 227.533689 \nL 228.306254 227.220244 \nL 229.83572 224.773414 \nL 231.365185 226.382366 \nL 232.894651 226.205997 \nL 234.424116 227.157742 \nL 235.953582 227.357743 \nL 237.483047 226.972229 \nL 239.012513 225.952235 \nL 240.541978 226.304513 \nL 242.071444 225.967372 \nL 243.600909 226.776644 \nL 245.130375 224.060886 \nL 246.65984 224.874856 \nL 248.189306 228.216714 \nL 249.718771 226.219398 \nL 251.248237 226.481467 \nL 252.777702 225.532652 \nL 254.307168 227.94838 \nL 255.836633 227.465809 \nL 257.366099 227.442151 \nL 258.895564 224.942002 \nL 260.42503 228.993412 \nL 261.954495 225.741745 \nL 263.483961 227.54189 \nL 265.013427 226.123731 \nL 266.542892 227.779851 \nL 268.072358 209.101253 \nL 269.601823 226.322511 \nL 271.131289 224.619342 \nL 272.660754 228.6854 \nL 274.19022 226.367676 \nL 275.719685 227.769667 \nL 277.249151 224.869636 \nL 278.778616 226.101634 \nL 280.308082 225.160914 \nL 281.837547 228.268471 \nL 283.367013 222.927332 \nL 284.896478 227.599087 \nL 286.425944 227.18627 \nL 287.955409 224.691547 \nL 289.484875 226.685912 \nL 291.01434 225.549924 \nL 292.543806 225.514607 \nL 294.073271 229.153889 \nL 295.602737 228.796087 \nL 297.132202 226.479664 \nL 298.661668 229.662061 \nL 300.191133 228.65908 \nL 301.720599 226.770914 \nL 303.250064 228.369128 \nL 304.77953 226.348798 \nL 306.308995 225.747229 \nL 307.838461 228.313966 \nL 309.367926 223.619911 \nL 310.897392 224.259002 \nL 312.426857 222.911336 \nL 313.956323 226.340065 \nL 315.485788 227.768743 \nL 317.015254 224.738596 \nL 318.544719 225.376584 \nL 320.074185 225.825879 \nL 321.60365 225.355507 \nL 323.133116 226.344268 \nL 324.662581 227.020604 \nL 326.192047 222.961397 \nL 327.721512 224.723909 \nL 329.250978 225.706262 \nL 330.780443 222.106941 \nL 332.309909 229.308524 \nL 333.839374 225.380919 \nL 335.36884 226.105494 \nL 336.898305 223.297392 \nL 338.427771 223.81402 \nL 339.957236 228.093477 \nL 341.486702 226.789822 \nL 343.016167 225.712613 \nL 344.545633 227.548226 \nL 346.075099 225.62289 \nL 347.604564 225.756875 \nL 349.13403 223.660731 \nL 350.663495 227.839739 \nL 353.722426 227.141952 \nL 355.251892 227.389929 \nL 356.781357 226.568209 \nL 358.310823 227.429584 \nL 359.840288 225.05005 \nL 361.369754 227.363197 \nL 362.899219 227.00527 \nL 364.428685 224.473257 \nL 365.95815 227.752984 \nL 367.487616 223.635837 \nL 369.017081 227.805365 \nL 370.546547 225.472628 \nL 372.076012 229.874489 \nL 373.605478 227.384022 \nL 375.134943 223.911512 \nL 375.134943 223.911512 \n\" style=\"fill:none;stroke:#ff7f0e;stroke-linecap:square;stroke-width:1.5;\"/>\n   </g>\n   <g id=\"patch_3\">\n    <path d=\"M 55.553125 239.758125 \nL 55.553125 22.318125 \n\" style=\"fill:none;stroke:#000000;stroke-linecap:square;stroke-linejoin:miter;stroke-width:0.8;\"/>\n   </g>\n   <g id=\"patch_4\">\n    <path d=\"M 390.353125 239.758125 \nL 390.353125 22.318125 \n\" style=\"fill:none;stroke:#000000;stroke-linecap:square;stroke-linejoin:miter;stroke-width:0.8;\"/>\n   </g>\n   <g id=\"patch_5\">\n    <path d=\"M 55.553125 239.758125 \nL 390.353125 239.758125 \n\" style=\"fill:none;stroke:#000000;stroke-linecap:square;stroke-linejoin:miter;stroke-width:0.8;\"/>\n   </g>\n   <g id=\"patch_6\">\n    <path d=\"M 55.553125 22.318125 \nL 390.353125 22.318125 \n\" style=\"fill:none;stroke:#000000;stroke-linecap:square;stroke-linejoin:miter;stroke-width:0.8;\"/>\n   </g>\n   <g id=\"text_17\">\n    <!-- Model loss with 100 epoch -->\n    <g transform=\"translate(143.265625 16.318125)scale(0.12 -0.12)\">\n     <defs>\n      <path d=\"M 9.8125 72.90625 \nL 24.515625 72.90625 \nL 43.109375 23.296875 \nL 61.8125 72.90625 \nL 76.515625 72.90625 \nL 76.515625 0 \nL 66.890625 0 \nL 66.890625 64.015625 \nL 48.09375 14.015625 \nL 38.1875 14.015625 \nL 19.390625 64.015625 \nL 19.390625 0 \nL 9.8125 0 \nz\n\" id=\"DejaVuSans-77\"/>\n      <path d=\"M 30.609375 48.390625 \nQ 23.390625 48.390625 19.1875 42.75 \nQ 14.984375 37.109375 14.984375 27.296875 \nQ 14.984375 17.484375 19.15625 11.84375 \nQ 23.34375 6.203125 30.609375 6.203125 \nQ 37.796875 6.203125 41.984375 11.859375 \nQ 46.1875 17.53125 46.1875 27.296875 \nQ 46.1875 37.015625 41.984375 42.703125 \nQ 37.796875 48.390625 30.609375 48.390625 \nz\nM 30.609375 56 \nQ 42.328125 56 49.015625 48.375 \nQ 55.71875 40.765625 55.71875 27.296875 \nQ 55.71875 13.875 49.015625 6.21875 \nQ 42.328125 -1.421875 30.609375 -1.421875 \nQ 18.84375 -1.421875 12.171875 6.21875 \nQ 5.515625 13.875 5.515625 27.296875 \nQ 5.515625 40.765625 12.171875 48.375 \nQ 18.84375 56 30.609375 56 \nz\n\" id=\"DejaVuSans-111\"/>\n      <path d=\"M 45.40625 46.390625 \nL 45.40625 75.984375 \nL 54.390625 75.984375 \nL 54.390625 0 \nL 45.40625 0 \nL 45.40625 8.203125 \nQ 42.578125 3.328125 38.25 0.953125 \nQ 33.9375 -1.421875 27.875 -1.421875 \nQ 17.96875 -1.421875 11.734375 6.484375 \nQ 5.515625 14.40625 5.515625 27.296875 \nQ 5.515625 40.1875 11.734375 48.09375 \nQ 17.96875 56 27.875 56 \nQ 33.9375 56 38.25 53.625 \nQ 42.578125 51.265625 45.40625 46.390625 \nz\nM 14.796875 27.296875 \nQ 14.796875 17.390625 18.875 11.75 \nQ 22.953125 6.109375 30.078125 6.109375 \nQ 37.203125 6.109375 41.296875 11.75 \nQ 45.40625 17.390625 45.40625 27.296875 \nQ 45.40625 37.203125 41.296875 42.84375 \nQ 37.203125 48.484375 30.078125 48.484375 \nQ 22.953125 48.484375 18.875 42.84375 \nQ 14.796875 37.203125 14.796875 27.296875 \nz\n\" id=\"DejaVuSans-100\"/>\n      <path d=\"M 56.203125 29.59375 \nL 56.203125 25.203125 \nL 14.890625 25.203125 \nQ 15.484375 15.921875 20.484375 11.0625 \nQ 25.484375 6.203125 34.421875 6.203125 \nQ 39.59375 6.203125 44.453125 7.46875 \nQ 49.3125 8.734375 54.109375 11.28125 \nL 54.109375 2.78125 \nQ 49.265625 0.734375 44.1875 -0.34375 \nQ 39.109375 -1.421875 33.890625 -1.421875 \nQ 20.796875 -1.421875 13.15625 6.1875 \nQ 5.515625 13.8125 5.515625 26.8125 \nQ 5.515625 40.234375 12.765625 48.109375 \nQ 20.015625 56 32.328125 56 \nQ 43.359375 56 49.78125 48.890625 \nQ 56.203125 41.796875 56.203125 29.59375 \nz\nM 47.21875 32.234375 \nQ 47.125 39.59375 43.09375 43.984375 \nQ 39.0625 48.390625 32.421875 48.390625 \nQ 24.90625 48.390625 20.390625 44.140625 \nQ 15.875 39.890625 15.1875 32.171875 \nz\n\" id=\"DejaVuSans-101\"/>\n      <path d=\"M 9.421875 75.984375 \nL 18.40625 75.984375 \nL 18.40625 0 \nL 9.421875 0 \nz\n\" id=\"DejaVuSans-108\"/>\n      <path id=\"DejaVuSans-32\"/>\n      <path d=\"M 44.28125 53.078125 \nL 44.28125 44.578125 \nQ 40.484375 46.53125 36.375 47.5 \nQ 32.28125 48.484375 27.875 48.484375 \nQ 21.1875 48.484375 17.84375 46.4375 \nQ 14.5 44.390625 14.5 40.28125 \nQ 14.5 37.15625 16.890625 35.375 \nQ 19.28125 33.59375 26.515625 31.984375 \nL 29.59375 31.296875 \nQ 39.15625 29.25 43.1875 25.515625 \nQ 47.21875 21.78125 47.21875 15.09375 \nQ 47.21875 7.46875 41.1875 3.015625 \nQ 35.15625 -1.421875 24.609375 -1.421875 \nQ 20.21875 -1.421875 15.453125 -0.5625 \nQ 10.6875 0.296875 5.421875 2 \nL 5.421875 11.28125 \nQ 10.40625 8.6875 15.234375 7.390625 \nQ 20.0625 6.109375 24.8125 6.109375 \nQ 31.15625 6.109375 34.5625 8.28125 \nQ 37.984375 10.453125 37.984375 14.40625 \nQ 37.984375 18.0625 35.515625 20.015625 \nQ 33.0625 21.96875 24.703125 23.78125 \nL 21.578125 24.515625 \nQ 13.234375 26.265625 9.515625 29.90625 \nQ 5.8125 33.546875 5.8125 39.890625 \nQ 5.8125 47.609375 11.28125 51.796875 \nQ 16.75 56 26.8125 56 \nQ 31.78125 56 36.171875 55.265625 \nQ 40.578125 54.546875 44.28125 53.078125 \nz\n\" id=\"DejaVuSans-115\"/>\n      <path d=\"M 4.203125 54.6875 \nL 13.1875 54.6875 \nL 24.421875 12.015625 \nL 35.59375 54.6875 \nL 46.1875 54.6875 \nL 57.421875 12.015625 \nL 68.609375 54.6875 \nL 77.59375 54.6875 \nL 63.28125 0 \nL 52.6875 0 \nL 40.921875 44.828125 \nL 29.109375 0 \nL 18.5 0 \nz\n\" id=\"DejaVuSans-119\"/>\n      <path d=\"M 9.421875 54.6875 \nL 18.40625 54.6875 \nL 18.40625 0 \nL 9.421875 0 \nz\nM 9.421875 75.984375 \nL 18.40625 75.984375 \nL 18.40625 64.59375 \nL 9.421875 64.59375 \nz\n\" id=\"DejaVuSans-105\"/>\n      <path d=\"M 18.3125 70.21875 \nL 18.3125 54.6875 \nL 36.8125 54.6875 \nL 36.8125 47.703125 \nL 18.3125 47.703125 \nL 18.3125 18.015625 \nQ 18.3125 11.328125 20.140625 9.421875 \nQ 21.96875 7.515625 27.59375 7.515625 \nL 36.8125 7.515625 \nL 36.8125 0 \nL 27.59375 0 \nQ 17.1875 0 13.234375 3.875 \nQ 9.28125 7.765625 9.28125 18.015625 \nL 9.28125 47.703125 \nL 2.6875 47.703125 \nL 2.6875 54.6875 \nL 9.28125 54.6875 \nL 9.28125 70.21875 \nz\n\" id=\"DejaVuSans-116\"/>\n      <path d=\"M 54.890625 33.015625 \nL 54.890625 0 \nL 45.90625 0 \nL 45.90625 32.71875 \nQ 45.90625 40.484375 42.875 44.328125 \nQ 39.84375 48.1875 33.796875 48.1875 \nQ 26.515625 48.1875 22.3125 43.546875 \nQ 18.109375 38.921875 18.109375 30.90625 \nL 18.109375 0 \nL 9.078125 0 \nL 9.078125 75.984375 \nL 18.109375 75.984375 \nL 18.109375 46.1875 \nQ 21.34375 51.125 25.703125 53.5625 \nQ 30.078125 56 35.796875 56 \nQ 45.21875 56 50.046875 50.171875 \nQ 54.890625 44.34375 54.890625 33.015625 \nz\n\" id=\"DejaVuSans-104\"/>\n      <path d=\"M 18.109375 8.203125 \nL 18.109375 -20.796875 \nL 9.078125 -20.796875 \nL 9.078125 54.6875 \nL 18.109375 54.6875 \nL 18.109375 46.390625 \nQ 20.953125 51.265625 25.265625 53.625 \nQ 29.59375 56 35.59375 56 \nQ 45.5625 56 51.78125 48.09375 \nQ 58.015625 40.1875 58.015625 27.296875 \nQ 58.015625 14.40625 51.78125 6.484375 \nQ 45.5625 -1.421875 35.59375 -1.421875 \nQ 29.59375 -1.421875 25.265625 0.953125 \nQ 20.953125 3.328125 18.109375 8.203125 \nz\nM 48.6875 27.296875 \nQ 48.6875 37.203125 44.609375 42.84375 \nQ 40.53125 48.484375 33.40625 48.484375 \nQ 26.265625 48.484375 22.1875 42.84375 \nQ 18.109375 37.203125 18.109375 27.296875 \nQ 18.109375 17.390625 22.1875 11.75 \nQ 26.265625 6.109375 33.40625 6.109375 \nQ 40.53125 6.109375 44.609375 11.75 \nQ 48.6875 17.390625 48.6875 27.296875 \nz\n\" id=\"DejaVuSans-112\"/>\n      <path d=\"M 48.78125 52.59375 \nL 48.78125 44.1875 \nQ 44.96875 46.296875 41.140625 47.34375 \nQ 37.3125 48.390625 33.40625 48.390625 \nQ 24.65625 48.390625 19.8125 42.84375 \nQ 14.984375 37.3125 14.984375 27.296875 \nQ 14.984375 17.28125 19.8125 11.734375 \nQ 24.65625 6.203125 33.40625 6.203125 \nQ 37.3125 6.203125 41.140625 7.25 \nQ 44.96875 8.296875 48.78125 10.40625 \nL 48.78125 2.09375 \nQ 45.015625 0.34375 40.984375 -0.53125 \nQ 36.96875 -1.421875 32.421875 -1.421875 \nQ 20.0625 -1.421875 12.78125 6.34375 \nQ 5.515625 14.109375 5.515625 27.296875 \nQ 5.515625 40.671875 12.859375 48.328125 \nQ 20.21875 56 33.015625 56 \nQ 37.15625 56 41.109375 55.140625 \nQ 45.0625 54.296875 48.78125 52.59375 \nz\n\" id=\"DejaVuSans-99\"/>\n     </defs>\n     <use xlink:href=\"#DejaVuSans-77\"/>\n     <use x=\"86.279297\" xlink:href=\"#DejaVuSans-111\"/>\n     <use x=\"147.460938\" xlink:href=\"#DejaVuSans-100\"/>\n     <use x=\"210.9375\" xlink:href=\"#DejaVuSans-101\"/>\n     <use x=\"272.460938\" xlink:href=\"#DejaVuSans-108\"/>\n     <use x=\"300.244141\" xlink:href=\"#DejaVuSans-32\"/>\n     <use x=\"332.03125\" xlink:href=\"#DejaVuSans-108\"/>\n     <use x=\"359.814453\" xlink:href=\"#DejaVuSans-111\"/>\n     <use x=\"420.996094\" xlink:href=\"#DejaVuSans-115\"/>\n     <use x=\"473.095703\" xlink:href=\"#DejaVuSans-115\"/>\n     <use x=\"525.195312\" xlink:href=\"#DejaVuSans-32\"/>\n     <use x=\"556.982422\" xlink:href=\"#DejaVuSans-119\"/>\n     <use x=\"638.769531\" xlink:href=\"#DejaVuSans-105\"/>\n     <use x=\"666.552734\" xlink:href=\"#DejaVuSans-116\"/>\n     <use x=\"705.761719\" xlink:href=\"#DejaVuSans-104\"/>\n     <use x=\"769.140625\" xlink:href=\"#DejaVuSans-32\"/>\n     <use x=\"800.927734\" xlink:href=\"#DejaVuSans-49\"/>\n     <use x=\"864.550781\" xlink:href=\"#DejaVuSans-48\"/>\n     <use x=\"928.173828\" xlink:href=\"#DejaVuSans-48\"/>\n     <use x=\"991.796875\" xlink:href=\"#DejaVuSans-32\"/>\n     <use x=\"1023.583984\" xlink:href=\"#DejaVuSans-101\"/>\n     <use x=\"1085.107422\" xlink:href=\"#DejaVuSans-112\"/>\n     <use x=\"1148.583984\" xlink:href=\"#DejaVuSans-111\"/>\n     <use x=\"1209.765625\" xlink:href=\"#DejaVuSans-99\"/>\n     <use x=\"1264.746094\" xlink:href=\"#DejaVuSans-104\"/>\n    </g>\n   </g>\n   <g id=\"legend_1\">\n    <g id=\"patch_7\">\n     <path d=\"M 302.11875 59.674375 \nL 383.353125 59.674375 \nQ 385.353125 59.674375 385.353125 57.674375 \nL 385.353125 29.318125 \nQ 385.353125 27.318125 383.353125 27.318125 \nL 302.11875 27.318125 \nQ 300.11875 27.318125 300.11875 29.318125 \nL 300.11875 57.674375 \nQ 300.11875 59.674375 302.11875 59.674375 \nz\n\" style=\"fill:#ffffff;opacity:0.8;stroke:#cccccc;stroke-linejoin:miter;\"/>\n    </g>\n    <g id=\"line2d_19\">\n     <path d=\"M 304.11875 35.416562 \nL 324.11875 35.416562 \n\" style=\"fill:none;stroke:#1f77b4;stroke-linecap:square;stroke-width:1.5;\"/>\n    </g>\n    <g id=\"line2d_20\"/>\n    <g id=\"text_18\">\n     <!-- train -->\n     <g transform=\"translate(332.11875 38.916562)scale(0.1 -0.1)\">\n      <defs>\n       <path d=\"M 41.109375 46.296875 \nQ 39.59375 47.171875 37.8125 47.578125 \nQ 36.03125 48 33.890625 48 \nQ 26.265625 48 22.1875 43.046875 \nQ 18.109375 38.09375 18.109375 28.8125 \nL 18.109375 0 \nL 9.078125 0 \nL 9.078125 54.6875 \nL 18.109375 54.6875 \nL 18.109375 46.1875 \nQ 20.953125 51.171875 25.484375 53.578125 \nQ 30.03125 56 36.53125 56 \nQ 37.453125 56 38.578125 55.875 \nQ 39.703125 55.765625 41.0625 55.515625 \nz\n\" id=\"DejaVuSans-114\"/>\n       <path d=\"M 34.28125 27.484375 \nQ 23.390625 27.484375 19.1875 25 \nQ 14.984375 22.515625 14.984375 16.5 \nQ 14.984375 11.71875 18.140625 8.90625 \nQ 21.296875 6.109375 26.703125 6.109375 \nQ 34.1875 6.109375 38.703125 11.40625 \nQ 43.21875 16.703125 43.21875 25.484375 \nL 43.21875 27.484375 \nz\nM 52.203125 31.203125 \nL 52.203125 0 \nL 43.21875 0 \nL 43.21875 8.296875 \nQ 40.140625 3.328125 35.546875 0.953125 \nQ 30.953125 -1.421875 24.3125 -1.421875 \nQ 15.921875 -1.421875 10.953125 3.296875 \nQ 6 8.015625 6 15.921875 \nQ 6 25.140625 12.171875 29.828125 \nQ 18.359375 34.515625 30.609375 34.515625 \nL 43.21875 34.515625 \nL 43.21875 35.40625 \nQ 43.21875 41.609375 39.140625 45 \nQ 35.0625 48.390625 27.6875 48.390625 \nQ 23 48.390625 18.546875 47.265625 \nQ 14.109375 46.140625 10.015625 43.890625 \nL 10.015625 52.203125 \nQ 14.9375 54.109375 19.578125 55.046875 \nQ 24.21875 56 28.609375 56 \nQ 40.484375 56 46.34375 49.84375 \nQ 52.203125 43.703125 52.203125 31.203125 \nz\n\" id=\"DejaVuSans-97\"/>\n       <path d=\"M 54.890625 33.015625 \nL 54.890625 0 \nL 45.90625 0 \nL 45.90625 32.71875 \nQ 45.90625 40.484375 42.875 44.328125 \nQ 39.84375 48.1875 33.796875 48.1875 \nQ 26.515625 48.1875 22.3125 43.546875 \nQ 18.109375 38.921875 18.109375 30.90625 \nL 18.109375 0 \nL 9.078125 0 \nL 9.078125 54.6875 \nL 18.109375 54.6875 \nL 18.109375 46.1875 \nQ 21.34375 51.125 25.703125 53.5625 \nQ 30.078125 56 35.796875 56 \nQ 45.21875 56 50.046875 50.171875 \nQ 54.890625 44.34375 54.890625 33.015625 \nz\n\" id=\"DejaVuSans-110\"/>\n      </defs>\n      <use xlink:href=\"#DejaVuSans-116\"/>\n      <use x=\"39.208984\" xlink:href=\"#DejaVuSans-114\"/>\n      <use x=\"80.322266\" xlink:href=\"#DejaVuSans-97\"/>\n      <use x=\"141.601562\" xlink:href=\"#DejaVuSans-105\"/>\n      <use x=\"169.384766\" xlink:href=\"#DejaVuSans-110\"/>\n     </g>\n    </g>\n    <g id=\"line2d_21\">\n     <path d=\"M 304.11875 50.094687 \nL 324.11875 50.094687 \n\" style=\"fill:none;stroke:#ff7f0e;stroke-linecap:square;stroke-width:1.5;\"/>\n    </g>\n    <g id=\"line2d_22\"/>\n    <g id=\"text_19\">\n     <!-- validation -->\n     <g transform=\"translate(332.11875 53.594687)scale(0.1 -0.1)\">\n      <defs>\n       <path d=\"M 2.984375 54.6875 \nL 12.5 54.6875 \nL 29.59375 8.796875 \nL 46.6875 54.6875 \nL 56.203125 54.6875 \nL 35.6875 0 \nL 23.484375 0 \nz\n\" id=\"DejaVuSans-118\"/>\n      </defs>\n      <use xlink:href=\"#DejaVuSans-118\"/>\n      <use x=\"59.179688\" xlink:href=\"#DejaVuSans-97\"/>\n      <use x=\"120.458984\" xlink:href=\"#DejaVuSans-108\"/>\n      <use x=\"148.242188\" xlink:href=\"#DejaVuSans-105\"/>\n      <use x=\"176.025391\" xlink:href=\"#DejaVuSans-100\"/>\n      <use x=\"239.501953\" xlink:href=\"#DejaVuSans-97\"/>\n      <use x=\"300.78125\" xlink:href=\"#DejaVuSans-116\"/>\n      <use x=\"339.990234\" xlink:href=\"#DejaVuSans-105\"/>\n      <use x=\"367.773438\" xlink:href=\"#DejaVuSans-111\"/>\n      <use x=\"428.955078\" xlink:href=\"#DejaVuSans-110\"/>\n     </g>\n    </g>\n   </g>\n  </g>\n </g>\n <defs>\n  <clipPath id=\"p5f316120e5\">\n   <rect height=\"217.44\" width=\"334.8\" x=\"55.553125\" y=\"22.318125\"/>\n  </clipPath>\n </defs>\n</svg>\n",
      "image/png": "[encoded data removed]"
     },
     "metadata": {
      "needs_background": "light"
     }
    }
   ]
  },
  {
   "cell_type": "code",
   "execution_count": 18,
   "metadata": {},
   "outputs": [
    {
     "output_type": "stream",
     "name": "stdout",
     "text": [
      "Train Score: 46.98 RMSE\nTest Score: 36.06 RMSE\n"
     ]
    }
   ],
   "source": [
    "trainPredict = model.predict(X_train)\n",
    "model.reset_states()\n",
    "testPredict = model.predict(X_test)\n",
    "# invert predictions\n",
    "trainPredict = y_scaler.inverse_transform(trainPredict)\n",
    "trainY = y_scaler.inverse_transform([y_train])\n",
    "testPredict = y_scaler.inverse_transform(testPredict)\n",
    "testY = y_scaler.inverse_transform([y_test])\n",
    "# calculate root mean squared error\n",
    "trainScore = math.sqrt(mean_squared_error(trainY[0], trainPredict[:,0]))\n",
    "print('Train Score: %.2f RMSE' % (trainScore))\n",
    "testScore = math.sqrt(mean_squared_error(testY[0], testPredict[:,0]))\n",
    "print('Test Score: %.2f RMSE' % (testScore))"
   ]
  },
  {
   "source": [
    "## 2. SVR: Support Vector Regression"
   ],
   "cell_type": "markdown",
   "metadata": {}
  },
  {
   "cell_type": "code",
   "execution_count": null,
   "metadata": {},
   "outputs": [],
   "source": [
    "import numpy as np\n",
    "import matplotlib.pyplot as plt\n",
    "import pandas as pd\n",
    "\n",
    "from sklearn.preprocessing import StandardScaler\n",
    "from sklearn.model_selection import train_test_split\n",
    "from sklearn.svm import SVR\n",
    "\n",
    "from joblib import dump"
   ]
  },
  {
   "cell_type": "code",
   "execution_count": null,
   "metadata": {},
   "outputs": [],
   "source": [
    "X = transactions_per_month_df.loc[:, transactions_per_month_df.columns.to_series().between('2017-01-01', prediction_start_date)].values\n",
    "y = transactions_per_month_df.loc[:, transactions_per_month_df.columns.to_series().between(prediction_start_date, prediction_end_date)].sum(axis=1).values"
   ]
  },
  {
   "cell_type": "code",
   "execution_count": null,
   "metadata": {},
   "outputs": [],
   "source": [
    "x_scaler = StandardScaler()\n",
    "y_scaler = StandardScaler()\n",
    "\n",
    "X = x_scaler.fit_transform(X)\n",
    "y = y_scaler.fit_transform(y.reshape(-1,1))[:, 0]"
   ]
  },
  {
   "cell_type": "code",
   "execution_count": null,
   "metadata": {},
   "outputs": [],
   "source": [
    "X_train, X_test, y_train, y_test = train_test_split(X, y, test_size = 0.2)"
   ]
  },
  {
   "cell_type": "code",
   "execution_count": null,
   "metadata": {},
   "outputs": [],
   "source": [
    "regressor = SVR(kernel = 'rbf')\n",
    "regressor.fit(X_train, y_train.reshape(-1,1))"
   ]
  },
  {
   "cell_type": "code",
   "execution_count": null,
   "metadata": {},
   "outputs": [],
   "source": [
    "y_train_pred = regressor.predict(X_train)\n",
    "y_train_pred = y_scaler.inverse_transform(y_train_pred)\n",
    "\n",
    "y_test_pred = regressor.predict(X_test)\n",
    "y_test_pred = y_scaler.inverse_transform(y_test_pred)"
   ]
  },
  {
   "cell_type": "code",
   "execution_count": null,
   "metadata": {},
   "outputs": [],
   "source": [
    "trainScore = math.sqrt(mean_squared_error(y_train.reshape(-1), y_train_pred))\n",
    "print('Train Score: %.2f RMSE' % (trainScore))\n",
    "testScore = math.sqrt(mean_squared_error(y_test_pred.reshape(-1), y_pred))\n",
    "print('Test Score: %.2f RMSE' % (testScore))"
   ]
  },
  {
   "cell_type": "code",
   "execution_count": null,
   "metadata": {},
   "outputs": [],
   "source": [
    "dump(regressor, '../serialized models/svr.joblib') "
   ]
  },
  {
   "cell_type": "code",
   "execution_count": null,
   "metadata": {},
   "outputs": [],
   "source": []
  }
 ]
}
{
 "metadata": {
  "language_info": {
   "codemirror_mode": {
    "name": "ipython",
    "version": 3
   },
   "file_extension": ".py",
   "mimetype": "text/x-python",
   "name": "python",
   "nbconvert_exporter": "python",
   "pygments_lexer": "ipython3",
   "version": "3.7.3-final"
  },
  "orig_nbformat": 2,
  "kernelspec": {
   "name": "python3",
   "display_name": "Python 3.7.3 64-bit ('venv')",
   "metadata": {
    "interpreter": {
     "hash": "01185dee19e1cce7dc5b64a6e8219da1d901d6d66896a1c033ff0413b7d2da6c"
    }
   }
  }
 },
 "nbformat": 4,
 "nbformat_minor": 2,
 "cells": [
  {
   "cell_type": "code",
   "execution_count": 1,
   "metadata": {},
   "outputs": [],
   "source": [
    "import pandas as pd\n",
    "import seaborn as sns\n",
    "import matplotlib.pyplot as plt\n",
    "import numpy as np"
   ]
  },
  {
   "cell_type": "code",
   "execution_count": 2,
   "metadata": {},
   "outputs": [],
   "source": [
    "import warnings\n",
    "warnings.filterwarnings('ignore')"
   ]
  },
  {
   "source": [
    "# Loading Dataset"
   ],
   "cell_type": "markdown",
   "metadata": {}
  },
  {
   "cell_type": "code",
   "execution_count": 3,
   "metadata": {},
   "outputs": [
    {
     "output_type": "execute_result",
     "data": {
      "text/plain": [
       "        customer_id  product_id                             date\n",
       "657826      8752181  G5HEPH9A2T 2017-01-01 08:32:26.307000+00:00\n",
       "658033      8752181  RZ1BJ9ZV9C 2017-01-01 08:38:15.207000+00:00\n",
       "755034      7269786  G5HEPH9A2T 2017-01-01 11:29:18.527000+00:00\n",
       "755319      7269786  FA7OOL7Z3T 2017-01-01 11:59:30.613000+00:00\n",
       "659733      5255027  FA7OOL7Z3T 2017-01-01 15:22:46.793000+00:00\n",
       "...             ...         ...                              ...\n",
       "294947      1971440  GJROWT9RPV 2020-03-16 23:29:31.810000+00:00\n",
       "104192      8350659  G5HEPH9A2T 2020-03-16 23:54:22.647000+00:00\n",
       "104658      8350659  XZ6UVEYK40 2020-03-16 23:58:40.210000+00:00\n",
       "103766      8350659  GJROWT9RPV 2020-03-17 00:07:18.663000+00:00\n",
       "102112      8350659  XD4I34ED7F 2020-03-17 00:08:21.430000+00:00\n",
       "\n",
       "[975955 rows x 3 columns]"
      ],
      "text/html": "<div>\n<style scoped>\n    .dataframe tbody tr th:only-of-type {\n        vertical-align: middle;\n    }\n\n    .dataframe tbody tr th {\n        vertical-align: top;\n    }\n\n    .dataframe thead th {\n        text-align: right;\n    }\n</style>\n<table border=\"1\" class=\"dataframe\">\n  <thead>\n    <tr style=\"text-align: right;\">\n      <th></th>\n      <th>customer_id</th>\n      <th>product_id</th>\n      <th>date</th>\n    </tr>\n  </thead>\n  <tbody>\n    <tr>\n      <th>657826</th>\n      <td>8752181</td>\n      <td>G5HEPH9A2T</td>\n      <td>2017-01-01 08:32:26.307000+00:00</td>\n    </tr>\n    <tr>\n      <th>658033</th>\n      <td>8752181</td>\n      <td>RZ1BJ9ZV9C</td>\n      <td>2017-01-01 08:38:15.207000+00:00</td>\n    </tr>\n    <tr>\n      <th>755034</th>\n      <td>7269786</td>\n      <td>G5HEPH9A2T</td>\n      <td>2017-01-01 11:29:18.527000+00:00</td>\n    </tr>\n    <tr>\n      <th>755319</th>\n      <td>7269786</td>\n      <td>FA7OOL7Z3T</td>\n      <td>2017-01-01 11:59:30.613000+00:00</td>\n    </tr>\n    <tr>\n      <th>659733</th>\n      <td>5255027</td>\n      <td>FA7OOL7Z3T</td>\n      <td>2017-01-01 15:22:46.793000+00:00</td>\n    </tr>\n    <tr>\n      <th>...</th>\n      <td>...</td>\n      <td>...</td>\n      <td>...</td>\n    </tr>\n    <tr>\n      <th>294947</th>\n      <td>1971440</td>\n      <td>GJROWT9RPV</td>\n      <td>2020-03-16 23:29:31.810000+00:00</td>\n    </tr>\n    <tr>\n      <th>104192</th>\n      <td>8350659</td>\n      <td>G5HEPH9A2T</td>\n      <td>2020-03-16 23:54:22.647000+00:00</td>\n    </tr>\n    <tr>\n      <th>104658</th>\n      <td>8350659</td>\n      <td>XZ6UVEYK40</td>\n      <td>2020-03-16 23:58:40.210000+00:00</td>\n    </tr>\n    <tr>\n      <th>103766</th>\n      <td>8350659</td>\n      <td>GJROWT9RPV</td>\n      <td>2020-03-17 00:07:18.663000+00:00</td>\n    </tr>\n    <tr>\n      <th>102112</th>\n      <td>8350659</td>\n      <td>XD4I34ED7F</td>\n      <td>2020-03-17 00:08:21.430000+00:00</td>\n    </tr>\n  </tbody>\n</table>\n<p>975955 rows × 3 columns</p>\n</div>"
     },
     "metadata": {},
     "execution_count": 3
    }
   ],
   "source": [
    "frames = [pd.read_csv('../data/transactions_1.csv', index_col=0), pd.read_csv('../data/transactions_2.csv', index_col=0)]\n",
    "# frames = [pd.read_csv('../data/transactions_1.csv', index_col=0)]\n",
    "df = pd.concat(frames)\n",
    "df['date'] = pd.to_datetime(df['date'])\n",
    "df.sort_values('date')"
   ]
  },
  {
   "source": [
    "# Questions\n",
    "## Build a model to predict the total number of transactions for the next three months per customer anywhere in 2019. For example, given all data up to the end of January 2019, predict the size of the transactions between Feb 1st and April 30th for each customer. Then, measure the performance of your model with appropriate metrics and visuals."
   ],
   "cell_type": "markdown",
   "metadata": {}
  },
  {
   "cell_type": "code",
   "execution_count": 4,
   "metadata": {},
   "outputs": [],
   "source": [
    "selected_month = 1\n",
    "prediction_start_date = f'2019-{selected_month}-01'\n",
    "prediction_end_date = f'2019-{selected_month+3}-01'"
   ]
  },
  {
   "cell_type": "code",
   "execution_count": 5,
   "metadata": {},
   "outputs": [
    {
     "output_type": "execute_result",
     "data": {
      "text/plain": [
       "date         2017-01-31 00:00:00+00:00  2017-02-28 00:00:00+00:00  \\\n",
       "customer_id                                                         \n",
       "1000178                              0                          0   \n",
       "1000692                              0                          0   \n",
       "1000821                              0                          0   \n",
       "1004714                              0                          3   \n",
       "1005470                              0                          0   \n",
       "...                                ...                        ...   \n",
       "9974841                              0                          0   \n",
       "9976006                              0                         26   \n",
       "9978245                              3                         37   \n",
       "9997425                             11                          4   \n",
       "9998153                              0                          0   \n",
       "\n",
       "date         2017-03-31 00:00:00+00:00  2017-04-30 00:00:00+00:00  \\\n",
       "customer_id                                                         \n",
       "1000178                             24                          0   \n",
       "1000692                              6                          0   \n",
       "1000821                              0                          0   \n",
       "1004714                              0                          0   \n",
       "1005470                              0                          0   \n",
       "...                                ...                        ...   \n",
       "9974841                              0                          0   \n",
       "9976006                             14                          9   \n",
       "9978245                             32                         14   \n",
       "9997425                              0                          0   \n",
       "9998153                              0                          0   \n",
       "\n",
       "date         2017-05-31 00:00:00+00:00  2017-06-30 00:00:00+00:00  \\\n",
       "customer_id                                                         \n",
       "1000178                              0                          0   \n",
       "1000692                              0                          0   \n",
       "1000821                              0                          0   \n",
       "1004714                              3                          1   \n",
       "1005470                              0                          1   \n",
       "...                                ...                        ...   \n",
       "9974841                              0                          8   \n",
       "9976006                              0                         19   \n",
       "9978245                              5                         39   \n",
       "9997425                              1                          0   \n",
       "9998153                              0                          0   \n",
       "\n",
       "date         2017-07-31 00:00:00+00:00  2017-08-31 00:00:00+00:00  \\\n",
       "customer_id                                                         \n",
       "1000178                              0                         47   \n",
       "1000692                              0                          0   \n",
       "1000821                              0                          0   \n",
       "1004714                              2                          0   \n",
       "1005470                              0                          2   \n",
       "...                                ...                        ...   \n",
       "9974841                              0                          0   \n",
       "9976006                              0                          0   \n",
       "9978245                              8                         79   \n",
       "9997425                              0                          0   \n",
       "9998153                              0                          0   \n",
       "\n",
       "date         2017-09-30 00:00:00+00:00  2017-10-31 00:00:00+00:00  ...  \\\n",
       "customer_id                                                        ...   \n",
       "1000178                             29                          0  ...   \n",
       "1000692                              0                          0  ...   \n",
       "1000821                              0                          0  ...   \n",
       "1004714                              0                          4  ...   \n",
       "1005470                              0                          3  ...   \n",
       "...                                ...                        ...  ...   \n",
       "9974841                              0                          0  ...   \n",
       "9976006                              0                          0  ...   \n",
       "9978245                             48                          8  ...   \n",
       "9997425                              0                          0  ...   \n",
       "9998153                              0                          0  ...   \n",
       "\n",
       "date         2019-06-30 00:00:00+00:00  2019-07-31 00:00:00+00:00  \\\n",
       "customer_id                                                         \n",
       "1000178                              0                          0   \n",
       "1000692                              3                          2   \n",
       "1000821                              0                          3   \n",
       "1004714                              0                          5   \n",
       "1005470                              0                          0   \n",
       "...                                ...                        ...   \n",
       "9974841                              0                          0   \n",
       "9976006                              0                          0   \n",
       "9978245                             31                          1   \n",
       "9997425                              0                          0   \n",
       "9998153                              0                          7   \n",
       "\n",
       "date         2019-08-31 00:00:00+00:00  2019-09-30 00:00:00+00:00  \\\n",
       "customer_id                                                         \n",
       "1000178                              0                          0   \n",
       "1000692                              8                          5   \n",
       "1000821                             14                          5   \n",
       "1004714                              5                          0   \n",
       "1005470                              0                          3   \n",
       "...                                ...                        ...   \n",
       "9974841                              0                          0   \n",
       "9976006                              0                          0   \n",
       "9978245                              1                          0   \n",
       "9997425                              0                          0   \n",
       "9998153                              0                         22   \n",
       "\n",
       "date         2019-10-31 00:00:00+00:00  2019-11-30 00:00:00+00:00  \\\n",
       "customer_id                                                         \n",
       "1000178                              0                          0   \n",
       "1000692                             19                          6   \n",
       "1000821                              1                         17   \n",
       "1004714                              0                          0   \n",
       "1005470                              0                          2   \n",
       "...                                ...                        ...   \n",
       "9974841                              0                          0   \n",
       "9976006                              0                          0   \n",
       "9978245                             23                          2   \n",
       "9997425                              0                          0   \n",
       "9998153                              0                          0   \n",
       "\n",
       "date         2019-12-31 00:00:00+00:00  2020-01-31 00:00:00+00:00  \\\n",
       "customer_id                                                         \n",
       "1000178                              0                          0   \n",
       "1000692                             24                          1   \n",
       "1000821                              7                         13   \n",
       "1004714                              0                          0   \n",
       "1005470                              0                          0   \n",
       "...                                ...                        ...   \n",
       "9974841                              0                          0   \n",
       "9976006                              0                          0   \n",
       "9978245                              1                          0   \n",
       "9997425                              0                          0   \n",
       "9998153                              0                          0   \n",
       "\n",
       "date         2020-02-29 00:00:00+00:00  2020-03-31 00:00:00+00:00  \n",
       "customer_id                                                        \n",
       "1000178                              0                          0  \n",
       "1000692                              8                          5  \n",
       "1000821                              4                          0  \n",
       "1004714                              1                          0  \n",
       "1005470                              1                          0  \n",
       "...                                ...                        ...  \n",
       "9974841                              1                          0  \n",
       "9976006                              0                          0  \n",
       "9978245                              0                          0  \n",
       "9997425                              0                          0  \n",
       "9998153                              0                          0  \n",
       "\n",
       "[2002 rows x 39 columns]"
      ],
      "text/html": "<div>\n<style scoped>\n    .dataframe tbody tr th:only-of-type {\n        vertical-align: middle;\n    }\n\n    .dataframe tbody tr th {\n        vertical-align: top;\n    }\n\n    .dataframe thead th {\n        text-align: right;\n    }\n</style>\n<table border=\"1\" class=\"dataframe\">\n  <thead>\n    <tr style=\"text-align: right;\">\n      <th>date</th>\n      <th>2017-01-31 00:00:00+00:00</th>\n      <th>2017-02-28 00:00:00+00:00</th>\n      <th>2017-03-31 00:00:00+00:00</th>\n      <th>2017-04-30 00:00:00+00:00</th>\n      <th>2017-05-31 00:00:00+00:00</th>\n      <th>2017-06-30 00:00:00+00:00</th>\n      <th>2017-07-31 00:00:00+00:00</th>\n      <th>2017-08-31 00:00:00+00:00</th>\n      <th>2017-09-30 00:00:00+00:00</th>\n      <th>2017-10-31 00:00:00+00:00</th>\n      <th>...</th>\n      <th>2019-06-30 00:00:00+00:00</th>\n      <th>2019-07-31 00:00:00+00:00</th>\n      <th>2019-08-31 00:00:00+00:00</th>\n      <th>2019-09-30 00:00:00+00:00</th>\n      <th>2019-10-31 00:00:00+00:00</th>\n      <th>2019-11-30 00:00:00+00:00</th>\n      <th>2019-12-31 00:00:00+00:00</th>\n      <th>2020-01-31 00:00:00+00:00</th>\n      <th>2020-02-29 00:00:00+00:00</th>\n      <th>2020-03-31 00:00:00+00:00</th>\n    </tr>\n    <tr>\n      <th>customer_id</th>\n      <th></th>\n      <th></th>\n      <th></th>\n      <th></th>\n      <th></th>\n      <th></th>\n      <th></th>\n      <th></th>\n      <th></th>\n      <th></th>\n      <th></th>\n      <th></th>\n      <th></th>\n      <th></th>\n      <th></th>\n      <th></th>\n      <th></th>\n      <th></th>\n      <th></th>\n      <th></th>\n      <th></th>\n    </tr>\n  </thead>\n  <tbody>\n    <tr>\n      <th>1000178</th>\n      <td>0</td>\n      <td>0</td>\n      <td>24</td>\n      <td>0</td>\n      <td>0</td>\n      <td>0</td>\n      <td>0</td>\n      <td>47</td>\n      <td>29</td>\n      <td>0</td>\n      <td>...</td>\n      <td>0</td>\n      <td>0</td>\n      <td>0</td>\n      <td>0</td>\n      <td>0</td>\n      <td>0</td>\n      <td>0</td>\n      <td>0</td>\n      <td>0</td>\n      <td>0</td>\n    </tr>\n    <tr>\n      <th>1000692</th>\n      <td>0</td>\n      <td>0</td>\n      <td>6</td>\n      <td>0</td>\n      <td>0</td>\n      <td>0</td>\n      <td>0</td>\n      <td>0</td>\n      <td>0</td>\n      <td>0</td>\n      <td>...</td>\n      <td>3</td>\n      <td>2</td>\n      <td>8</td>\n      <td>5</td>\n      <td>19</td>\n      <td>6</td>\n      <td>24</td>\n      <td>1</td>\n      <td>8</td>\n      <td>5</td>\n    </tr>\n    <tr>\n      <th>1000821</th>\n      <td>0</td>\n      <td>0</td>\n      <td>0</td>\n      <td>0</td>\n      <td>0</td>\n      <td>0</td>\n      <td>0</td>\n      <td>0</td>\n      <td>0</td>\n      <td>0</td>\n      <td>...</td>\n      <td>0</td>\n      <td>3</td>\n      <td>14</td>\n      <td>5</td>\n      <td>1</td>\n      <td>17</td>\n      <td>7</td>\n      <td>13</td>\n      <td>4</td>\n      <td>0</td>\n    </tr>\n    <tr>\n      <th>1004714</th>\n      <td>0</td>\n      <td>3</td>\n      <td>0</td>\n      <td>0</td>\n      <td>3</td>\n      <td>1</td>\n      <td>2</td>\n      <td>0</td>\n      <td>0</td>\n      <td>4</td>\n      <td>...</td>\n      <td>0</td>\n      <td>5</td>\n      <td>5</td>\n      <td>0</td>\n      <td>0</td>\n      <td>0</td>\n      <td>0</td>\n      <td>0</td>\n      <td>1</td>\n      <td>0</td>\n    </tr>\n    <tr>\n      <th>1005470</th>\n      <td>0</td>\n      <td>0</td>\n      <td>0</td>\n      <td>0</td>\n      <td>0</td>\n      <td>1</td>\n      <td>0</td>\n      <td>2</td>\n      <td>0</td>\n      <td>3</td>\n      <td>...</td>\n      <td>0</td>\n      <td>0</td>\n      <td>0</td>\n      <td>3</td>\n      <td>0</td>\n      <td>2</td>\n      <td>0</td>\n      <td>0</td>\n      <td>1</td>\n      <td>0</td>\n    </tr>\n    <tr>\n      <th>...</th>\n      <td>...</td>\n      <td>...</td>\n      <td>...</td>\n      <td>...</td>\n      <td>...</td>\n      <td>...</td>\n      <td>...</td>\n      <td>...</td>\n      <td>...</td>\n      <td>...</td>\n      <td>...</td>\n      <td>...</td>\n      <td>...</td>\n      <td>...</td>\n      <td>...</td>\n      <td>...</td>\n      <td>...</td>\n      <td>...</td>\n      <td>...</td>\n      <td>...</td>\n      <td>...</td>\n    </tr>\n    <tr>\n      <th>9974841</th>\n      <td>0</td>\n      <td>0</td>\n      <td>0</td>\n      <td>0</td>\n      <td>0</td>\n      <td>8</td>\n      <td>0</td>\n      <td>0</td>\n      <td>0</td>\n      <td>0</td>\n      <td>...</td>\n      <td>0</td>\n      <td>0</td>\n      <td>0</td>\n      <td>0</td>\n      <td>0</td>\n      <td>0</td>\n      <td>0</td>\n      <td>0</td>\n      <td>1</td>\n      <td>0</td>\n    </tr>\n    <tr>\n      <th>9976006</th>\n      <td>0</td>\n      <td>26</td>\n      <td>14</td>\n      <td>9</td>\n      <td>0</td>\n      <td>19</td>\n      <td>0</td>\n      <td>0</td>\n      <td>0</td>\n      <td>0</td>\n      <td>...</td>\n      <td>0</td>\n      <td>0</td>\n      <td>0</td>\n      <td>0</td>\n      <td>0</td>\n      <td>0</td>\n      <td>0</td>\n      <td>0</td>\n      <td>0</td>\n      <td>0</td>\n    </tr>\n    <tr>\n      <th>9978245</th>\n      <td>3</td>\n      <td>37</td>\n      <td>32</td>\n      <td>14</td>\n      <td>5</td>\n      <td>39</td>\n      <td>8</td>\n      <td>79</td>\n      <td>48</td>\n      <td>8</td>\n      <td>...</td>\n      <td>31</td>\n      <td>1</td>\n      <td>1</td>\n      <td>0</td>\n      <td>23</td>\n      <td>2</td>\n      <td>1</td>\n      <td>0</td>\n      <td>0</td>\n      <td>0</td>\n    </tr>\n    <tr>\n      <th>9997425</th>\n      <td>11</td>\n      <td>4</td>\n      <td>0</td>\n      <td>0</td>\n      <td>1</td>\n      <td>0</td>\n      <td>0</td>\n      <td>0</td>\n      <td>0</td>\n      <td>0</td>\n      <td>...</td>\n      <td>0</td>\n      <td>0</td>\n      <td>0</td>\n      <td>0</td>\n      <td>0</td>\n      <td>0</td>\n      <td>0</td>\n      <td>0</td>\n      <td>0</td>\n      <td>0</td>\n    </tr>\n    <tr>\n      <th>9998153</th>\n      <td>0</td>\n      <td>0</td>\n      <td>0</td>\n      <td>0</td>\n      <td>0</td>\n      <td>0</td>\n      <td>0</td>\n      <td>0</td>\n      <td>0</td>\n      <td>0</td>\n      <td>...</td>\n      <td>0</td>\n      <td>7</td>\n      <td>0</td>\n      <td>22</td>\n      <td>0</td>\n      <td>0</td>\n      <td>0</td>\n      <td>0</td>\n      <td>0</td>\n      <td>0</td>\n    </tr>\n  </tbody>\n</table>\n<p>2002 rows × 39 columns</p>\n</div>"
     },
     "metadata": {},
     "execution_count": 5
    }
   ],
   "source": [
    "transactions_per_month_df = df.groupby(['customer_id', pd.Grouper(freq='M', key='date', closed='left')])['customer_id'].count().unstack(fill_value=0)\n",
    "transactions_per_month_df"
   ]
  },
  {
   "cell_type": "code",
   "execution_count": 6,
   "metadata": {},
   "outputs": [],
   "source": [
    "from tensorflow.keras import Sequential\n",
    "from tensorflow.keras.layers import Dense, LSTM\n",
    "from tensorflow.keras.metrics import RootMeanSquaredError\n",
    "\n",
    "from sklearn.model_selection import train_test_split\n",
    "from sklearn.preprocessing import MinMaxScaler\n",
    "from sklearn.metrics import mean_squared_error\n",
    "\n",
    "import math"
   ]
  },
  {
   "cell_type": "code",
   "execution_count": 64,
   "metadata": {},
   "outputs": [],
   "source": [
    "X = transactions_per_month_df.loc[:, transactions_per_month_df.columns.to_series().between('2017-01-01', prediction_start_date)].values\n",
    "y = transactions_per_month_df.loc[:, transactions_per_month_df.columns.to_series().between(prediction_start_date, prediction_end_date)].sum(axis=1).values"
   ]
  },
  {
   "cell_type": "code",
   "execution_count": 65,
   "metadata": {},
   "outputs": [
    {
     "output_type": "execute_result",
     "data": {
      "text/plain": [
       "((2002, 24), (2002,))"
      ]
     },
     "metadata": {},
     "execution_count": 65
    }
   ],
   "source": [
    "X.shape, y.shape"
   ]
  },
  {
   "cell_type": "code",
   "execution_count": 66,
   "metadata": {},
   "outputs": [],
   "source": [
    "x_scaler = MinMaxScaler()\n",
    "y_scaler = MinMaxScaler()\n",
    "\n",
    "X = x_scaler.fit_transform(X)\n",
    "y = y_scaler.fit_transform(y.reshape(-1, 1))[:, 0]"
   ]
  },
  {
   "cell_type": "code",
   "execution_count": 67,
   "metadata": {},
   "outputs": [],
   "source": [
    "X_train, X_test, y_train, y_test = train_test_split(X, y, test_size=0.2, random_state=41)"
   ]
  },
  {
   "cell_type": "code",
   "execution_count": 68,
   "metadata": {},
   "outputs": [],
   "source": [
    "X_train = X_train.reshape(X_train.shape[0], 1, X_train.shape[1])\n",
    "X_test = X_test.reshape(X_test.shape[0], 1, X_test.shape[1])"
   ]
  },
  {
   "cell_type": "code",
   "execution_count": 69,
   "metadata": {},
   "outputs": [
    {
     "output_type": "execute_result",
     "data": {
      "text/plain": [
       "(1601, 1, 24)"
      ]
     },
     "metadata": {},
     "execution_count": 69
    }
   ],
   "source": [
    "X_train.shape"
   ]
  },
  {
   "cell_type": "code",
   "execution_count": 70,
   "metadata": {},
   "outputs": [
    {
     "output_type": "stream",
     "name": "stdout",
     "text": [
      "Model: \"sequential_8\"\n_________________________________________________________________\nLayer (type)                 Output Shape              Param #   \n=================================================================\nlstm_11 (LSTM)               (None, 1, 16)             2624      \n_________________________________________________________________\nlstm_12 (LSTM)               (None, 8)                 800       \n_________________________________________________________________\ndense_7 (Dense)              (None, 1)                 9         \n=================================================================\nTotal params: 3,433\nTrainable params: 3,433\nNon-trainable params: 0\n_________________________________________________________________\n"
     ]
    }
   ],
   "source": [
    "model = Sequential()\n",
    "model.add(LSTM(16, input_shape=(X_train.shape[1], X_train.shape[2]), return_sequences=True))\n",
    "model.add(LSTM(8, input_shape=(X_train.shape[1], X_train.shape[2])))\n",
    "model.add(Dense(1, activation='linear'))\n",
    "\n",
    "model.compile(loss='mean_squared_error', optimizer='adam')\n",
    "model.summary()"
   ]
  },
  {
   "cell_type": "code",
   "execution_count": 71,
   "metadata": {},
   "outputs": [],
   "source": [
    "history = model.fit(X_train, y_train, validation_data=(X_test, y_test), epochs=200, verbose=0)"
   ]
  },
  {
   "cell_type": "code",
   "execution_count": 72,
   "metadata": {},
   "outputs": [
    {
     "output_type": "display_data",
     "data": {
      "text/plain": "<Figure size 432x288 with 1 Axes>",
      "image/svg+xml": "<?xml version=\"1.0\" encoding=\"utf-8\" standalone=\"no\"?>\n<!DOCTYPE svg PUBLIC \"-//W3C//DTD SVG 1.1//EN\"\n  \"http://www.w3.org/Graphics/SVG/1.1/DTD/svg11.dtd\">\n<!-- Created with matplotlib (https://matplotlib.org/) -->\n<svg height=\"263.63625pt\" version=\"1.1\" viewBox=\"0 0 397.553125 263.63625\" width=\"397.553125pt\" xmlns=\"http://www.w3.org/2000/svg\" xmlns:xlink=\"http://www.w3.org/1999/xlink\">\n <metadata>\n  <rdf:RDF xmlns:cc=\"http://creativecommons.org/ns#\" xmlns:dc=\"http://purl.org/dc/elements/1.1/\" xmlns:rdf=\"http://www.w3.org/1999/02/22-rdf-syntax-ns#\">\n   <cc:Work>\n    <dc:type rdf:resource=\"http://purl.org/dc/dcmitype/StillImage\"/>\n    <dc:date>2020-12-22T11:38:16.292221</dc:date>\n    <dc:format>image/svg+xml</dc:format>\n    <dc:creator>\n     <cc:Agent>\n      <dc:title>Matplotlib v3.3.3, https://matplotlib.org/</dc:title>\n     </cc:Agent>\n    </dc:creator>\n   </cc:Work>\n  </rdf:RDF>\n </metadata>\n <defs>\n  <style type=\"text/css\">*{stroke-linecap:butt;stroke-linejoin:round;}</style>\n </defs>\n <g id=\"figure_1\">\n  <g id=\"patch_1\">\n   <path d=\"M 0 263.63625 \nL 397.553125 263.63625 \nL 397.553125 0 \nL 0 0 \nz\n\" style=\"fill:none;\"/>\n  </g>\n  <g id=\"axes_1\">\n   <g id=\"patch_2\">\n    <path d=\"M 55.553125 239.758125 \nL 390.353125 239.758125 \nL 390.353125 22.318125 \nL 55.553125 22.318125 \nz\n\" style=\"fill:#ffffff;\"/>\n   </g>\n   <g id=\"matplotlib.axis_1\">\n    <g id=\"xtick_1\">\n     <g id=\"line2d_1\">\n      <defs>\n       <path d=\"M 0 0 \nL 0 3.5 \n\" id=\"m906ab8ea6b\" style=\"stroke:#000000;stroke-width:0.8;\"/>\n      </defs>\n      <g>\n       <use style=\"stroke:#000000;stroke-width:0.8;\" x=\"70.771307\" xlink:href=\"#m906ab8ea6b\" y=\"239.758125\"/>\n      </g>\n     </g>\n     <g id=\"text_1\">\n      <!-- 0 -->\n      <g transform=\"translate(67.590057 254.356563)scale(0.1 -0.1)\">\n       <defs>\n        <path d=\"M 31.78125 66.40625 \nQ 24.171875 66.40625 20.328125 58.90625 \nQ 16.5 51.421875 16.5 36.375 \nQ 16.5 21.390625 20.328125 13.890625 \nQ 24.171875 6.390625 31.78125 6.390625 \nQ 39.453125 6.390625 43.28125 13.890625 \nQ 47.125 21.390625 47.125 36.375 \nQ 47.125 51.421875 43.28125 58.90625 \nQ 39.453125 66.40625 31.78125 66.40625 \nz\nM 31.78125 74.21875 \nQ 44.046875 74.21875 50.515625 64.515625 \nQ 56.984375 54.828125 56.984375 36.375 \nQ 56.984375 17.96875 50.515625 8.265625 \nQ 44.046875 -1.421875 31.78125 -1.421875 \nQ 19.53125 -1.421875 13.0625 8.265625 \nQ 6.59375 17.96875 6.59375 36.375 \nQ 6.59375 54.828125 13.0625 64.515625 \nQ 19.53125 74.21875 31.78125 74.21875 \nz\n\" id=\"DejaVuSans-48\"/>\n       </defs>\n       <use xlink:href=\"#DejaVuSans-48\"/>\n      </g>\n     </g>\n    </g>\n    <g id=\"xtick_2\">\n     <g id=\"line2d_2\">\n      <g>\n       <use style=\"stroke:#000000;stroke-width:0.8;\" x=\"109.007945\" xlink:href=\"#m906ab8ea6b\" y=\"239.758125\"/>\n      </g>\n     </g>\n     <g id=\"text_2\">\n      <!-- 25 -->\n      <g transform=\"translate(102.645445 254.356563)scale(0.1 -0.1)\">\n       <defs>\n        <path d=\"M 19.1875 8.296875 \nL 53.609375 8.296875 \nL 53.609375 0 \nL 7.328125 0 \nL 7.328125 8.296875 \nQ 12.9375 14.109375 22.625 23.890625 \nQ 32.328125 33.6875 34.8125 36.53125 \nQ 39.546875 41.84375 41.421875 45.53125 \nQ 43.3125 49.21875 43.3125 52.78125 \nQ 43.3125 58.59375 39.234375 62.25 \nQ 35.15625 65.921875 28.609375 65.921875 \nQ 23.96875 65.921875 18.8125 64.3125 \nQ 13.671875 62.703125 7.8125 59.421875 \nL 7.8125 69.390625 \nQ 13.765625 71.78125 18.9375 73 \nQ 24.125 74.21875 28.421875 74.21875 \nQ 39.75 74.21875 46.484375 68.546875 \nQ 53.21875 62.890625 53.21875 53.421875 \nQ 53.21875 48.921875 51.53125 44.890625 \nQ 49.859375 40.875 45.40625 35.40625 \nQ 44.1875 33.984375 37.640625 27.21875 \nQ 31.109375 20.453125 19.1875 8.296875 \nz\n\" id=\"DejaVuSans-50\"/>\n        <path d=\"M 10.796875 72.90625 \nL 49.515625 72.90625 \nL 49.515625 64.59375 \nL 19.828125 64.59375 \nL 19.828125 46.734375 \nQ 21.96875 47.46875 24.109375 47.828125 \nQ 26.265625 48.1875 28.421875 48.1875 \nQ 40.625 48.1875 47.75 41.5 \nQ 54.890625 34.8125 54.890625 23.390625 \nQ 54.890625 11.625 47.5625 5.09375 \nQ 40.234375 -1.421875 26.90625 -1.421875 \nQ 22.3125 -1.421875 17.546875 -0.640625 \nQ 12.796875 0.140625 7.71875 1.703125 \nL 7.71875 11.625 \nQ 12.109375 9.234375 16.796875 8.0625 \nQ 21.484375 6.890625 26.703125 6.890625 \nQ 35.15625 6.890625 40.078125 11.328125 \nQ 45.015625 15.765625 45.015625 23.390625 \nQ 45.015625 31 40.078125 35.4375 \nQ 35.15625 39.890625 26.703125 39.890625 \nQ 22.75 39.890625 18.8125 39.015625 \nQ 14.890625 38.140625 10.796875 36.28125 \nz\n\" id=\"DejaVuSans-53\"/>\n       </defs>\n       <use xlink:href=\"#DejaVuSans-50\"/>\n       <use x=\"63.623047\" xlink:href=\"#DejaVuSans-53\"/>\n      </g>\n     </g>\n    </g>\n    <g id=\"xtick_3\">\n     <g id=\"line2d_3\">\n      <g>\n       <use style=\"stroke:#000000;stroke-width:0.8;\" x=\"147.244582\" xlink:href=\"#m906ab8ea6b\" y=\"239.758125\"/>\n      </g>\n     </g>\n     <g id=\"text_3\">\n      <!-- 50 -->\n      <g transform=\"translate(140.882082 254.356563)scale(0.1 -0.1)\">\n       <use xlink:href=\"#DejaVuSans-53\"/>\n       <use x=\"63.623047\" xlink:href=\"#DejaVuSans-48\"/>\n      </g>\n     </g>\n    </g>\n    <g id=\"xtick_4\">\n     <g id=\"line2d_4\">\n      <g>\n       <use style=\"stroke:#000000;stroke-width:0.8;\" x=\"185.48122\" xlink:href=\"#m906ab8ea6b\" y=\"239.758125\"/>\n      </g>\n     </g>\n     <g id=\"text_4\">\n      <!-- 75 -->\n      <g transform=\"translate(179.11872 254.356563)scale(0.1 -0.1)\">\n       <defs>\n        <path d=\"M 8.203125 72.90625 \nL 55.078125 72.90625 \nL 55.078125 68.703125 \nL 28.609375 0 \nL 18.3125 0 \nL 43.21875 64.59375 \nL 8.203125 64.59375 \nz\n\" id=\"DejaVuSans-55\"/>\n       </defs>\n       <use xlink:href=\"#DejaVuSans-55\"/>\n       <use x=\"63.623047\" xlink:href=\"#DejaVuSans-53\"/>\n      </g>\n     </g>\n    </g>\n    <g id=\"xtick_5\">\n     <g id=\"line2d_5\">\n      <g>\n       <use style=\"stroke:#000000;stroke-width:0.8;\" x=\"223.717858\" xlink:href=\"#m906ab8ea6b\" y=\"239.758125\"/>\n      </g>\n     </g>\n     <g id=\"text_5\">\n      <!-- 100 -->\n      <g transform=\"translate(214.174108 254.356563)scale(0.1 -0.1)\">\n       <defs>\n        <path d=\"M 12.40625 8.296875 \nL 28.515625 8.296875 \nL 28.515625 63.921875 \nL 10.984375 60.40625 \nL 10.984375 69.390625 \nL 28.421875 72.90625 \nL 38.28125 72.90625 \nL 38.28125 8.296875 \nL 54.390625 8.296875 \nL 54.390625 0 \nL 12.40625 0 \nz\n\" id=\"DejaVuSans-49\"/>\n       </defs>\n       <use xlink:href=\"#DejaVuSans-49\"/>\n       <use x=\"63.623047\" xlink:href=\"#DejaVuSans-48\"/>\n       <use x=\"127.246094\" xlink:href=\"#DejaVuSans-48\"/>\n      </g>\n     </g>\n    </g>\n    <g id=\"xtick_6\">\n     <g id=\"line2d_6\">\n      <g>\n       <use style=\"stroke:#000000;stroke-width:0.8;\" x=\"261.954495\" xlink:href=\"#m906ab8ea6b\" y=\"239.758125\"/>\n      </g>\n     </g>\n     <g id=\"text_6\">\n      <!-- 125 -->\n      <g transform=\"translate(252.410745 254.356563)scale(0.1 -0.1)\">\n       <use xlink:href=\"#DejaVuSans-49\"/>\n       <use x=\"63.623047\" xlink:href=\"#DejaVuSans-50\"/>\n       <use x=\"127.246094\" xlink:href=\"#DejaVuSans-53\"/>\n      </g>\n     </g>\n    </g>\n    <g id=\"xtick_7\">\n     <g id=\"line2d_7\">\n      <g>\n       <use style=\"stroke:#000000;stroke-width:0.8;\" x=\"300.191133\" xlink:href=\"#m906ab8ea6b\" y=\"239.758125\"/>\n      </g>\n     </g>\n     <g id=\"text_7\">\n      <!-- 150 -->\n      <g transform=\"translate(290.647383 254.356563)scale(0.1 -0.1)\">\n       <use xlink:href=\"#DejaVuSans-49\"/>\n       <use x=\"63.623047\" xlink:href=\"#DejaVuSans-53\"/>\n       <use x=\"127.246094\" xlink:href=\"#DejaVuSans-48\"/>\n      </g>\n     </g>\n    </g>\n    <g id=\"xtick_8\">\n     <g id=\"line2d_8\">\n      <g>\n       <use style=\"stroke:#000000;stroke-width:0.8;\" x=\"338.427771\" xlink:href=\"#m906ab8ea6b\" y=\"239.758125\"/>\n      </g>\n     </g>\n     <g id=\"text_8\">\n      <!-- 175 -->\n      <g transform=\"translate(328.884021 254.356563)scale(0.1 -0.1)\">\n       <use xlink:href=\"#DejaVuSans-49\"/>\n       <use x=\"63.623047\" xlink:href=\"#DejaVuSans-55\"/>\n       <use x=\"127.246094\" xlink:href=\"#DejaVuSans-53\"/>\n      </g>\n     </g>\n    </g>\n    <g id=\"xtick_9\">\n     <g id=\"line2d_9\">\n      <g>\n       <use style=\"stroke:#000000;stroke-width:0.8;\" x=\"376.664409\" xlink:href=\"#m906ab8ea6b\" y=\"239.758125\"/>\n      </g>\n     </g>\n     <g id=\"text_9\">\n      <!-- 200 -->\n      <g transform=\"translate(367.120659 254.356563)scale(0.1 -0.1)\">\n       <use xlink:href=\"#DejaVuSans-50\"/>\n       <use x=\"63.623047\" xlink:href=\"#DejaVuSans-48\"/>\n       <use x=\"127.246094\" xlink:href=\"#DejaVuSans-48\"/>\n      </g>\n     </g>\n    </g>\n   </g>\n   <g id=\"matplotlib.axis_2\">\n    <g id=\"ytick_1\">\n     <g id=\"line2d_10\">\n      <defs>\n       <path d=\"M 0 0 \nL -3.5 0 \n\" id=\"m270b535d82\" style=\"stroke:#000000;stroke-width:0.8;\"/>\n      </defs>\n      <g>\n       <use style=\"stroke:#000000;stroke-width:0.8;\" x=\"55.553125\" xlink:href=\"#m270b535d82\" y=\"221.412091\"/>\n      </g>\n     </g>\n     <g id=\"text_10\">\n      <!-- 0.00025 -->\n      <g transform=\"translate(7.2 225.211309)scale(0.1 -0.1)\">\n       <defs>\n        <path d=\"M 10.6875 12.40625 \nL 21 12.40625 \nL 21 0 \nL 10.6875 0 \nz\n\" id=\"DejaVuSans-46\"/>\n       </defs>\n       <use xlink:href=\"#DejaVuSans-48\"/>\n       <use x=\"63.623047\" xlink:href=\"#DejaVuSans-46\"/>\n       <use x=\"95.410156\" xlink:href=\"#DejaVuSans-48\"/>\n       <use x=\"159.033203\" xlink:href=\"#DejaVuSans-48\"/>\n       <use x=\"222.65625\" xlink:href=\"#DejaVuSans-48\"/>\n       <use x=\"286.279297\" xlink:href=\"#DejaVuSans-50\"/>\n       <use x=\"349.902344\" xlink:href=\"#DejaVuSans-53\"/>\n      </g>\n     </g>\n    </g>\n    <g id=\"ytick_2\">\n     <g id=\"line2d_11\">\n      <g>\n       <use style=\"stroke:#000000;stroke-width:0.8;\" x=\"55.553125\" xlink:href=\"#m270b535d82\" y=\"194.81647\"/>\n      </g>\n     </g>\n     <g id=\"text_11\">\n      <!-- 0.00050 -->\n      <g transform=\"translate(7.2 198.615689)scale(0.1 -0.1)\">\n       <use xlink:href=\"#DejaVuSans-48\"/>\n       <use x=\"63.623047\" xlink:href=\"#DejaVuSans-46\"/>\n       <use x=\"95.410156\" xlink:href=\"#DejaVuSans-48\"/>\n       <use x=\"159.033203\" xlink:href=\"#DejaVuSans-48\"/>\n       <use x=\"222.65625\" xlink:href=\"#DejaVuSans-48\"/>\n       <use x=\"286.279297\" xlink:href=\"#DejaVuSans-53\"/>\n       <use x=\"349.902344\" xlink:href=\"#DejaVuSans-48\"/>\n      </g>\n     </g>\n    </g>\n    <g id=\"ytick_3\">\n     <g id=\"line2d_12\">\n      <g>\n       <use style=\"stroke:#000000;stroke-width:0.8;\" x=\"55.553125\" xlink:href=\"#m270b535d82\" y=\"168.22085\"/>\n      </g>\n     </g>\n     <g id=\"text_12\">\n      <!-- 0.00075 -->\n      <g transform=\"translate(7.2 172.020069)scale(0.1 -0.1)\">\n       <use xlink:href=\"#DejaVuSans-48\"/>\n       <use x=\"63.623047\" xlink:href=\"#DejaVuSans-46\"/>\n       <use x=\"95.410156\" xlink:href=\"#DejaVuSans-48\"/>\n       <use x=\"159.033203\" xlink:href=\"#DejaVuSans-48\"/>\n       <use x=\"222.65625\" xlink:href=\"#DejaVuSans-48\"/>\n       <use x=\"286.279297\" xlink:href=\"#DejaVuSans-55\"/>\n       <use x=\"349.902344\" xlink:href=\"#DejaVuSans-53\"/>\n      </g>\n     </g>\n    </g>\n    <g id=\"ytick_4\">\n     <g id=\"line2d_13\">\n      <g>\n       <use style=\"stroke:#000000;stroke-width:0.8;\" x=\"55.553125\" xlink:href=\"#m270b535d82\" y=\"141.62523\"/>\n      </g>\n     </g>\n     <g id=\"text_13\">\n      <!-- 0.00100 -->\n      <g transform=\"translate(7.2 145.424448)scale(0.1 -0.1)\">\n       <use xlink:href=\"#DejaVuSans-48\"/>\n       <use x=\"63.623047\" xlink:href=\"#DejaVuSans-46\"/>\n       <use x=\"95.410156\" xlink:href=\"#DejaVuSans-48\"/>\n       <use x=\"159.033203\" xlink:href=\"#DejaVuSans-48\"/>\n       <use x=\"222.65625\" xlink:href=\"#DejaVuSans-49\"/>\n       <use x=\"286.279297\" xlink:href=\"#DejaVuSans-48\"/>\n       <use x=\"349.902344\" xlink:href=\"#DejaVuSans-48\"/>\n      </g>\n     </g>\n    </g>\n    <g id=\"ytick_5\">\n     <g id=\"line2d_14\">\n      <g>\n       <use style=\"stroke:#000000;stroke-width:0.8;\" x=\"55.553125\" xlink:href=\"#m270b535d82\" y=\"115.029609\"/>\n      </g>\n     </g>\n     <g id=\"text_14\">\n      <!-- 0.00125 -->\n      <g transform=\"translate(7.2 118.828828)scale(0.1 -0.1)\">\n       <use xlink:href=\"#DejaVuSans-48\"/>\n       <use x=\"63.623047\" xlink:href=\"#DejaVuSans-46\"/>\n       <use x=\"95.410156\" xlink:href=\"#DejaVuSans-48\"/>\n       <use x=\"159.033203\" xlink:href=\"#DejaVuSans-48\"/>\n       <use x=\"222.65625\" xlink:href=\"#DejaVuSans-49\"/>\n       <use x=\"286.279297\" xlink:href=\"#DejaVuSans-50\"/>\n       <use x=\"349.902344\" xlink:href=\"#DejaVuSans-53\"/>\n      </g>\n     </g>\n    </g>\n    <g id=\"ytick_6\">\n     <g id=\"line2d_15\">\n      <g>\n       <use style=\"stroke:#000000;stroke-width:0.8;\" x=\"55.553125\" xlink:href=\"#m270b535d82\" y=\"88.433989\"/>\n      </g>\n     </g>\n     <g id=\"text_15\">\n      <!-- 0.00150 -->\n      <g transform=\"translate(7.2 92.233208)scale(0.1 -0.1)\">\n       <use xlink:href=\"#DejaVuSans-48\"/>\n       <use x=\"63.623047\" xlink:href=\"#DejaVuSans-46\"/>\n       <use x=\"95.410156\" xlink:href=\"#DejaVuSans-48\"/>\n       <use x=\"159.033203\" xlink:href=\"#DejaVuSans-48\"/>\n       <use x=\"222.65625\" xlink:href=\"#DejaVuSans-49\"/>\n       <use x=\"286.279297\" xlink:href=\"#DejaVuSans-53\"/>\n       <use x=\"349.902344\" xlink:href=\"#DejaVuSans-48\"/>\n      </g>\n     </g>\n    </g>\n    <g id=\"ytick_7\">\n     <g id=\"line2d_16\">\n      <g>\n       <use style=\"stroke:#000000;stroke-width:0.8;\" x=\"55.553125\" xlink:href=\"#m270b535d82\" y=\"61.838369\"/>\n      </g>\n     </g>\n     <g id=\"text_16\">\n      <!-- 0.00175 -->\n      <g transform=\"translate(7.2 65.637587)scale(0.1 -0.1)\">\n       <use xlink:href=\"#DejaVuSans-48\"/>\n       <use x=\"63.623047\" xlink:href=\"#DejaVuSans-46\"/>\n       <use x=\"95.410156\" xlink:href=\"#DejaVuSans-48\"/>\n       <use x=\"159.033203\" xlink:href=\"#DejaVuSans-48\"/>\n       <use x=\"222.65625\" xlink:href=\"#DejaVuSans-49\"/>\n       <use x=\"286.279297\" xlink:href=\"#DejaVuSans-55\"/>\n       <use x=\"349.902344\" xlink:href=\"#DejaVuSans-53\"/>\n      </g>\n     </g>\n    </g>\n    <g id=\"ytick_8\">\n     <g id=\"line2d_17\">\n      <g>\n       <use style=\"stroke:#000000;stroke-width:0.8;\" x=\"55.553125\" xlink:href=\"#m270b535d82\" y=\"35.242748\"/>\n      </g>\n     </g>\n     <g id=\"text_17\">\n      <!-- 0.00200 -->\n      <g transform=\"translate(7.2 39.041967)scale(0.1 -0.1)\">\n       <use xlink:href=\"#DejaVuSans-48\"/>\n       <use x=\"63.623047\" xlink:href=\"#DejaVuSans-46\"/>\n       <use x=\"95.410156\" xlink:href=\"#DejaVuSans-48\"/>\n       <use x=\"159.033203\" xlink:href=\"#DejaVuSans-48\"/>\n       <use x=\"222.65625\" xlink:href=\"#DejaVuSans-50\"/>\n       <use x=\"286.279297\" xlink:href=\"#DejaVuSans-48\"/>\n       <use x=\"349.902344\" xlink:href=\"#DejaVuSans-48\"/>\n      </g>\n     </g>\n    </g>\n   </g>\n   <g id=\"line2d_18\">\n    <path clip-path=\"url(#p9cd0d2a9d1)\" d=\"M 70.771307 32.201761 \nL 73.830238 135.162817 \nL 75.359703 164.577463 \nL 76.889169 178.231121 \nL 78.418634 187.536569 \nL 79.9481 193.321609 \nL 83.007031 202.683949 \nL 84.536496 205.68375 \nL 86.065962 207.326239 \nL 87.595427 208.664529 \nL 89.124893 209.823806 \nL 90.654358 210.168645 \nL 92.183824 210.27574 \nL 93.713289 210.552792 \nL 95.242755 211.219982 \nL 96.77222 211.481962 \nL 98.301686 196.502281 \nL 99.831151 211.165824 \nL 101.360617 211.517734 \nL 102.890083 210.23537 \nL 104.419548 212.090894 \nL 105.949014 212.006481 \nL 107.478479 212.49939 \nL 109.007945 212.250113 \nL 110.53741 212.892132 \nL 112.066876 212.53497 \nL 113.596341 212.819985 \nL 115.125807 212.676021 \nL 116.655272 213.250708 \nL 119.714203 213.158793 \nL 121.243669 213.137482 \nL 122.773134 212.69766 \nL 124.3026 213.221186 \nL 125.832065 213.229016 \nL 127.361531 213.808796 \nL 128.890996 213.030891 \nL 130.420462 213.777159 \nL 131.949927 213.355317 \nL 136.538324 214.342307 \nL 138.067789 214.011871 \nL 139.597255 214.205457 \nL 141.12672 213.406273 \nL 142.656186 213.81487 \nL 144.185651 213.828085 \nL 147.244582 212.776488 \nL 148.774048 213.969461 \nL 150.303513 214.273514 \nL 151.832979 212.892107 \nL 153.362444 214.057081 \nL 154.89191 207.769745 \nL 156.421375 213.724776 \nL 157.950841 214.803411 \nL 159.480306 214.797718 \nL 161.009772 214.198599 \nL 162.539237 214.89162 \nL 165.598168 214.867529 \nL 167.127634 214.257909 \nL 168.657099 212.533676 \nL 170.186565 212.708289 \nL 173.245496 214.536308 \nL 176.304427 214.471666 \nL 177.833892 214.645323 \nL 179.363358 215.214774 \nL 180.892823 215.377488 \nL 182.422289 213.948252 \nL 183.951755 213.820564 \nL 185.48122 214.348539 \nL 187.010686 215.194946 \nL 188.540151 213.854297 \nL 190.069617 215.136404 \nL 191.599082 212.485079 \nL 193.128548 214.402437 \nL 194.658013 214.951329 \nL 196.187479 214.837726 \nL 197.716944 214.396118 \nL 199.24641 215.360273 \nL 200.775875 215.378454 \nL 202.305341 215.257931 \nL 203.834806 214.798067 \nL 205.364272 215.083339 \nL 206.893737 214.274309 \nL 208.423203 215.370419 \nL 209.952668 214.819171 \nL 211.482134 214.853173 \nL 213.011599 215.039167 \nL 214.541065 213.909364 \nL 216.07053 214.957584 \nL 217.599996 214.948698 \nL 219.129461 214.331541 \nL 220.658927 205.165135 \nL 222.188392 212.368472 \nL 223.717858 214.830661 \nL 225.247323 214.708184 \nL 226.776789 215.43376 \nL 228.306254 215.746749 \nL 229.83572 212.391737 \nL 231.365185 215.795256 \nL 234.424116 215.631464 \nL 237.483047 215.902986 \nL 239.012513 215.760781 \nL 240.541978 215.233799 \nL 242.071444 214.963776 \nL 243.600909 215.639944 \nL 246.65984 215.81622 \nL 248.189306 215.620052 \nL 249.718771 215.584747 \nL 251.248237 215.750052 \nL 252.777702 215.397183 \nL 254.307168 215.943446 \nL 255.836633 215.318801 \nL 257.366099 216.123063 \nL 258.895564 215.812272 \nL 260.42503 216.014175 \nL 261.954495 215.10957 \nL 263.483961 215.698697 \nL 265.013427 215.676519 \nL 266.542892 214.287849 \nL 268.072358 213.247373 \nL 269.601823 212.379879 \nL 271.131289 215.044845 \nL 272.660754 215.973779 \nL 274.19022 215.449814 \nL 275.719685 215.705236 \nL 277.249151 215.697294 \nL 278.778616 216.171824 \nL 280.308082 215.58305 \nL 281.837547 216.190698 \nL 283.367013 216.32276 \nL 284.896478 215.804696 \nL 286.425944 214.959051 \nL 287.955409 215.581136 \nL 289.484875 215.19023 \nL 291.01434 215.483382 \nL 292.543806 216.292319 \nL 294.073271 216.184419 \nL 297.132202 216.303961 \nL 298.661668 216.180001 \nL 300.191133 215.776716 \nL 301.720599 215.707889 \nL 304.77953 216.375757 \nL 306.308995 215.726314 \nL 307.838461 214.040625 \nL 309.367926 214.503705 \nL 310.897392 216.26868 \nL 312.426857 216.30563 \nL 313.956323 216.123245 \nL 315.485788 215.528583 \nL 317.015254 216.294149 \nL 318.544719 216.740544 \nL 320.074185 216.020838 \nL 321.60365 216.438061 \nL 323.133116 216.603642 \nL 324.662581 215.291731 \nL 326.192047 216.237967 \nL 327.721512 216.30279 \nL 329.250978 216.540075 \nL 330.780443 215.162121 \nL 332.309909 216.397337 \nL 333.839374 216.456994 \nL 335.36884 216.8023 \nL 338.427771 216.427512 \nL 339.957236 209.155617 \nL 341.486702 215.341356 \nL 343.016167 216.142544 \nL 344.545633 216.529833 \nL 346.075099 215.467629 \nL 347.604564 216.465319 \nL 349.13403 215.129816 \nL 350.663495 216.821493 \nL 352.192961 217.069149 \nL 353.722426 216.320912 \nL 355.251892 215.000552 \nL 356.781357 216.842689 \nL 359.840288 216.886573 \nL 361.369754 216.243506 \nL 364.428685 216.970448 \nL 365.95815 215.825459 \nL 367.487616 216.705229 \nL 369.017081 216.470505 \nL 370.546547 216.949264 \nL 372.076012 216.856785 \nL 373.605478 216.595824 \nL 375.134943 217.11587 \nL 375.134943 217.11587 \n\" style=\"fill:none;stroke:#1f77b4;stroke-linecap:square;stroke-width:1.5;\"/>\n   </g>\n   <g id=\"line2d_19\">\n    <path clip-path=\"url(#p9cd0d2a9d1)\" d=\"M 70.771307 146.511085 \nL 72.300772 175.186676 \nL 73.830238 200.942229 \nL 75.359703 214.068881 \nL 76.889169 217.676268 \nL 78.418634 221.638101 \nL 79.9481 223.225976 \nL 81.477565 223.216347 \nL 83.007031 222.907806 \nL 84.536496 224.023137 \nL 86.065962 223.064555 \nL 87.595427 223.112686 \nL 89.124893 223.359757 \nL 90.654358 222.31856 \nL 92.183824 226.815094 \nL 93.713289 226.009899 \nL 95.242755 227.373939 \nL 96.77222 222.438691 \nL 98.301686 223.363371 \nL 99.831151 225.199318 \nL 101.360617 224.93637 \nL 104.419548 226.693071 \nL 105.949014 225.887272 \nL 107.478479 226.990796 \nL 109.007945 225.875872 \nL 110.53741 226.863318 \nL 112.066876 227.300254 \nL 113.596341 227.014037 \nL 115.125807 227.173424 \nL 116.655272 227.174545 \nL 118.184738 227.634862 \nL 119.714203 228.302717 \nL 121.243669 227.61646 \nL 122.773134 227.896091 \nL 124.3026 227.06583 \nL 125.832065 226.989768 \nL 127.361531 227.605897 \nL 128.890996 227.97668 \nL 130.420462 226.052992 \nL 131.949927 227.631888 \nL 133.479393 227.909324 \nL 135.008858 228.595282 \nL 136.538324 227.788467 \nL 138.067789 228.203211 \nL 139.597255 228.094524 \nL 141.12672 226.829505 \nL 142.656186 229.874489 \nL 144.185651 226.88549 \nL 145.715117 226.382349 \nL 147.244582 226.80836 \nL 148.774048 227.934472 \nL 150.303513 227.44159 \nL 151.832979 227.448004 \nL 153.362444 224.282937 \nL 154.89191 227.719941 \nL 156.421375 229.480942 \nL 157.950841 228.379988 \nL 159.480306 227.696939 \nL 161.009772 227.515775 \nL 162.539237 229.135829 \nL 164.068703 228.30353 \nL 165.598168 228.596792 \nL 167.127634 229.441627 \nL 168.657099 227.070518 \nL 170.186565 222.776401 \nL 171.71603 228.836521 \nL 173.245496 226.931826 \nL 174.774961 228.241548 \nL 176.304427 227.320158 \nL 177.833892 228.283018 \nL 179.363358 227.686518 \nL 180.892823 229.315091 \nL 182.422289 227.470824 \nL 183.951755 227.840845 \nL 185.48122 227.911824 \nL 187.010686 227.630038 \nL 188.540151 228.433791 \nL 190.069617 227.558471 \nL 191.599082 225.451614 \nL 193.128548 227.991362 \nL 194.658013 227.91043 \nL 196.187479 227.282777 \nL 199.24641 226.908341 \nL 200.775875 227.508637 \nL 202.305341 226.921923 \nL 203.834806 227.498571 \nL 205.364272 226.697463 \nL 206.893737 228.212997 \nL 208.423203 228.581 \nL 211.482134 226.553653 \nL 213.011599 226.997256 \nL 214.541065 226.847714 \nL 216.07053 227.92493 \nL 217.599996 227.04282 \nL 219.129461 223.027688 \nL 220.658927 229.619396 \nL 222.188392 226.885268 \nL 223.717858 225.209555 \nL 225.247323 226.204411 \nL 226.776789 227.365114 \nL 229.83572 227.517192 \nL 231.365185 227.966136 \nL 232.894651 227.088349 \nL 234.424116 227.200958 \nL 235.953582 227.801829 \nL 237.483047 226.898647 \nL 239.012513 224.749484 \nL 242.071444 228.679017 \nL 243.600909 226.995132 \nL 245.130375 227.553498 \nL 246.65984 226.256122 \nL 248.189306 227.13904 \nL 249.718771 227.795732 \nL 251.248237 227.158888 \nL 252.777702 227.059076 \nL 254.307168 227.221489 \nL 255.836633 226.628972 \nL 257.366099 226.918566 \nL 258.895564 226.531843 \nL 260.42503 226.790556 \nL 261.954495 227.475826 \nL 263.483961 226.822311 \nL 265.013427 225.906126 \nL 266.542892 223.895627 \nL 268.072358 227.084101 \nL 269.601823 228.487925 \nL 271.131289 226.959077 \nL 272.660754 226.913791 \nL 274.19022 227.191212 \nL 275.719685 226.077272 \nL 277.249151 226.306109 \nL 278.778616 226.058949 \nL 280.308082 226.634687 \nL 281.837547 226.469587 \nL 283.367013 227.26923 \nL 284.896478 225.105966 \nL 286.425944 225.635189 \nL 287.955409 227.244117 \nL 289.484875 226.402519 \nL 291.01434 226.647014 \nL 292.543806 227.339297 \nL 294.073271 226.960271 \nL 295.602737 227.319251 \nL 297.132202 226.621216 \nL 298.661668 224.701774 \nL 300.191133 228.701099 \nL 301.720599 228.873154 \nL 303.250064 226.988918 \nL 304.77953 225.286048 \nL 306.308995 226.888193 \nL 307.838461 224.774675 \nL 309.367926 226.977301 \nL 312.426857 227.40041 \nL 313.956323 227.20689 \nL 315.485788 227.837103 \nL 317.015254 227.360445 \nL 318.544719 227.619355 \nL 320.074185 228.525269 \nL 321.60365 226.804585 \nL 323.133116 227.025119 \nL 324.662581 227.995385 \nL 326.192047 228.699413 \nL 327.721512 228.33031 \nL 329.250978 227.196681 \nL 330.780443 227.860417 \nL 332.309909 226.807729 \nL 333.839374 228.181578 \nL 335.36884 226.117595 \nL 336.898305 227.555093 \nL 338.427771 225.143711 \nL 339.957236 227.158414 \nL 341.486702 224.942145 \nL 343.016167 227.906049 \nL 344.545633 225.071168 \nL 346.075099 227.422431 \nL 347.604564 225.980199 \nL 349.13403 227.914935 \nL 350.663495 228.488947 \nL 352.192961 226.296521 \nL 353.722426 227.920541 \nL 355.251892 227.434127 \nL 356.781357 227.374486 \nL 358.310823 226.863792 \nL 359.840288 225.80867 \nL 361.369754 228.278337 \nL 362.899219 224.408871 \nL 364.428685 228.653774 \nL 365.95815 227.001316 \nL 367.487616 227.078153 \nL 370.546547 227.489411 \nL 372.076012 226.712973 \nL 373.605478 226.931235 \nL 375.134943 228.479606 \nL 375.134943 228.479606 \n\" style=\"fill:none;stroke:#ff7f0e;stroke-linecap:square;stroke-width:1.5;\"/>\n   </g>\n   <g id=\"patch_3\">\n    <path d=\"M 55.553125 239.758125 \nL 55.553125 22.318125 \n\" style=\"fill:none;stroke:#000000;stroke-linecap:square;stroke-linejoin:miter;stroke-width:0.8;\"/>\n   </g>\n   <g id=\"patch_4\">\n    <path d=\"M 390.353125 239.758125 \nL 390.353125 22.318125 \n\" style=\"fill:none;stroke:#000000;stroke-linecap:square;stroke-linejoin:miter;stroke-width:0.8;\"/>\n   </g>\n   <g id=\"patch_5\">\n    <path d=\"M 55.553125 239.758125 \nL 390.353125 239.758125 \n\" style=\"fill:none;stroke:#000000;stroke-linecap:square;stroke-linejoin:miter;stroke-width:0.8;\"/>\n   </g>\n   <g id=\"patch_6\">\n    <path d=\"M 55.553125 22.318125 \nL 390.353125 22.318125 \n\" style=\"fill:none;stroke:#000000;stroke-linecap:square;stroke-linejoin:miter;stroke-width:0.8;\"/>\n   </g>\n   <g id=\"text_18\">\n    <!-- Model loss with 100 epoch -->\n    <g transform=\"translate(143.265625 16.318125)scale(0.12 -0.12)\">\n     <defs>\n      <path d=\"M 9.8125 72.90625 \nL 24.515625 72.90625 \nL 43.109375 23.296875 \nL 61.8125 72.90625 \nL 76.515625 72.90625 \nL 76.515625 0 \nL 66.890625 0 \nL 66.890625 64.015625 \nL 48.09375 14.015625 \nL 38.1875 14.015625 \nL 19.390625 64.015625 \nL 19.390625 0 \nL 9.8125 0 \nz\n\" id=\"DejaVuSans-77\"/>\n      <path d=\"M 30.609375 48.390625 \nQ 23.390625 48.390625 19.1875 42.75 \nQ 14.984375 37.109375 14.984375 27.296875 \nQ 14.984375 17.484375 19.15625 11.84375 \nQ 23.34375 6.203125 30.609375 6.203125 \nQ 37.796875 6.203125 41.984375 11.859375 \nQ 46.1875 17.53125 46.1875 27.296875 \nQ 46.1875 37.015625 41.984375 42.703125 \nQ 37.796875 48.390625 30.609375 48.390625 \nz\nM 30.609375 56 \nQ 42.328125 56 49.015625 48.375 \nQ 55.71875 40.765625 55.71875 27.296875 \nQ 55.71875 13.875 49.015625 6.21875 \nQ 42.328125 -1.421875 30.609375 -1.421875 \nQ 18.84375 -1.421875 12.171875 6.21875 \nQ 5.515625 13.875 5.515625 27.296875 \nQ 5.515625 40.765625 12.171875 48.375 \nQ 18.84375 56 30.609375 56 \nz\n\" id=\"DejaVuSans-111\"/>\n      <path d=\"M 45.40625 46.390625 \nL 45.40625 75.984375 \nL 54.390625 75.984375 \nL 54.390625 0 \nL 45.40625 0 \nL 45.40625 8.203125 \nQ 42.578125 3.328125 38.25 0.953125 \nQ 33.9375 -1.421875 27.875 -1.421875 \nQ 17.96875 -1.421875 11.734375 6.484375 \nQ 5.515625 14.40625 5.515625 27.296875 \nQ 5.515625 40.1875 11.734375 48.09375 \nQ 17.96875 56 27.875 56 \nQ 33.9375 56 38.25 53.625 \nQ 42.578125 51.265625 45.40625 46.390625 \nz\nM 14.796875 27.296875 \nQ 14.796875 17.390625 18.875 11.75 \nQ 22.953125 6.109375 30.078125 6.109375 \nQ 37.203125 6.109375 41.296875 11.75 \nQ 45.40625 17.390625 45.40625 27.296875 \nQ 45.40625 37.203125 41.296875 42.84375 \nQ 37.203125 48.484375 30.078125 48.484375 \nQ 22.953125 48.484375 18.875 42.84375 \nQ 14.796875 37.203125 14.796875 27.296875 \nz\n\" id=\"DejaVuSans-100\"/>\n      <path d=\"M 56.203125 29.59375 \nL 56.203125 25.203125 \nL 14.890625 25.203125 \nQ 15.484375 15.921875 20.484375 11.0625 \nQ 25.484375 6.203125 34.421875 6.203125 \nQ 39.59375 6.203125 44.453125 7.46875 \nQ 49.3125 8.734375 54.109375 11.28125 \nL 54.109375 2.78125 \nQ 49.265625 0.734375 44.1875 -0.34375 \nQ 39.109375 -1.421875 33.890625 -1.421875 \nQ 20.796875 -1.421875 13.15625 6.1875 \nQ 5.515625 13.8125 5.515625 26.8125 \nQ 5.515625 40.234375 12.765625 48.109375 \nQ 20.015625 56 32.328125 56 \nQ 43.359375 56 49.78125 48.890625 \nQ 56.203125 41.796875 56.203125 29.59375 \nz\nM 47.21875 32.234375 \nQ 47.125 39.59375 43.09375 43.984375 \nQ 39.0625 48.390625 32.421875 48.390625 \nQ 24.90625 48.390625 20.390625 44.140625 \nQ 15.875 39.890625 15.1875 32.171875 \nz\n\" id=\"DejaVuSans-101\"/>\n      <path d=\"M 9.421875 75.984375 \nL 18.40625 75.984375 \nL 18.40625 0 \nL 9.421875 0 \nz\n\" id=\"DejaVuSans-108\"/>\n      <path id=\"DejaVuSans-32\"/>\n      <path d=\"M 44.28125 53.078125 \nL 44.28125 44.578125 \nQ 40.484375 46.53125 36.375 47.5 \nQ 32.28125 48.484375 27.875 48.484375 \nQ 21.1875 48.484375 17.84375 46.4375 \nQ 14.5 44.390625 14.5 40.28125 \nQ 14.5 37.15625 16.890625 35.375 \nQ 19.28125 33.59375 26.515625 31.984375 \nL 29.59375 31.296875 \nQ 39.15625 29.25 43.1875 25.515625 \nQ 47.21875 21.78125 47.21875 15.09375 \nQ 47.21875 7.46875 41.1875 3.015625 \nQ 35.15625 -1.421875 24.609375 -1.421875 \nQ 20.21875 -1.421875 15.453125 -0.5625 \nQ 10.6875 0.296875 5.421875 2 \nL 5.421875 11.28125 \nQ 10.40625 8.6875 15.234375 7.390625 \nQ 20.0625 6.109375 24.8125 6.109375 \nQ 31.15625 6.109375 34.5625 8.28125 \nQ 37.984375 10.453125 37.984375 14.40625 \nQ 37.984375 18.0625 35.515625 20.015625 \nQ 33.0625 21.96875 24.703125 23.78125 \nL 21.578125 24.515625 \nQ 13.234375 26.265625 9.515625 29.90625 \nQ 5.8125 33.546875 5.8125 39.890625 \nQ 5.8125 47.609375 11.28125 51.796875 \nQ 16.75 56 26.8125 56 \nQ 31.78125 56 36.171875 55.265625 \nQ 40.578125 54.546875 44.28125 53.078125 \nz\n\" id=\"DejaVuSans-115\"/>\n      <path d=\"M 4.203125 54.6875 \nL 13.1875 54.6875 \nL 24.421875 12.015625 \nL 35.59375 54.6875 \nL 46.1875 54.6875 \nL 57.421875 12.015625 \nL 68.609375 54.6875 \nL 77.59375 54.6875 \nL 63.28125 0 \nL 52.6875 0 \nL 40.921875 44.828125 \nL 29.109375 0 \nL 18.5 0 \nz\n\" id=\"DejaVuSans-119\"/>\n      <path d=\"M 9.421875 54.6875 \nL 18.40625 54.6875 \nL 18.40625 0 \nL 9.421875 0 \nz\nM 9.421875 75.984375 \nL 18.40625 75.984375 \nL 18.40625 64.59375 \nL 9.421875 64.59375 \nz\n\" id=\"DejaVuSans-105\"/>\n      <path d=\"M 18.3125 70.21875 \nL 18.3125 54.6875 \nL 36.8125 54.6875 \nL 36.8125 47.703125 \nL 18.3125 47.703125 \nL 18.3125 18.015625 \nQ 18.3125 11.328125 20.140625 9.421875 \nQ 21.96875 7.515625 27.59375 7.515625 \nL 36.8125 7.515625 \nL 36.8125 0 \nL 27.59375 0 \nQ 17.1875 0 13.234375 3.875 \nQ 9.28125 7.765625 9.28125 18.015625 \nL 9.28125 47.703125 \nL 2.6875 47.703125 \nL 2.6875 54.6875 \nL 9.28125 54.6875 \nL 9.28125 70.21875 \nz\n\" id=\"DejaVuSans-116\"/>\n      <path d=\"M 54.890625 33.015625 \nL 54.890625 0 \nL 45.90625 0 \nL 45.90625 32.71875 \nQ 45.90625 40.484375 42.875 44.328125 \nQ 39.84375 48.1875 33.796875 48.1875 \nQ 26.515625 48.1875 22.3125 43.546875 \nQ 18.109375 38.921875 18.109375 30.90625 \nL 18.109375 0 \nL 9.078125 0 \nL 9.078125 75.984375 \nL 18.109375 75.984375 \nL 18.109375 46.1875 \nQ 21.34375 51.125 25.703125 53.5625 \nQ 30.078125 56 35.796875 56 \nQ 45.21875 56 50.046875 50.171875 \nQ 54.890625 44.34375 54.890625 33.015625 \nz\n\" id=\"DejaVuSans-104\"/>\n      <path d=\"M 18.109375 8.203125 \nL 18.109375 -20.796875 \nL 9.078125 -20.796875 \nL 9.078125 54.6875 \nL 18.109375 54.6875 \nL 18.109375 46.390625 \nQ 20.953125 51.265625 25.265625 53.625 \nQ 29.59375 56 35.59375 56 \nQ 45.5625 56 51.78125 48.09375 \nQ 58.015625 40.1875 58.015625 27.296875 \nQ 58.015625 14.40625 51.78125 6.484375 \nQ 45.5625 -1.421875 35.59375 -1.421875 \nQ 29.59375 -1.421875 25.265625 0.953125 \nQ 20.953125 3.328125 18.109375 8.203125 \nz\nM 48.6875 27.296875 \nQ 48.6875 37.203125 44.609375 42.84375 \nQ 40.53125 48.484375 33.40625 48.484375 \nQ 26.265625 48.484375 22.1875 42.84375 \nQ 18.109375 37.203125 18.109375 27.296875 \nQ 18.109375 17.390625 22.1875 11.75 \nQ 26.265625 6.109375 33.40625 6.109375 \nQ 40.53125 6.109375 44.609375 11.75 \nQ 48.6875 17.390625 48.6875 27.296875 \nz\n\" id=\"DejaVuSans-112\"/>\n      <path d=\"M 48.78125 52.59375 \nL 48.78125 44.1875 \nQ 44.96875 46.296875 41.140625 47.34375 \nQ 37.3125 48.390625 33.40625 48.390625 \nQ 24.65625 48.390625 19.8125 42.84375 \nQ 14.984375 37.3125 14.984375 27.296875 \nQ 14.984375 17.28125 19.8125 11.734375 \nQ 24.65625 6.203125 33.40625 6.203125 \nQ 37.3125 6.203125 41.140625 7.25 \nQ 44.96875 8.296875 48.78125 10.40625 \nL 48.78125 2.09375 \nQ 45.015625 0.34375 40.984375 -0.53125 \nQ 36.96875 -1.421875 32.421875 -1.421875 \nQ 20.0625 -1.421875 12.78125 6.34375 \nQ 5.515625 14.109375 5.515625 27.296875 \nQ 5.515625 40.671875 12.859375 48.328125 \nQ 20.21875 56 33.015625 56 \nQ 37.15625 56 41.109375 55.140625 \nQ 45.0625 54.296875 48.78125 52.59375 \nz\n\" id=\"DejaVuSans-99\"/>\n     </defs>\n     <use xlink:href=\"#DejaVuSans-77\"/>\n     <use x=\"86.279297\" xlink:href=\"#DejaVuSans-111\"/>\n     <use x=\"147.460938\" xlink:href=\"#DejaVuSans-100\"/>\n     <use x=\"210.9375\" xlink:href=\"#DejaVuSans-101\"/>\n     <use x=\"272.460938\" xlink:href=\"#DejaVuSans-108\"/>\n     <use x=\"300.244141\" xlink:href=\"#DejaVuSans-32\"/>\n     <use x=\"332.03125\" xlink:href=\"#DejaVuSans-108\"/>\n     <use x=\"359.814453\" xlink:href=\"#DejaVuSans-111\"/>\n     <use x=\"420.996094\" xlink:href=\"#DejaVuSans-115\"/>\n     <use x=\"473.095703\" xlink:href=\"#DejaVuSans-115\"/>\n     <use x=\"525.195312\" xlink:href=\"#DejaVuSans-32\"/>\n     <use x=\"556.982422\" xlink:href=\"#DejaVuSans-119\"/>\n     <use x=\"638.769531\" xlink:href=\"#DejaVuSans-105\"/>\n     <use x=\"666.552734\" xlink:href=\"#DejaVuSans-116\"/>\n     <use x=\"705.761719\" xlink:href=\"#DejaVuSans-104\"/>\n     <use x=\"769.140625\" xlink:href=\"#DejaVuSans-32\"/>\n     <use x=\"800.927734\" xlink:href=\"#DejaVuSans-49\"/>\n     <use x=\"864.550781\" xlink:href=\"#DejaVuSans-48\"/>\n     <use x=\"928.173828\" xlink:href=\"#DejaVuSans-48\"/>\n     <use x=\"991.796875\" xlink:href=\"#DejaVuSans-32\"/>\n     <use x=\"1023.583984\" xlink:href=\"#DejaVuSans-101\"/>\n     <use x=\"1085.107422\" xlink:href=\"#DejaVuSans-112\"/>\n     <use x=\"1148.583984\" xlink:href=\"#DejaVuSans-111\"/>\n     <use x=\"1209.765625\" xlink:href=\"#DejaVuSans-99\"/>\n     <use x=\"1264.746094\" xlink:href=\"#DejaVuSans-104\"/>\n    </g>\n   </g>\n   <g id=\"legend_1\">\n    <g id=\"patch_7\">\n     <path d=\"M 302.11875 59.674375 \nL 383.353125 59.674375 \nQ 385.353125 59.674375 385.353125 57.674375 \nL 385.353125 29.318125 \nQ 385.353125 27.318125 383.353125 27.318125 \nL 302.11875 27.318125 \nQ 300.11875 27.318125 300.11875 29.318125 \nL 300.11875 57.674375 \nQ 300.11875 59.674375 302.11875 59.674375 \nz\n\" style=\"fill:#ffffff;opacity:0.8;stroke:#cccccc;stroke-linejoin:miter;\"/>\n    </g>\n    <g id=\"line2d_20\">\n     <path d=\"M 304.11875 35.416562 \nL 324.11875 35.416562 \n\" style=\"fill:none;stroke:#1f77b4;stroke-linecap:square;stroke-width:1.5;\"/>\n    </g>\n    <g id=\"line2d_21\"/>\n    <g id=\"text_19\">\n     <!-- train -->\n     <g transform=\"translate(332.11875 38.916562)scale(0.1 -0.1)\">\n      <defs>\n       <path d=\"M 41.109375 46.296875 \nQ 39.59375 47.171875 37.8125 47.578125 \nQ 36.03125 48 33.890625 48 \nQ 26.265625 48 22.1875 43.046875 \nQ 18.109375 38.09375 18.109375 28.8125 \nL 18.109375 0 \nL 9.078125 0 \nL 9.078125 54.6875 \nL 18.109375 54.6875 \nL 18.109375 46.1875 \nQ 20.953125 51.171875 25.484375 53.578125 \nQ 30.03125 56 36.53125 56 \nQ 37.453125 56 38.578125 55.875 \nQ 39.703125 55.765625 41.0625 55.515625 \nz\n\" id=\"DejaVuSans-114\"/>\n       <path d=\"M 34.28125 27.484375 \nQ 23.390625 27.484375 19.1875 25 \nQ 14.984375 22.515625 14.984375 16.5 \nQ 14.984375 11.71875 18.140625 8.90625 \nQ 21.296875 6.109375 26.703125 6.109375 \nQ 34.1875 6.109375 38.703125 11.40625 \nQ 43.21875 16.703125 43.21875 25.484375 \nL 43.21875 27.484375 \nz\nM 52.203125 31.203125 \nL 52.203125 0 \nL 43.21875 0 \nL 43.21875 8.296875 \nQ 40.140625 3.328125 35.546875 0.953125 \nQ 30.953125 -1.421875 24.3125 -1.421875 \nQ 15.921875 -1.421875 10.953125 3.296875 \nQ 6 8.015625 6 15.921875 \nQ 6 25.140625 12.171875 29.828125 \nQ 18.359375 34.515625 30.609375 34.515625 \nL 43.21875 34.515625 \nL 43.21875 35.40625 \nQ 43.21875 41.609375 39.140625 45 \nQ 35.0625 48.390625 27.6875 48.390625 \nQ 23 48.390625 18.546875 47.265625 \nQ 14.109375 46.140625 10.015625 43.890625 \nL 10.015625 52.203125 \nQ 14.9375 54.109375 19.578125 55.046875 \nQ 24.21875 56 28.609375 56 \nQ 40.484375 56 46.34375 49.84375 \nQ 52.203125 43.703125 52.203125 31.203125 \nz\n\" id=\"DejaVuSans-97\"/>\n       <path d=\"M 54.890625 33.015625 \nL 54.890625 0 \nL 45.90625 0 \nL 45.90625 32.71875 \nQ 45.90625 40.484375 42.875 44.328125 \nQ 39.84375 48.1875 33.796875 48.1875 \nQ 26.515625 48.1875 22.3125 43.546875 \nQ 18.109375 38.921875 18.109375 30.90625 \nL 18.109375 0 \nL 9.078125 0 \nL 9.078125 54.6875 \nL 18.109375 54.6875 \nL 18.109375 46.1875 \nQ 21.34375 51.125 25.703125 53.5625 \nQ 30.078125 56 35.796875 56 \nQ 45.21875 56 50.046875 50.171875 \nQ 54.890625 44.34375 54.890625 33.015625 \nz\n\" id=\"DejaVuSans-110\"/>\n      </defs>\n      <use xlink:href=\"#DejaVuSans-116\"/>\n      <use x=\"39.208984\" xlink:href=\"#DejaVuSans-114\"/>\n      <use x=\"80.322266\" xlink:href=\"#DejaVuSans-97\"/>\n      <use x=\"141.601562\" xlink:href=\"#DejaVuSans-105\"/>\n      <use x=\"169.384766\" xlink:href=\"#DejaVuSans-110\"/>\n     </g>\n    </g>\n    <g id=\"line2d_22\">\n     <path d=\"M 304.11875 50.094687 \nL 324.11875 50.094687 \n\" style=\"fill:none;stroke:#ff7f0e;stroke-linecap:square;stroke-width:1.5;\"/>\n    </g>\n    <g id=\"line2d_23\"/>\n    <g id=\"text_20\">\n     <!-- validation -->\n     <g transform=\"translate(332.11875 53.594687)scale(0.1 -0.1)\">\n      <defs>\n       <path d=\"M 2.984375 54.6875 \nL 12.5 54.6875 \nL 29.59375 8.796875 \nL 46.6875 54.6875 \nL 56.203125 54.6875 \nL 35.6875 0 \nL 23.484375 0 \nz\n\" id=\"DejaVuSans-118\"/>\n      </defs>\n      <use xlink:href=\"#DejaVuSans-118\"/>\n      <use x=\"59.179688\" xlink:href=\"#DejaVuSans-97\"/>\n      <use x=\"120.458984\" xlink:href=\"#DejaVuSans-108\"/>\n      <use x=\"148.242188\" xlink:href=\"#DejaVuSans-105\"/>\n      <use x=\"176.025391\" xlink:href=\"#DejaVuSans-100\"/>\n      <use x=\"239.501953\" xlink:href=\"#DejaVuSans-97\"/>\n      <use x=\"300.78125\" xlink:href=\"#DejaVuSans-116\"/>\n      <use x=\"339.990234\" xlink:href=\"#DejaVuSans-105\"/>\n      <use x=\"367.773438\" xlink:href=\"#DejaVuSans-111\"/>\n      <use x=\"428.955078\" xlink:href=\"#DejaVuSans-110\"/>\n     </g>\n    </g>\n   </g>\n  </g>\n </g>\n <defs>\n  <clipPath id=\"p9cd0d2a9d1\">\n   <rect height=\"217.44\" width=\"334.8\" x=\"55.553125\" y=\"22.318125\"/>\n  </clipPath>\n </defs>\n</svg>\n",
      "image/png": "[encoded data removed]"
     },
     "metadata": {
      "needs_background": "light"
     }
    }
   ],
   "source": [
    "plt.plot(history.history['loss'], label='train')\n",
    "plt.plot(history.history['val_loss'], label='validation')\n",
    "plt.title('Model loss with 100 epoch')\n",
    "plt.legend()\n",
    "plt.show()"
   ]
  },
  {
   "cell_type": "code",
   "execution_count": 73,
   "metadata": {},
   "outputs": [
    {
     "output_type": "stream",
     "name": "stdout",
     "text": [
      "Train Score: 42.92 RMSE\nTest Score: 34.14 RMSE\n"
     ]
    }
   ],
   "source": [
    "trainPredict = model.predict(X_train)\n",
    "model.reset_states()\n",
    "testPredict = model.predict(X_test)\n",
    "# invert predictions\n",
    "trainPredict = y_scaler.inverse_transform(trainPredict)\n",
    "trainY = y_scaler.inverse_transform([y_train])\n",
    "testPredict = y_scaler.inverse_transform(testPredict)\n",
    "testY = y_scaler.inverse_transform([y_test])\n",
    "# calculate root mean squared error\n",
    "trainScore = math.sqrt(mean_squared_error(trainY[0], trainPredict[:,0]))\n",
    "print('Train Score: %.2f RMSE' % (trainScore))\n",
    "testScore = math.sqrt(mean_squared_error(testY[0], testPredict[:,0]))\n",
    "print('Test Score: %.2f RMSE' % (testScore))\n"
   ]
  },
  {
   "cell_type": "code",
   "execution_count": null,
   "metadata": {},
   "outputs": [],
   "source": []
  }
 ]
}
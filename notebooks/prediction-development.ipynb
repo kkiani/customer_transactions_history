{
 "metadata": {
  "language_info": {
   "codemirror_mode": {
    "name": "ipython",
    "version": 3
   },
   "file_extension": ".py",
   "mimetype": "text/x-python",
   "name": "python",
   "nbconvert_exporter": "python",
   "pygments_lexer": "ipython3",
   "version": "3.7.3-final"
  },
  "orig_nbformat": 2,
  "kernelspec": {
   "name": "python3",
   "display_name": "Python 3.7.3 64-bit ('venv')",
   "metadata": {
    "interpreter": {
     "hash": "01185dee19e1cce7dc5b64a6e8219da1d901d6d66896a1c033ff0413b7d2da6c"
    }
   }
  }
 },
 "nbformat": 4,
 "nbformat_minor": 2,
 "cells": [
  {
   "cell_type": "code",
   "execution_count": 1,
   "metadata": {},
   "outputs": [],
   "source": [
    "import pandas as pd\n",
    "import seaborn as sns\n",
    "import matplotlib.pyplot as plt\n",
    "import numpy as np"
   ]
  },
  {
   "cell_type": "code",
   "execution_count": 2,
   "metadata": {},
   "outputs": [],
   "source": [
    "import warnings\n",
    "warnings.filterwarnings('ignore')"
   ]
  },
  {
   "source": [
    "# Loading Dataset"
   ],
   "cell_type": "markdown",
   "metadata": {}
  },
  {
   "cell_type": "code",
   "execution_count": 3,
   "metadata": {},
   "outputs": [
    {
     "output_type": "execute_result",
     "data": {
      "text/plain": [
       "        customer_id  product_id                             date\n",
       "657826      8752181  G5HEPH9A2T 2017-01-01 08:32:26.307000+00:00\n",
       "658033      8752181  RZ1BJ9ZV9C 2017-01-01 08:38:15.207000+00:00\n",
       "755034      7269786  G5HEPH9A2T 2017-01-01 11:29:18.527000+00:00\n",
       "755319      7269786  FA7OOL7Z3T 2017-01-01 11:59:30.613000+00:00\n",
       "659733      5255027  FA7OOL7Z3T 2017-01-01 15:22:46.793000+00:00\n",
       "...             ...         ...                              ...\n",
       "294947      1971440  GJROWT9RPV 2020-03-16 23:29:31.810000+00:00\n",
       "104192      8350659  G5HEPH9A2T 2020-03-16 23:54:22.647000+00:00\n",
       "104658      8350659  XZ6UVEYK40 2020-03-16 23:58:40.210000+00:00\n",
       "103766      8350659  GJROWT9RPV 2020-03-17 00:07:18.663000+00:00\n",
       "102112      8350659  XD4I34ED7F 2020-03-17 00:08:21.430000+00:00\n",
       "\n",
       "[975955 rows x 3 columns]"
      ],
      "text/html": "<div>\n<style scoped>\n    .dataframe tbody tr th:only-of-type {\n        vertical-align: middle;\n    }\n\n    .dataframe tbody tr th {\n        vertical-align: top;\n    }\n\n    .dataframe thead th {\n        text-align: right;\n    }\n</style>\n<table border=\"1\" class=\"dataframe\">\n  <thead>\n    <tr style=\"text-align: right;\">\n      <th></th>\n      <th>customer_id</th>\n      <th>product_id</th>\n      <th>date</th>\n    </tr>\n  </thead>\n  <tbody>\n    <tr>\n      <th>657826</th>\n      <td>8752181</td>\n      <td>G5HEPH9A2T</td>\n      <td>2017-01-01 08:32:26.307000+00:00</td>\n    </tr>\n    <tr>\n      <th>658033</th>\n      <td>8752181</td>\n      <td>RZ1BJ9ZV9C</td>\n      <td>2017-01-01 08:38:15.207000+00:00</td>\n    </tr>\n    <tr>\n      <th>755034</th>\n      <td>7269786</td>\n      <td>G5HEPH9A2T</td>\n      <td>2017-01-01 11:29:18.527000+00:00</td>\n    </tr>\n    <tr>\n      <th>755319</th>\n      <td>7269786</td>\n      <td>FA7OOL7Z3T</td>\n      <td>2017-01-01 11:59:30.613000+00:00</td>\n    </tr>\n    <tr>\n      <th>659733</th>\n      <td>5255027</td>\n      <td>FA7OOL7Z3T</td>\n      <td>2017-01-01 15:22:46.793000+00:00</td>\n    </tr>\n    <tr>\n      <th>...</th>\n      <td>...</td>\n      <td>...</td>\n      <td>...</td>\n    </tr>\n    <tr>\n      <th>294947</th>\n      <td>1971440</td>\n      <td>GJROWT9RPV</td>\n      <td>2020-03-16 23:29:31.810000+00:00</td>\n    </tr>\n    <tr>\n      <th>104192</th>\n      <td>8350659</td>\n      <td>G5HEPH9A2T</td>\n      <td>2020-03-16 23:54:22.647000+00:00</td>\n    </tr>\n    <tr>\n      <th>104658</th>\n      <td>8350659</td>\n      <td>XZ6UVEYK40</td>\n      <td>2020-03-16 23:58:40.210000+00:00</td>\n    </tr>\n    <tr>\n      <th>103766</th>\n      <td>8350659</td>\n      <td>GJROWT9RPV</td>\n      <td>2020-03-17 00:07:18.663000+00:00</td>\n    </tr>\n    <tr>\n      <th>102112</th>\n      <td>8350659</td>\n      <td>XD4I34ED7F</td>\n      <td>2020-03-17 00:08:21.430000+00:00</td>\n    </tr>\n  </tbody>\n</table>\n<p>975955 rows × 3 columns</p>\n</div>"
     },
     "metadata": {},
     "execution_count": 3
    }
   ],
   "source": [
    "frames = [pd.read_csv('../data/transactions_1.csv', index_col=0), pd.read_csv('../data/transactions_2.csv', index_col=0)]\n",
    "# frames = [pd.read_csv('../data/transactions_1.csv', index_col=0)]\n",
    "df = pd.concat(frames)\n",
    "df['date'] = pd.to_datetime(df['date'])\n",
    "df.sort_values('date')"
   ]
  },
  {
   "source": [
    "# Questions\n",
    "## Build a model to predict the total number of transactions for the next three months per customer anywhere in 2019. For example, given all data up to the end of January 2019, predict the size of the transactions between Feb 1st and April 30th for each customer. Then, measure the performance of your model with appropriate metrics and visuals."
   ],
   "cell_type": "markdown",
   "metadata": {}
  },
  {
   "cell_type": "code",
   "execution_count": 4,
   "metadata": {},
   "outputs": [],
   "source": [
    "selected_month = 1\n",
    "prediction_start_date = f'2019-{selected_month}-01'\n",
    "prediction_end_date = f'2019-{selected_month+3}-01'"
   ]
  },
  {
   "cell_type": "code",
   "execution_count": 5,
   "metadata": {},
   "outputs": [
    {
     "output_type": "execute_result",
     "data": {
      "text/plain": [
       "date         2017-01-31 00:00:00+00:00  2017-02-28 00:00:00+00:00  \\\n",
       "customer_id                                                         \n",
       "1000178                              0                          0   \n",
       "1000692                              0                          0   \n",
       "1000821                              0                          0   \n",
       "1004714                              0                          3   \n",
       "1005470                              0                          0   \n",
       "...                                ...                        ...   \n",
       "9974841                              0                          0   \n",
       "9976006                              0                         26   \n",
       "9978245                              3                         37   \n",
       "9997425                             11                          4   \n",
       "9998153                              0                          0   \n",
       "\n",
       "date         2017-03-31 00:00:00+00:00  2017-04-30 00:00:00+00:00  \\\n",
       "customer_id                                                         \n",
       "1000178                             24                          0   \n",
       "1000692                              6                          0   \n",
       "1000821                              0                          0   \n",
       "1004714                              0                          0   \n",
       "1005470                              0                          0   \n",
       "...                                ...                        ...   \n",
       "9974841                              0                          0   \n",
       "9976006                             14                          9   \n",
       "9978245                             32                         14   \n",
       "9997425                              0                          0   \n",
       "9998153                              0                          0   \n",
       "\n",
       "date         2017-05-31 00:00:00+00:00  2017-06-30 00:00:00+00:00  \\\n",
       "customer_id                                                         \n",
       "1000178                              0                          0   \n",
       "1000692                              0                          0   \n",
       "1000821                              0                          0   \n",
       "1004714                              3                          1   \n",
       "1005470                              0                          1   \n",
       "...                                ...                        ...   \n",
       "9974841                              0                          8   \n",
       "9976006                              0                         19   \n",
       "9978245                              5                         39   \n",
       "9997425                              1                          0   \n",
       "9998153                              0                          0   \n",
       "\n",
       "date         2017-07-31 00:00:00+00:00  2017-08-31 00:00:00+00:00  \\\n",
       "customer_id                                                         \n",
       "1000178                              0                         47   \n",
       "1000692                              0                          0   \n",
       "1000821                              0                          0   \n",
       "1004714                              2                          0   \n",
       "1005470                              0                          2   \n",
       "...                                ...                        ...   \n",
       "9974841                              0                          0   \n",
       "9976006                              0                          0   \n",
       "9978245                              8                         79   \n",
       "9997425                              0                          0   \n",
       "9998153                              0                          0   \n",
       "\n",
       "date         2017-09-30 00:00:00+00:00  2017-10-31 00:00:00+00:00  ...  \\\n",
       "customer_id                                                        ...   \n",
       "1000178                             29                          0  ...   \n",
       "1000692                              0                          0  ...   \n",
       "1000821                              0                          0  ...   \n",
       "1004714                              0                          4  ...   \n",
       "1005470                              0                          3  ...   \n",
       "...                                ...                        ...  ...   \n",
       "9974841                              0                          0  ...   \n",
       "9976006                              0                          0  ...   \n",
       "9978245                             48                          8  ...   \n",
       "9997425                              0                          0  ...   \n",
       "9998153                              0                          0  ...   \n",
       "\n",
       "date         2019-06-30 00:00:00+00:00  2019-07-31 00:00:00+00:00  \\\n",
       "customer_id                                                         \n",
       "1000178                              0                          0   \n",
       "1000692                              3                          2   \n",
       "1000821                              0                          3   \n",
       "1004714                              0                          5   \n",
       "1005470                              0                          0   \n",
       "...                                ...                        ...   \n",
       "9974841                              0                          0   \n",
       "9976006                              0                          0   \n",
       "9978245                             31                          1   \n",
       "9997425                              0                          0   \n",
       "9998153                              0                          7   \n",
       "\n",
       "date         2019-08-31 00:00:00+00:00  2019-09-30 00:00:00+00:00  \\\n",
       "customer_id                                                         \n",
       "1000178                              0                          0   \n",
       "1000692                              8                          5   \n",
       "1000821                             14                          5   \n",
       "1004714                              5                          0   \n",
       "1005470                              0                          3   \n",
       "...                                ...                        ...   \n",
       "9974841                              0                          0   \n",
       "9976006                              0                          0   \n",
       "9978245                              1                          0   \n",
       "9997425                              0                          0   \n",
       "9998153                              0                         22   \n",
       "\n",
       "date         2019-10-31 00:00:00+00:00  2019-11-30 00:00:00+00:00  \\\n",
       "customer_id                                                         \n",
       "1000178                              0                          0   \n",
       "1000692                             19                          6   \n",
       "1000821                              1                         17   \n",
       "1004714                              0                          0   \n",
       "1005470                              0                          2   \n",
       "...                                ...                        ...   \n",
       "9974841                              0                          0   \n",
       "9976006                              0                          0   \n",
       "9978245                             23                          2   \n",
       "9997425                              0                          0   \n",
       "9998153                              0                          0   \n",
       "\n",
       "date         2019-12-31 00:00:00+00:00  2020-01-31 00:00:00+00:00  \\\n",
       "customer_id                                                         \n",
       "1000178                              0                          0   \n",
       "1000692                             24                          1   \n",
       "1000821                              7                         13   \n",
       "1004714                              0                          0   \n",
       "1005470                              0                          0   \n",
       "...                                ...                        ...   \n",
       "9974841                              0                          0   \n",
       "9976006                              0                          0   \n",
       "9978245                              1                          0   \n",
       "9997425                              0                          0   \n",
       "9998153                              0                          0   \n",
       "\n",
       "date         2020-02-29 00:00:00+00:00  2020-03-31 00:00:00+00:00  \n",
       "customer_id                                                        \n",
       "1000178                              0                          0  \n",
       "1000692                              8                          5  \n",
       "1000821                              4                          0  \n",
       "1004714                              1                          0  \n",
       "1005470                              1                          0  \n",
       "...                                ...                        ...  \n",
       "9974841                              1                          0  \n",
       "9976006                              0                          0  \n",
       "9978245                              0                          0  \n",
       "9997425                              0                          0  \n",
       "9998153                              0                          0  \n",
       "\n",
       "[2002 rows x 39 columns]"
      ],
      "text/html": "<div>\n<style scoped>\n    .dataframe tbody tr th:only-of-type {\n        vertical-align: middle;\n    }\n\n    .dataframe tbody tr th {\n        vertical-align: top;\n    }\n\n    .dataframe thead th {\n        text-align: right;\n    }\n</style>\n<table border=\"1\" class=\"dataframe\">\n  <thead>\n    <tr style=\"text-align: right;\">\n      <th>date</th>\n      <th>2017-01-31 00:00:00+00:00</th>\n      <th>2017-02-28 00:00:00+00:00</th>\n      <th>2017-03-31 00:00:00+00:00</th>\n      <th>2017-04-30 00:00:00+00:00</th>\n      <th>2017-05-31 00:00:00+00:00</th>\n      <th>2017-06-30 00:00:00+00:00</th>\n      <th>2017-07-31 00:00:00+00:00</th>\n      <th>2017-08-31 00:00:00+00:00</th>\n      <th>2017-09-30 00:00:00+00:00</th>\n      <th>2017-10-31 00:00:00+00:00</th>\n      <th>...</th>\n      <th>2019-06-30 00:00:00+00:00</th>\n      <th>2019-07-31 00:00:00+00:00</th>\n      <th>2019-08-31 00:00:00+00:00</th>\n      <th>2019-09-30 00:00:00+00:00</th>\n      <th>2019-10-31 00:00:00+00:00</th>\n      <th>2019-11-30 00:00:00+00:00</th>\n      <th>2019-12-31 00:00:00+00:00</th>\n      <th>2020-01-31 00:00:00+00:00</th>\n      <th>2020-02-29 00:00:00+00:00</th>\n      <th>2020-03-31 00:00:00+00:00</th>\n    </tr>\n    <tr>\n      <th>customer_id</th>\n      <th></th>\n      <th></th>\n      <th></th>\n      <th></th>\n      <th></th>\n      <th></th>\n      <th></th>\n      <th></th>\n      <th></th>\n      <th></th>\n      <th></th>\n      <th></th>\n      <th></th>\n      <th></th>\n      <th></th>\n      <th></th>\n      <th></th>\n      <th></th>\n      <th></th>\n      <th></th>\n      <th></th>\n    </tr>\n  </thead>\n  <tbody>\n    <tr>\n      <th>1000178</th>\n      <td>0</td>\n      <td>0</td>\n      <td>24</td>\n      <td>0</td>\n      <td>0</td>\n      <td>0</td>\n      <td>0</td>\n      <td>47</td>\n      <td>29</td>\n      <td>0</td>\n      <td>...</td>\n      <td>0</td>\n      <td>0</td>\n      <td>0</td>\n      <td>0</td>\n      <td>0</td>\n      <td>0</td>\n      <td>0</td>\n      <td>0</td>\n      <td>0</td>\n      <td>0</td>\n    </tr>\n    <tr>\n      <th>1000692</th>\n      <td>0</td>\n      <td>0</td>\n      <td>6</td>\n      <td>0</td>\n      <td>0</td>\n      <td>0</td>\n      <td>0</td>\n      <td>0</td>\n      <td>0</td>\n      <td>0</td>\n      <td>...</td>\n      <td>3</td>\n      <td>2</td>\n      <td>8</td>\n      <td>5</td>\n      <td>19</td>\n      <td>6</td>\n      <td>24</td>\n      <td>1</td>\n      <td>8</td>\n      <td>5</td>\n    </tr>\n    <tr>\n      <th>1000821</th>\n      <td>0</td>\n      <td>0</td>\n      <td>0</td>\n      <td>0</td>\n      <td>0</td>\n      <td>0</td>\n      <td>0</td>\n      <td>0</td>\n      <td>0</td>\n      <td>0</td>\n      <td>...</td>\n      <td>0</td>\n      <td>3</td>\n      <td>14</td>\n      <td>5</td>\n      <td>1</td>\n      <td>17</td>\n      <td>7</td>\n      <td>13</td>\n      <td>4</td>\n      <td>0</td>\n    </tr>\n    <tr>\n      <th>1004714</th>\n      <td>0</td>\n      <td>3</td>\n      <td>0</td>\n      <td>0</td>\n      <td>3</td>\n      <td>1</td>\n      <td>2</td>\n      <td>0</td>\n      <td>0</td>\n      <td>4</td>\n      <td>...</td>\n      <td>0</td>\n      <td>5</td>\n      <td>5</td>\n      <td>0</td>\n      <td>0</td>\n      <td>0</td>\n      <td>0</td>\n      <td>0</td>\n      <td>1</td>\n      <td>0</td>\n    </tr>\n    <tr>\n      <th>1005470</th>\n      <td>0</td>\n      <td>0</td>\n      <td>0</td>\n      <td>0</td>\n      <td>0</td>\n      <td>1</td>\n      <td>0</td>\n      <td>2</td>\n      <td>0</td>\n      <td>3</td>\n      <td>...</td>\n      <td>0</td>\n      <td>0</td>\n      <td>0</td>\n      <td>3</td>\n      <td>0</td>\n      <td>2</td>\n      <td>0</td>\n      <td>0</td>\n      <td>1</td>\n      <td>0</td>\n    </tr>\n    <tr>\n      <th>...</th>\n      <td>...</td>\n      <td>...</td>\n      <td>...</td>\n      <td>...</td>\n      <td>...</td>\n      <td>...</td>\n      <td>...</td>\n      <td>...</td>\n      <td>...</td>\n      <td>...</td>\n      <td>...</td>\n      <td>...</td>\n      <td>...</td>\n      <td>...</td>\n      <td>...</td>\n      <td>...</td>\n      <td>...</td>\n      <td>...</td>\n      <td>...</td>\n      <td>...</td>\n      <td>...</td>\n    </tr>\n    <tr>\n      <th>9974841</th>\n      <td>0</td>\n      <td>0</td>\n      <td>0</td>\n      <td>0</td>\n      <td>0</td>\n      <td>8</td>\n      <td>0</td>\n      <td>0</td>\n      <td>0</td>\n      <td>0</td>\n      <td>...</td>\n      <td>0</td>\n      <td>0</td>\n      <td>0</td>\n      <td>0</td>\n      <td>0</td>\n      <td>0</td>\n      <td>0</td>\n      <td>0</td>\n      <td>1</td>\n      <td>0</td>\n    </tr>\n    <tr>\n      <th>9976006</th>\n      <td>0</td>\n      <td>26</td>\n      <td>14</td>\n      <td>9</td>\n      <td>0</td>\n      <td>19</td>\n      <td>0</td>\n      <td>0</td>\n      <td>0</td>\n      <td>0</td>\n      <td>...</td>\n      <td>0</td>\n      <td>0</td>\n      <td>0</td>\n      <td>0</td>\n      <td>0</td>\n      <td>0</td>\n      <td>0</td>\n      <td>0</td>\n      <td>0</td>\n      <td>0</td>\n    </tr>\n    <tr>\n      <th>9978245</th>\n      <td>3</td>\n      <td>37</td>\n      <td>32</td>\n      <td>14</td>\n      <td>5</td>\n      <td>39</td>\n      <td>8</td>\n      <td>79</td>\n      <td>48</td>\n      <td>8</td>\n      <td>...</td>\n      <td>31</td>\n      <td>1</td>\n      <td>1</td>\n      <td>0</td>\n      <td>23</td>\n      <td>2</td>\n      <td>1</td>\n      <td>0</td>\n      <td>0</td>\n      <td>0</td>\n    </tr>\n    <tr>\n      <th>9997425</th>\n      <td>11</td>\n      <td>4</td>\n      <td>0</td>\n      <td>0</td>\n      <td>1</td>\n      <td>0</td>\n      <td>0</td>\n      <td>0</td>\n      <td>0</td>\n      <td>0</td>\n      <td>...</td>\n      <td>0</td>\n      <td>0</td>\n      <td>0</td>\n      <td>0</td>\n      <td>0</td>\n      <td>0</td>\n      <td>0</td>\n      <td>0</td>\n      <td>0</td>\n      <td>0</td>\n    </tr>\n    <tr>\n      <th>9998153</th>\n      <td>0</td>\n      <td>0</td>\n      <td>0</td>\n      <td>0</td>\n      <td>0</td>\n      <td>0</td>\n      <td>0</td>\n      <td>0</td>\n      <td>0</td>\n      <td>0</td>\n      <td>...</td>\n      <td>0</td>\n      <td>7</td>\n      <td>0</td>\n      <td>22</td>\n      <td>0</td>\n      <td>0</td>\n      <td>0</td>\n      <td>0</td>\n      <td>0</td>\n      <td>0</td>\n    </tr>\n  </tbody>\n</table>\n<p>2002 rows × 39 columns</p>\n</div>"
     },
     "metadata": {},
     "execution_count": 5
    }
   ],
   "source": [
    "transactions_per_month_df = df.groupby(['customer_id', pd.Grouper(freq='M', key='date', closed='left')])['customer_id'].count().unstack(fill_value=0)\n",
    "transactions_per_month_df"
   ]
  },
  {
   "cell_type": "code",
   "execution_count": 6,
   "metadata": {},
   "outputs": [],
   "source": [
    "from tensorflow.keras import Sequential\n",
    "from tensorflow.keras.layers import Dense, LSTM\n",
    "from tensorflow.keras.metrics import RootMeanSquaredError\n",
    "\n",
    "from sklearn.model_selection import train_test_split\n",
    "from sklearn.preprocessing import MinMaxScaler\n",
    "from sklearn.metrics import mean_squared_error\n",
    "\n",
    "import math"
   ]
  },
  {
   "cell_type": "code",
   "execution_count": 51,
   "metadata": {},
   "outputs": [],
   "source": [
    "X = transactions_per_month_df.loc[:, transactions_per_month_df.columns.to_series().between('2017-01-01', prediction_start_date)].values\n",
    "y = transactions_per_month_df.loc[:, transactions_per_month_df.columns.to_series().between(prediction_start_date, prediction_end_date)].sum(axis=1).values"
   ]
  },
  {
   "cell_type": "code",
   "execution_count": 52,
   "metadata": {},
   "outputs": [
    {
     "output_type": "execute_result",
     "data": {
      "text/plain": [
       "((2002, 24), (2002,))"
      ]
     },
     "metadata": {},
     "execution_count": 52
    }
   ],
   "source": [
    "X.shape, y.shape"
   ]
  },
  {
   "cell_type": "code",
   "execution_count": 53,
   "metadata": {},
   "outputs": [],
   "source": [
    "x_scaler = MinMaxScaler()\n",
    "y_scaler = MinMaxScaler()\n",
    "\n",
    "X = x_scaler.fit_transform(X)\n",
    "y = y_scaler.fit_transform(y.reshape(-1, 1))[:, 0]"
   ]
  },
  {
   "cell_type": "code",
   "execution_count": 54,
   "metadata": {},
   "outputs": [],
   "source": [
    "X_train, X_test, y_train, y_test = train_test_split(X, y, test_size=0.2, random_state=41)"
   ]
  },
  {
   "cell_type": "code",
   "execution_count": 55,
   "metadata": {},
   "outputs": [],
   "source": [
    "X_train = X_train.reshape(X_train.shape[0], 1, X_train.shape[1])\n",
    "X_test = X_test.reshape(X_test.shape[0], 1, X_test.shape[1])"
   ]
  },
  {
   "cell_type": "code",
   "execution_count": 56,
   "metadata": {},
   "outputs": [
    {
     "output_type": "execute_result",
     "data": {
      "text/plain": [
       "(1601, 1, 24)"
      ]
     },
     "metadata": {},
     "execution_count": 56
    }
   ],
   "source": [
    "X_train.shape"
   ]
  },
  {
   "cell_type": "code",
   "execution_count": 57,
   "metadata": {},
   "outputs": [
    {
     "output_type": "stream",
     "name": "stdout",
     "text": [
      "Model: \"sequential_7\"\n_________________________________________________________________\nLayer (type)                 Output Shape              Param #   \n=================================================================\nlstm_9 (LSTM)                (None, 1, 16)             2624      \n_________________________________________________________________\nlstm_10 (LSTM)               (None, 8)                 800       \n_________________________________________________________________\ndense_6 (Dense)              (None, 1)                 9         \n=================================================================\nTotal params: 3,433\nTrainable params: 3,433\nNon-trainable params: 0\n_________________________________________________________________\n"
     ]
    }
   ],
   "source": [
    "model = Sequential()\n",
    "model.add(LSTM(16, input_shape=(X_train.shape[1], X_train.shape[2]), return_sequences=True))\n",
    "model.add(LSTM(8, input_shape=(X_train.shape[1], X_train.shape[2])))\n",
    "model.add(Dense(1, activation='linear'))\n",
    "\n",
    "model.compile(loss='mean_squared_error', optimizer='adam', metrics=['mean_squared_error'])\n",
    "model.summary()"
   ]
  },
  {
   "cell_type": "code",
   "execution_count": 27,
   "metadata": {},
   "outputs": [],
   "source": [
    "history = model.fit(X_train, y_train, validation_data=(X_test, y_test), epochs=100, verbose=0)"
   ]
  },
  {
   "cell_type": "code",
   "execution_count": 28,
   "metadata": {},
   "outputs": [
    {
     "output_type": "display_data",
     "data": {
      "text/plain": "<Figure size 432x288 with 1 Axes>",
      "image/svg+xml": "<?xml version=\"1.0\" encoding=\"utf-8\" standalone=\"no\"?>\n<!DOCTYPE svg PUBLIC \"-//W3C//DTD SVG 1.1//EN\"\n  \"http://www.w3.org/Graphics/SVG/1.1/DTD/svg11.dtd\">\n<!-- Created with matplotlib (https://matplotlib.org/) -->\n<svg height=\"263.63625pt\" version=\"1.1\" viewBox=\"0 0 391.190625 263.63625\" width=\"391.190625pt\" xmlns=\"http://www.w3.org/2000/svg\" xmlns:xlink=\"http://www.w3.org/1999/xlink\">\n <metadata>\n  <rdf:RDF xmlns:cc=\"http://creativecommons.org/ns#\" xmlns:dc=\"http://purl.org/dc/elements/1.1/\" xmlns:rdf=\"http://www.w3.org/1999/02/22-rdf-syntax-ns#\">\n   <cc:Work>\n    <dc:type rdf:resource=\"http://purl.org/dc/dcmitype/StillImage\"/>\n    <dc:date>2020-12-22T11:22:23.573275</dc:date>\n    <dc:format>image/svg+xml</dc:format>\n    <dc:creator>\n     <cc:Agent>\n      <dc:title>Matplotlib v3.3.3, https://matplotlib.org/</dc:title>\n     </cc:Agent>\n    </dc:creator>\n   </cc:Work>\n  </rdf:RDF>\n </metadata>\n <defs>\n  <style type=\"text/css\">*{stroke-linecap:butt;stroke-linejoin:round;}</style>\n </defs>\n <g id=\"figure_1\">\n  <g id=\"patch_1\">\n   <path d=\"M 0 263.63625 \nL 391.190625 263.63625 \nL 391.190625 0 \nL 0 0 \nz\n\" style=\"fill:none;\"/>\n  </g>\n  <g id=\"axes_1\">\n   <g id=\"patch_2\">\n    <path d=\"M 49.190625 239.758125 \nL 383.990625 239.758125 \nL 383.990625 22.318125 \nL 49.190625 22.318125 \nz\n\" style=\"fill:#ffffff;\"/>\n   </g>\n   <g id=\"matplotlib.axis_1\">\n    <g id=\"xtick_1\">\n     <g id=\"line2d_1\">\n      <defs>\n       <path d=\"M 0 0 \nL 0 3.5 \n\" id=\"m8f2617ba2f\" style=\"stroke:#000000;stroke-width:0.8;\"/>\n      </defs>\n      <g>\n       <use style=\"stroke:#000000;stroke-width:0.8;\" x=\"64.408807\" xlink:href=\"#m8f2617ba2f\" y=\"239.758125\"/>\n      </g>\n     </g>\n     <g id=\"text_1\">\n      <!-- 0 -->\n      <g transform=\"translate(61.227557 254.356563)scale(0.1 -0.1)\">\n       <defs>\n        <path d=\"M 31.78125 66.40625 \nQ 24.171875 66.40625 20.328125 58.90625 \nQ 16.5 51.421875 16.5 36.375 \nQ 16.5 21.390625 20.328125 13.890625 \nQ 24.171875 6.390625 31.78125 6.390625 \nQ 39.453125 6.390625 43.28125 13.890625 \nQ 47.125 21.390625 47.125 36.375 \nQ 47.125 51.421875 43.28125 58.90625 \nQ 39.453125 66.40625 31.78125 66.40625 \nz\nM 31.78125 74.21875 \nQ 44.046875 74.21875 50.515625 64.515625 \nQ 56.984375 54.828125 56.984375 36.375 \nQ 56.984375 17.96875 50.515625 8.265625 \nQ 44.046875 -1.421875 31.78125 -1.421875 \nQ 19.53125 -1.421875 13.0625 8.265625 \nQ 6.59375 17.96875 6.59375 36.375 \nQ 6.59375 54.828125 13.0625 64.515625 \nQ 19.53125 74.21875 31.78125 74.21875 \nz\n\" id=\"DejaVuSans-48\"/>\n       </defs>\n       <use xlink:href=\"#DejaVuSans-48\"/>\n      </g>\n     </g>\n    </g>\n    <g id=\"xtick_2\">\n     <g id=\"line2d_2\">\n      <g>\n       <use style=\"stroke:#000000;stroke-width:0.8;\" x=\"125.89641\" xlink:href=\"#m8f2617ba2f\" y=\"239.758125\"/>\n      </g>\n     </g>\n     <g id=\"text_2\">\n      <!-- 20 -->\n      <g transform=\"translate(119.53391 254.356563)scale(0.1 -0.1)\">\n       <defs>\n        <path d=\"M 19.1875 8.296875 \nL 53.609375 8.296875 \nL 53.609375 0 \nL 7.328125 0 \nL 7.328125 8.296875 \nQ 12.9375 14.109375 22.625 23.890625 \nQ 32.328125 33.6875 34.8125 36.53125 \nQ 39.546875 41.84375 41.421875 45.53125 \nQ 43.3125 49.21875 43.3125 52.78125 \nQ 43.3125 58.59375 39.234375 62.25 \nQ 35.15625 65.921875 28.609375 65.921875 \nQ 23.96875 65.921875 18.8125 64.3125 \nQ 13.671875 62.703125 7.8125 59.421875 \nL 7.8125 69.390625 \nQ 13.765625 71.78125 18.9375 73 \nQ 24.125 74.21875 28.421875 74.21875 \nQ 39.75 74.21875 46.484375 68.546875 \nQ 53.21875 62.890625 53.21875 53.421875 \nQ 53.21875 48.921875 51.53125 44.890625 \nQ 49.859375 40.875 45.40625 35.40625 \nQ 44.1875 33.984375 37.640625 27.21875 \nQ 31.109375 20.453125 19.1875 8.296875 \nz\n\" id=\"DejaVuSans-50\"/>\n       </defs>\n       <use xlink:href=\"#DejaVuSans-50\"/>\n       <use x=\"63.623047\" xlink:href=\"#DejaVuSans-48\"/>\n      </g>\n     </g>\n    </g>\n    <g id=\"xtick_3\">\n     <g id=\"line2d_3\">\n      <g>\n       <use style=\"stroke:#000000;stroke-width:0.8;\" x=\"187.384013\" xlink:href=\"#m8f2617ba2f\" y=\"239.758125\"/>\n      </g>\n     </g>\n     <g id=\"text_3\">\n      <!-- 40 -->\n      <g transform=\"translate(181.021513 254.356563)scale(0.1 -0.1)\">\n       <defs>\n        <path d=\"M 37.796875 64.3125 \nL 12.890625 25.390625 \nL 37.796875 25.390625 \nz\nM 35.203125 72.90625 \nL 47.609375 72.90625 \nL 47.609375 25.390625 \nL 58.015625 25.390625 \nL 58.015625 17.1875 \nL 47.609375 17.1875 \nL 47.609375 0 \nL 37.796875 0 \nL 37.796875 17.1875 \nL 4.890625 17.1875 \nL 4.890625 26.703125 \nz\n\" id=\"DejaVuSans-52\"/>\n       </defs>\n       <use xlink:href=\"#DejaVuSans-52\"/>\n       <use x=\"63.623047\" xlink:href=\"#DejaVuSans-48\"/>\n      </g>\n     </g>\n    </g>\n    <g id=\"xtick_4\">\n     <g id=\"line2d_4\">\n      <g>\n       <use style=\"stroke:#000000;stroke-width:0.8;\" x=\"248.871617\" xlink:href=\"#m8f2617ba2f\" y=\"239.758125\"/>\n      </g>\n     </g>\n     <g id=\"text_4\">\n      <!-- 60 -->\n      <g transform=\"translate(242.509117 254.356563)scale(0.1 -0.1)\">\n       <defs>\n        <path d=\"M 33.015625 40.375 \nQ 26.375 40.375 22.484375 35.828125 \nQ 18.609375 31.296875 18.609375 23.390625 \nQ 18.609375 15.53125 22.484375 10.953125 \nQ 26.375 6.390625 33.015625 6.390625 \nQ 39.65625 6.390625 43.53125 10.953125 \nQ 47.40625 15.53125 47.40625 23.390625 \nQ 47.40625 31.296875 43.53125 35.828125 \nQ 39.65625 40.375 33.015625 40.375 \nz\nM 52.59375 71.296875 \nL 52.59375 62.3125 \nQ 48.875 64.0625 45.09375 64.984375 \nQ 41.3125 65.921875 37.59375 65.921875 \nQ 27.828125 65.921875 22.671875 59.328125 \nQ 17.53125 52.734375 16.796875 39.40625 \nQ 19.671875 43.65625 24.015625 45.921875 \nQ 28.375 48.1875 33.59375 48.1875 \nQ 44.578125 48.1875 50.953125 41.515625 \nQ 57.328125 34.859375 57.328125 23.390625 \nQ 57.328125 12.15625 50.6875 5.359375 \nQ 44.046875 -1.421875 33.015625 -1.421875 \nQ 20.359375 -1.421875 13.671875 8.265625 \nQ 6.984375 17.96875 6.984375 36.375 \nQ 6.984375 53.65625 15.1875 63.9375 \nQ 23.390625 74.21875 37.203125 74.21875 \nQ 40.921875 74.21875 44.703125 73.484375 \nQ 48.484375 72.75 52.59375 71.296875 \nz\n\" id=\"DejaVuSans-54\"/>\n       </defs>\n       <use xlink:href=\"#DejaVuSans-54\"/>\n       <use x=\"63.623047\" xlink:href=\"#DejaVuSans-48\"/>\n      </g>\n     </g>\n    </g>\n    <g id=\"xtick_5\">\n     <g id=\"line2d_5\">\n      <g>\n       <use style=\"stroke:#000000;stroke-width:0.8;\" x=\"310.35922\" xlink:href=\"#m8f2617ba2f\" y=\"239.758125\"/>\n      </g>\n     </g>\n     <g id=\"text_5\">\n      <!-- 80 -->\n      <g transform=\"translate(303.99672 254.356563)scale(0.1 -0.1)\">\n       <defs>\n        <path d=\"M 31.78125 34.625 \nQ 24.75 34.625 20.71875 30.859375 \nQ 16.703125 27.09375 16.703125 20.515625 \nQ 16.703125 13.921875 20.71875 10.15625 \nQ 24.75 6.390625 31.78125 6.390625 \nQ 38.8125 6.390625 42.859375 10.171875 \nQ 46.921875 13.96875 46.921875 20.515625 \nQ 46.921875 27.09375 42.890625 30.859375 \nQ 38.875 34.625 31.78125 34.625 \nz\nM 21.921875 38.8125 \nQ 15.578125 40.375 12.03125 44.71875 \nQ 8.5 49.078125 8.5 55.328125 \nQ 8.5 64.0625 14.71875 69.140625 \nQ 20.953125 74.21875 31.78125 74.21875 \nQ 42.671875 74.21875 48.875 69.140625 \nQ 55.078125 64.0625 55.078125 55.328125 \nQ 55.078125 49.078125 51.53125 44.71875 \nQ 48 40.375 41.703125 38.8125 \nQ 48.828125 37.15625 52.796875 32.3125 \nQ 56.78125 27.484375 56.78125 20.515625 \nQ 56.78125 9.90625 50.3125 4.234375 \nQ 43.84375 -1.421875 31.78125 -1.421875 \nQ 19.734375 -1.421875 13.25 4.234375 \nQ 6.78125 9.90625 6.78125 20.515625 \nQ 6.78125 27.484375 10.78125 32.3125 \nQ 14.796875 37.15625 21.921875 38.8125 \nz\nM 18.3125 54.390625 \nQ 18.3125 48.734375 21.84375 45.5625 \nQ 25.390625 42.390625 31.78125 42.390625 \nQ 38.140625 42.390625 41.71875 45.5625 \nQ 45.3125 48.734375 45.3125 54.390625 \nQ 45.3125 60.0625 41.71875 63.234375 \nQ 38.140625 66.40625 31.78125 66.40625 \nQ 25.390625 66.40625 21.84375 63.234375 \nQ 18.3125 60.0625 18.3125 54.390625 \nz\n\" id=\"DejaVuSans-56\"/>\n       </defs>\n       <use xlink:href=\"#DejaVuSans-56\"/>\n       <use x=\"63.623047\" xlink:href=\"#DejaVuSans-48\"/>\n      </g>\n     </g>\n    </g>\n    <g id=\"xtick_6\">\n     <g id=\"line2d_6\">\n      <g>\n       <use style=\"stroke:#000000;stroke-width:0.8;\" x=\"371.846823\" xlink:href=\"#m8f2617ba2f\" y=\"239.758125\"/>\n      </g>\n     </g>\n     <g id=\"text_6\">\n      <!-- 100 -->\n      <g transform=\"translate(362.303073 254.356563)scale(0.1 -0.1)\">\n       <defs>\n        <path d=\"M 12.40625 8.296875 \nL 28.515625 8.296875 \nL 28.515625 63.921875 \nL 10.984375 60.40625 \nL 10.984375 69.390625 \nL 28.421875 72.90625 \nL 38.28125 72.90625 \nL 38.28125 8.296875 \nL 54.390625 8.296875 \nL 54.390625 0 \nL 12.40625 0 \nz\n\" id=\"DejaVuSans-49\"/>\n       </defs>\n       <use xlink:href=\"#DejaVuSans-49\"/>\n       <use x=\"63.623047\" xlink:href=\"#DejaVuSans-48\"/>\n       <use x=\"127.246094\" xlink:href=\"#DejaVuSans-48\"/>\n      </g>\n     </g>\n    </g>\n   </g>\n   <g id=\"matplotlib.axis_2\">\n    <g id=\"ytick_1\">\n     <g id=\"line2d_7\">\n      <defs>\n       <path d=\"M 0 0 \nL -3.5 0 \n\" id=\"mb6daf94e61\" style=\"stroke:#000000;stroke-width:0.8;\"/>\n      </defs>\n      <g>\n       <use style=\"stroke:#000000;stroke-width:0.8;\" x=\"49.190625\" xlink:href=\"#mb6daf94e61\" y=\"208.146148\"/>\n      </g>\n     </g>\n     <g id=\"text_7\">\n      <!-- 0.0005 -->\n      <g transform=\"translate(7.2 211.945366)scale(0.1 -0.1)\">\n       <defs>\n        <path d=\"M 10.6875 12.40625 \nL 21 12.40625 \nL 21 0 \nL 10.6875 0 \nz\n\" id=\"DejaVuSans-46\"/>\n        <path d=\"M 10.796875 72.90625 \nL 49.515625 72.90625 \nL 49.515625 64.59375 \nL 19.828125 64.59375 \nL 19.828125 46.734375 \nQ 21.96875 47.46875 24.109375 47.828125 \nQ 26.265625 48.1875 28.421875 48.1875 \nQ 40.625 48.1875 47.75 41.5 \nQ 54.890625 34.8125 54.890625 23.390625 \nQ 54.890625 11.625 47.5625 5.09375 \nQ 40.234375 -1.421875 26.90625 -1.421875 \nQ 22.3125 -1.421875 17.546875 -0.640625 \nQ 12.796875 0.140625 7.71875 1.703125 \nL 7.71875 11.625 \nQ 12.109375 9.234375 16.796875 8.0625 \nQ 21.484375 6.890625 26.703125 6.890625 \nQ 35.15625 6.890625 40.078125 11.328125 \nQ 45.015625 15.765625 45.015625 23.390625 \nQ 45.015625 31 40.078125 35.4375 \nQ 35.15625 39.890625 26.703125 39.890625 \nQ 22.75 39.890625 18.8125 39.015625 \nQ 14.890625 38.140625 10.796875 36.28125 \nz\n\" id=\"DejaVuSans-53\"/>\n       </defs>\n       <use xlink:href=\"#DejaVuSans-48\"/>\n       <use x=\"63.623047\" xlink:href=\"#DejaVuSans-46\"/>\n       <use x=\"95.410156\" xlink:href=\"#DejaVuSans-48\"/>\n       <use x=\"159.033203\" xlink:href=\"#DejaVuSans-48\"/>\n       <use x=\"222.65625\" xlink:href=\"#DejaVuSans-48\"/>\n       <use x=\"286.279297\" xlink:href=\"#DejaVuSans-53\"/>\n      </g>\n     </g>\n    </g>\n    <g id=\"ytick_2\">\n     <g id=\"line2d_8\">\n      <g>\n       <use style=\"stroke:#000000;stroke-width:0.8;\" x=\"49.190625\" xlink:href=\"#mb6daf94e61\" y=\"159.980299\"/>\n      </g>\n     </g>\n     <g id=\"text_8\">\n      <!-- 0.0010 -->\n      <g transform=\"translate(7.2 163.779517)scale(0.1 -0.1)\">\n       <use xlink:href=\"#DejaVuSans-48\"/>\n       <use x=\"63.623047\" xlink:href=\"#DejaVuSans-46\"/>\n       <use x=\"95.410156\" xlink:href=\"#DejaVuSans-48\"/>\n       <use x=\"159.033203\" xlink:href=\"#DejaVuSans-48\"/>\n       <use x=\"222.65625\" xlink:href=\"#DejaVuSans-49\"/>\n       <use x=\"286.279297\" xlink:href=\"#DejaVuSans-48\"/>\n      </g>\n     </g>\n    </g>\n    <g id=\"ytick_3\">\n     <g id=\"line2d_9\">\n      <g>\n       <use style=\"stroke:#000000;stroke-width:0.8;\" x=\"49.190625\" xlink:href=\"#mb6daf94e61\" y=\"111.81445\"/>\n      </g>\n     </g>\n     <g id=\"text_9\">\n      <!-- 0.0015 -->\n      <g transform=\"translate(7.2 115.613669)scale(0.1 -0.1)\">\n       <use xlink:href=\"#DejaVuSans-48\"/>\n       <use x=\"63.623047\" xlink:href=\"#DejaVuSans-46\"/>\n       <use x=\"95.410156\" xlink:href=\"#DejaVuSans-48\"/>\n       <use x=\"159.033203\" xlink:href=\"#DejaVuSans-48\"/>\n       <use x=\"222.65625\" xlink:href=\"#DejaVuSans-49\"/>\n       <use x=\"286.279297\" xlink:href=\"#DejaVuSans-53\"/>\n      </g>\n     </g>\n    </g>\n    <g id=\"ytick_4\">\n     <g id=\"line2d_10\">\n      <g>\n       <use style=\"stroke:#000000;stroke-width:0.8;\" x=\"49.190625\" xlink:href=\"#mb6daf94e61\" y=\"63.648601\"/>\n      </g>\n     </g>\n     <g id=\"text_10\">\n      <!-- 0.0020 -->\n      <g transform=\"translate(7.2 67.44782)scale(0.1 -0.1)\">\n       <use xlink:href=\"#DejaVuSans-48\"/>\n       <use x=\"63.623047\" xlink:href=\"#DejaVuSans-46\"/>\n       <use x=\"95.410156\" xlink:href=\"#DejaVuSans-48\"/>\n       <use x=\"159.033203\" xlink:href=\"#DejaVuSans-48\"/>\n       <use x=\"222.65625\" xlink:href=\"#DejaVuSans-50\"/>\n       <use x=\"286.279297\" xlink:href=\"#DejaVuSans-48\"/>\n      </g>\n     </g>\n    </g>\n   </g>\n   <g id=\"line2d_11\">\n    <path clip-path=\"url(#p5b7db0f6a9)\" d=\"M 64.408807 32.201761 \nL 67.483187 79.735715 \nL 70.557567 127.970025 \nL 73.631947 175.461791 \nL 76.706327 204.686533 \nL 79.780708 213.656018 \nL 82.855088 215.026022 \nL 85.929468 218.249665 \nL 89.003848 220.550126 \nL 92.078228 220.926823 \nL 95.152608 222.035387 \nL 98.226989 222.174805 \nL 101.301369 222.871317 \nL 104.375749 223.340842 \nL 107.450129 222.914507 \nL 110.524509 224.116111 \nL 113.598889 224.23889 \nL 116.67327 224.397583 \nL 119.74765 224.532614 \nL 122.82203 224.291472 \nL 125.89641 224.906497 \nL 128.97079 224.7263 \nL 132.04517 225.524572 \nL 135.119551 225.263103 \nL 138.193931 225.586849 \nL 141.268311 225.997083 \nL 144.342691 225.723494 \nL 147.417071 225.810185 \nL 150.491451 225.9236 \nL 153.565832 225.499934 \nL 156.640212 225.742262 \nL 159.714592 225.713194 \nL 162.788972 226.124219 \nL 165.863352 226.761199 \nL 168.937732 226.714398 \nL 172.012113 227.010441 \nL 175.086493 226.218956 \nL 178.160873 225.680296 \nL 181.235253 226.512787 \nL 184.309633 226.407858 \nL 187.384013 226.946185 \nL 190.458394 225.606491 \nL 193.532774 227.391576 \nL 196.607154 226.773134 \nL 199.681534 227.415368 \nL 202.755914 227.468539 \nL 205.830294 227.225316 \nL 208.904675 226.949375 \nL 211.979055 227.485343 \nL 215.053435 227.76907 \nL 218.127815 228.007195 \nL 221.202195 227.858219 \nL 224.276575 228.268182 \nL 227.350956 228.320239 \nL 230.425336 228.122635 \nL 233.499716 227.841566 \nL 236.574096 227.873861 \nL 239.648476 227.306806 \nL 242.722856 228.070392 \nL 245.797237 228.09999 \nL 248.871617 227.858264 \nL 251.945997 227.233343 \nL 255.020377 228.251733 \nL 258.094757 228.864546 \nL 261.169137 228.316354 \nL 264.243518 228.721415 \nL 267.317898 228.64805 \nL 270.392278 228.595709 \nL 273.466658 227.291992 \nL 276.541038 228.234471 \nL 279.615418 228.641495 \nL 282.689799 228.471798 \nL 285.764179 228.917425 \nL 288.838559 228.849059 \nL 291.912939 228.565758 \nL 294.987319 228.120394 \nL 298.061699 228.575652 \nL 301.13608 226.536547 \nL 304.21046 229.132813 \nL 307.28484 228.934675 \nL 310.35922 229.123059 \nL 313.4336 229.497166 \nL 316.50798 229.182832 \nL 319.582361 229.472595 \nL 322.656741 228.846981 \nL 325.731121 229.460139 \nL 328.805501 229.433964 \nL 331.879881 229.754429 \nL 334.954261 229.326737 \nL 338.028642 229.617307 \nL 341.103022 229.442596 \nL 344.177402 229.758276 \nL 347.251782 229.13927 \nL 350.326162 229.428175 \nL 353.400542 229.874489 \nL 356.474923 228.546649 \nL 359.549303 229.739525 \nL 362.623683 229.129771 \nL 365.698063 228.522268 \nL 368.772443 229.35006 \n\" style=\"fill:none;stroke:#1f77b4;stroke-linecap:square;stroke-width:1.5;\"/>\n   </g>\n   <g id=\"line2d_12\">\n    <path clip-path=\"url(#p5b7db0f6a9)\" d=\"M 64.408807 164.815756 \nL 67.483187 179.79841 \nL 70.557567 188.71572 \nL 73.631947 178.974913 \nL 76.706327 168.771262 \nL 79.780708 167.587119 \nL 82.855088 170.520335 \nL 85.929468 178.050542 \nL 89.003848 182.116623 \nL 92.078228 186.563868 \nL 95.152608 186.69589 \nL 98.226989 191.098905 \nL 101.301369 194.186438 \nL 104.375749 193.422417 \nL 107.450129 196.419847 \nL 110.524509 197.178289 \nL 113.598889 198.062242 \nL 116.67327 197.952615 \nL 119.74765 197.667857 \nL 122.82203 196.750725 \nL 125.89641 199.789161 \nL 128.97079 200.342764 \nL 132.04517 200.400496 \nL 135.119551 201.053095 \nL 138.193931 199.899949 \nL 141.268311 200.255684 \nL 144.342691 201.620778 \nL 147.417071 198.715116 \nL 150.491451 203.014346 \nL 153.565832 203.546681 \nL 156.640212 200.614732 \nL 159.714592 204.227215 \nL 162.788972 203.926813 \nL 165.863352 203.468045 \nL 168.937732 202.717779 \nL 172.012113 203.844493 \nL 175.086493 207.402961 \nL 178.160873 197.639737 \nL 181.235253 206.753116 \nL 184.309633 207.192998 \nL 187.384013 201.022816 \nL 190.458394 204.175634 \nL 193.532774 202.791055 \nL 196.607154 204.091744 \nL 199.681534 205.417123 \nL 202.755914 202.670258 \nL 205.830294 203.808141 \nL 208.904675 205.643089 \nL 211.979055 205.971584 \nL 215.053435 205.897366 \nL 218.127815 206.274919 \nL 221.202195 206.702 \nL 224.276575 206.98645 \nL 227.350956 206.215291 \nL 230.425336 207.603908 \nL 233.499716 203.851418 \nL 236.574096 205.110188 \nL 239.648476 208.569229 \nL 242.722856 206.25919 \nL 245.797237 207.125851 \nL 248.871617 212.73398 \nL 251.945997 205.678504 \nL 255.020377 210.005518 \nL 258.094757 210.801749 \nL 261.169137 209.685157 \nL 264.243518 208.861994 \nL 267.317898 211.185652 \nL 270.392278 205.677433 \nL 273.466658 212.166583 \nL 276.541038 210.431467 \nL 279.615418 213.094032 \nL 282.689799 209.809635 \nL 285.764179 211.036746 \nL 288.838559 212.08142 \nL 291.912939 211.176081 \nL 294.987319 210.968206 \nL 298.061699 215.097772 \nL 301.13608 211.842403 \nL 304.21046 213.21299 \nL 307.28484 211.483554 \nL 310.35922 213.044924 \nL 313.4336 211.274205 \nL 316.50798 213.905883 \nL 319.582361 208.653416 \nL 322.656741 214.333609 \nL 325.731121 214.829188 \nL 328.805501 214.603393 \nL 331.879881 216.446953 \nL 334.954261 213.589685 \nL 338.028642 215.941839 \nL 341.103022 212.229225 \nL 344.177402 215.627903 \nL 347.251782 215.382755 \nL 350.326162 214.722241 \nL 353.400542 212.356097 \nL 356.474923 214.24479 \nL 359.549303 215.914972 \nL 362.623683 215.197015 \nL 365.698063 205.733769 \nL 368.772443 217.025007 \n\" style=\"fill:none;stroke:#ff7f0e;stroke-linecap:square;stroke-width:1.5;\"/>\n   </g>\n   <g id=\"patch_3\">\n    <path d=\"M 49.190625 239.758125 \nL 49.190625 22.318125 \n\" style=\"fill:none;stroke:#000000;stroke-linecap:square;stroke-linejoin:miter;stroke-width:0.8;\"/>\n   </g>\n   <g id=\"patch_4\">\n    <path d=\"M 383.990625 239.758125 \nL 383.990625 22.318125 \n\" style=\"fill:none;stroke:#000000;stroke-linecap:square;stroke-linejoin:miter;stroke-width:0.8;\"/>\n   </g>\n   <g id=\"patch_5\">\n    <path d=\"M 49.190625 239.758125 \nL 383.990625 239.758125 \n\" style=\"fill:none;stroke:#000000;stroke-linecap:square;stroke-linejoin:miter;stroke-width:0.8;\"/>\n   </g>\n   <g id=\"patch_6\">\n    <path d=\"M 49.190625 22.318125 \nL 383.990625 22.318125 \n\" style=\"fill:none;stroke:#000000;stroke-linecap:square;stroke-linejoin:miter;stroke-width:0.8;\"/>\n   </g>\n   <g id=\"text_11\">\n    <!-- Model loss with 100 epoch -->\n    <g transform=\"translate(136.903125 16.318125)scale(0.12 -0.12)\">\n     <defs>\n      <path d=\"M 9.8125 72.90625 \nL 24.515625 72.90625 \nL 43.109375 23.296875 \nL 61.8125 72.90625 \nL 76.515625 72.90625 \nL 76.515625 0 \nL 66.890625 0 \nL 66.890625 64.015625 \nL 48.09375 14.015625 \nL 38.1875 14.015625 \nL 19.390625 64.015625 \nL 19.390625 0 \nL 9.8125 0 \nz\n\" id=\"DejaVuSans-77\"/>\n      <path d=\"M 30.609375 48.390625 \nQ 23.390625 48.390625 19.1875 42.75 \nQ 14.984375 37.109375 14.984375 27.296875 \nQ 14.984375 17.484375 19.15625 11.84375 \nQ 23.34375 6.203125 30.609375 6.203125 \nQ 37.796875 6.203125 41.984375 11.859375 \nQ 46.1875 17.53125 46.1875 27.296875 \nQ 46.1875 37.015625 41.984375 42.703125 \nQ 37.796875 48.390625 30.609375 48.390625 \nz\nM 30.609375 56 \nQ 42.328125 56 49.015625 48.375 \nQ 55.71875 40.765625 55.71875 27.296875 \nQ 55.71875 13.875 49.015625 6.21875 \nQ 42.328125 -1.421875 30.609375 -1.421875 \nQ 18.84375 -1.421875 12.171875 6.21875 \nQ 5.515625 13.875 5.515625 27.296875 \nQ 5.515625 40.765625 12.171875 48.375 \nQ 18.84375 56 30.609375 56 \nz\n\" id=\"DejaVuSans-111\"/>\n      <path d=\"M 45.40625 46.390625 \nL 45.40625 75.984375 \nL 54.390625 75.984375 \nL 54.390625 0 \nL 45.40625 0 \nL 45.40625 8.203125 \nQ 42.578125 3.328125 38.25 0.953125 \nQ 33.9375 -1.421875 27.875 -1.421875 \nQ 17.96875 -1.421875 11.734375 6.484375 \nQ 5.515625 14.40625 5.515625 27.296875 \nQ 5.515625 40.1875 11.734375 48.09375 \nQ 17.96875 56 27.875 56 \nQ 33.9375 56 38.25 53.625 \nQ 42.578125 51.265625 45.40625 46.390625 \nz\nM 14.796875 27.296875 \nQ 14.796875 17.390625 18.875 11.75 \nQ 22.953125 6.109375 30.078125 6.109375 \nQ 37.203125 6.109375 41.296875 11.75 \nQ 45.40625 17.390625 45.40625 27.296875 \nQ 45.40625 37.203125 41.296875 42.84375 \nQ 37.203125 48.484375 30.078125 48.484375 \nQ 22.953125 48.484375 18.875 42.84375 \nQ 14.796875 37.203125 14.796875 27.296875 \nz\n\" id=\"DejaVuSans-100\"/>\n      <path d=\"M 56.203125 29.59375 \nL 56.203125 25.203125 \nL 14.890625 25.203125 \nQ 15.484375 15.921875 20.484375 11.0625 \nQ 25.484375 6.203125 34.421875 6.203125 \nQ 39.59375 6.203125 44.453125 7.46875 \nQ 49.3125 8.734375 54.109375 11.28125 \nL 54.109375 2.78125 \nQ 49.265625 0.734375 44.1875 -0.34375 \nQ 39.109375 -1.421875 33.890625 -1.421875 \nQ 20.796875 -1.421875 13.15625 6.1875 \nQ 5.515625 13.8125 5.515625 26.8125 \nQ 5.515625 40.234375 12.765625 48.109375 \nQ 20.015625 56 32.328125 56 \nQ 43.359375 56 49.78125 48.890625 \nQ 56.203125 41.796875 56.203125 29.59375 \nz\nM 47.21875 32.234375 \nQ 47.125 39.59375 43.09375 43.984375 \nQ 39.0625 48.390625 32.421875 48.390625 \nQ 24.90625 48.390625 20.390625 44.140625 \nQ 15.875 39.890625 15.1875 32.171875 \nz\n\" id=\"DejaVuSans-101\"/>\n      <path d=\"M 9.421875 75.984375 \nL 18.40625 75.984375 \nL 18.40625 0 \nL 9.421875 0 \nz\n\" id=\"DejaVuSans-108\"/>\n      <path id=\"DejaVuSans-32\"/>\n      <path d=\"M 44.28125 53.078125 \nL 44.28125 44.578125 \nQ 40.484375 46.53125 36.375 47.5 \nQ 32.28125 48.484375 27.875 48.484375 \nQ 21.1875 48.484375 17.84375 46.4375 \nQ 14.5 44.390625 14.5 40.28125 \nQ 14.5 37.15625 16.890625 35.375 \nQ 19.28125 33.59375 26.515625 31.984375 \nL 29.59375 31.296875 \nQ 39.15625 29.25 43.1875 25.515625 \nQ 47.21875 21.78125 47.21875 15.09375 \nQ 47.21875 7.46875 41.1875 3.015625 \nQ 35.15625 -1.421875 24.609375 -1.421875 \nQ 20.21875 -1.421875 15.453125 -0.5625 \nQ 10.6875 0.296875 5.421875 2 \nL 5.421875 11.28125 \nQ 10.40625 8.6875 15.234375 7.390625 \nQ 20.0625 6.109375 24.8125 6.109375 \nQ 31.15625 6.109375 34.5625 8.28125 \nQ 37.984375 10.453125 37.984375 14.40625 \nQ 37.984375 18.0625 35.515625 20.015625 \nQ 33.0625 21.96875 24.703125 23.78125 \nL 21.578125 24.515625 \nQ 13.234375 26.265625 9.515625 29.90625 \nQ 5.8125 33.546875 5.8125 39.890625 \nQ 5.8125 47.609375 11.28125 51.796875 \nQ 16.75 56 26.8125 56 \nQ 31.78125 56 36.171875 55.265625 \nQ 40.578125 54.546875 44.28125 53.078125 \nz\n\" id=\"DejaVuSans-115\"/>\n      <path d=\"M 4.203125 54.6875 \nL 13.1875 54.6875 \nL 24.421875 12.015625 \nL 35.59375 54.6875 \nL 46.1875 54.6875 \nL 57.421875 12.015625 \nL 68.609375 54.6875 \nL 77.59375 54.6875 \nL 63.28125 0 \nL 52.6875 0 \nL 40.921875 44.828125 \nL 29.109375 0 \nL 18.5 0 \nz\n\" id=\"DejaVuSans-119\"/>\n      <path d=\"M 9.421875 54.6875 \nL 18.40625 54.6875 \nL 18.40625 0 \nL 9.421875 0 \nz\nM 9.421875 75.984375 \nL 18.40625 75.984375 \nL 18.40625 64.59375 \nL 9.421875 64.59375 \nz\n\" id=\"DejaVuSans-105\"/>\n      <path d=\"M 18.3125 70.21875 \nL 18.3125 54.6875 \nL 36.8125 54.6875 \nL 36.8125 47.703125 \nL 18.3125 47.703125 \nL 18.3125 18.015625 \nQ 18.3125 11.328125 20.140625 9.421875 \nQ 21.96875 7.515625 27.59375 7.515625 \nL 36.8125 7.515625 \nL 36.8125 0 \nL 27.59375 0 \nQ 17.1875 0 13.234375 3.875 \nQ 9.28125 7.765625 9.28125 18.015625 \nL 9.28125 47.703125 \nL 2.6875 47.703125 \nL 2.6875 54.6875 \nL 9.28125 54.6875 \nL 9.28125 70.21875 \nz\n\" id=\"DejaVuSans-116\"/>\n      <path d=\"M 54.890625 33.015625 \nL 54.890625 0 \nL 45.90625 0 \nL 45.90625 32.71875 \nQ 45.90625 40.484375 42.875 44.328125 \nQ 39.84375 48.1875 33.796875 48.1875 \nQ 26.515625 48.1875 22.3125 43.546875 \nQ 18.109375 38.921875 18.109375 30.90625 \nL 18.109375 0 \nL 9.078125 0 \nL 9.078125 75.984375 \nL 18.109375 75.984375 \nL 18.109375 46.1875 \nQ 21.34375 51.125 25.703125 53.5625 \nQ 30.078125 56 35.796875 56 \nQ 45.21875 56 50.046875 50.171875 \nQ 54.890625 44.34375 54.890625 33.015625 \nz\n\" id=\"DejaVuSans-104\"/>\n      <path d=\"M 18.109375 8.203125 \nL 18.109375 -20.796875 \nL 9.078125 -20.796875 \nL 9.078125 54.6875 \nL 18.109375 54.6875 \nL 18.109375 46.390625 \nQ 20.953125 51.265625 25.265625 53.625 \nQ 29.59375 56 35.59375 56 \nQ 45.5625 56 51.78125 48.09375 \nQ 58.015625 40.1875 58.015625 27.296875 \nQ 58.015625 14.40625 51.78125 6.484375 \nQ 45.5625 -1.421875 35.59375 -1.421875 \nQ 29.59375 -1.421875 25.265625 0.953125 \nQ 20.953125 3.328125 18.109375 8.203125 \nz\nM 48.6875 27.296875 \nQ 48.6875 37.203125 44.609375 42.84375 \nQ 40.53125 48.484375 33.40625 48.484375 \nQ 26.265625 48.484375 22.1875 42.84375 \nQ 18.109375 37.203125 18.109375 27.296875 \nQ 18.109375 17.390625 22.1875 11.75 \nQ 26.265625 6.109375 33.40625 6.109375 \nQ 40.53125 6.109375 44.609375 11.75 \nQ 48.6875 17.390625 48.6875 27.296875 \nz\n\" id=\"DejaVuSans-112\"/>\n      <path d=\"M 48.78125 52.59375 \nL 48.78125 44.1875 \nQ 44.96875 46.296875 41.140625 47.34375 \nQ 37.3125 48.390625 33.40625 48.390625 \nQ 24.65625 48.390625 19.8125 42.84375 \nQ 14.984375 37.3125 14.984375 27.296875 \nQ 14.984375 17.28125 19.8125 11.734375 \nQ 24.65625 6.203125 33.40625 6.203125 \nQ 37.3125 6.203125 41.140625 7.25 \nQ 44.96875 8.296875 48.78125 10.40625 \nL 48.78125 2.09375 \nQ 45.015625 0.34375 40.984375 -0.53125 \nQ 36.96875 -1.421875 32.421875 -1.421875 \nQ 20.0625 -1.421875 12.78125 6.34375 \nQ 5.515625 14.109375 5.515625 27.296875 \nQ 5.515625 40.671875 12.859375 48.328125 \nQ 20.21875 56 33.015625 56 \nQ 37.15625 56 41.109375 55.140625 \nQ 45.0625 54.296875 48.78125 52.59375 \nz\n\" id=\"DejaVuSans-99\"/>\n     </defs>\n     <use xlink:href=\"#DejaVuSans-77\"/>\n     <use x=\"86.279297\" xlink:href=\"#DejaVuSans-111\"/>\n     <use x=\"147.460938\" xlink:href=\"#DejaVuSans-100\"/>\n     <use x=\"210.9375\" xlink:href=\"#DejaVuSans-101\"/>\n     <use x=\"272.460938\" xlink:href=\"#DejaVuSans-108\"/>\n     <use x=\"300.244141\" xlink:href=\"#DejaVuSans-32\"/>\n     <use x=\"332.03125\" xlink:href=\"#DejaVuSans-108\"/>\n     <use x=\"359.814453\" xlink:href=\"#DejaVuSans-111\"/>\n     <use x=\"420.996094\" xlink:href=\"#DejaVuSans-115\"/>\n     <use x=\"473.095703\" xlink:href=\"#DejaVuSans-115\"/>\n     <use x=\"525.195312\" xlink:href=\"#DejaVuSans-32\"/>\n     <use x=\"556.982422\" xlink:href=\"#DejaVuSans-119\"/>\n     <use x=\"638.769531\" xlink:href=\"#DejaVuSans-105\"/>\n     <use x=\"666.552734\" xlink:href=\"#DejaVuSans-116\"/>\n     <use x=\"705.761719\" xlink:href=\"#DejaVuSans-104\"/>\n     <use x=\"769.140625\" xlink:href=\"#DejaVuSans-32\"/>\n     <use x=\"800.927734\" xlink:href=\"#DejaVuSans-49\"/>\n     <use x=\"864.550781\" xlink:href=\"#DejaVuSans-48\"/>\n     <use x=\"928.173828\" xlink:href=\"#DejaVuSans-48\"/>\n     <use x=\"991.796875\" xlink:href=\"#DejaVuSans-32\"/>\n     <use x=\"1023.583984\" xlink:href=\"#DejaVuSans-101\"/>\n     <use x=\"1085.107422\" xlink:href=\"#DejaVuSans-112\"/>\n     <use x=\"1148.583984\" xlink:href=\"#DejaVuSans-111\"/>\n     <use x=\"1209.765625\" xlink:href=\"#DejaVuSans-99\"/>\n     <use x=\"1264.746094\" xlink:href=\"#DejaVuSans-104\"/>\n    </g>\n   </g>\n   <g id=\"legend_1\">\n    <g id=\"patch_7\">\n     <path d=\"M 295.75625 59.674375 \nL 376.990625 59.674375 \nQ 378.990625 59.674375 378.990625 57.674375 \nL 378.990625 29.318125 \nQ 378.990625 27.318125 376.990625 27.318125 \nL 295.75625 27.318125 \nQ 293.75625 27.318125 293.75625 29.318125 \nL 293.75625 57.674375 \nQ 293.75625 59.674375 295.75625 59.674375 \nz\n\" style=\"fill:#ffffff;opacity:0.8;stroke:#cccccc;stroke-linejoin:miter;\"/>\n    </g>\n    <g id=\"line2d_13\">\n     <path d=\"M 297.75625 35.416562 \nL 317.75625 35.416562 \n\" style=\"fill:none;stroke:#1f77b4;stroke-linecap:square;stroke-width:1.5;\"/>\n    </g>\n    <g id=\"line2d_14\"/>\n    <g id=\"text_12\">\n     <!-- train -->\n     <g transform=\"translate(325.75625 38.916562)scale(0.1 -0.1)\">\n      <defs>\n       <path d=\"M 41.109375 46.296875 \nQ 39.59375 47.171875 37.8125 47.578125 \nQ 36.03125 48 33.890625 48 \nQ 26.265625 48 22.1875 43.046875 \nQ 18.109375 38.09375 18.109375 28.8125 \nL 18.109375 0 \nL 9.078125 0 \nL 9.078125 54.6875 \nL 18.109375 54.6875 \nL 18.109375 46.1875 \nQ 20.953125 51.171875 25.484375 53.578125 \nQ 30.03125 56 36.53125 56 \nQ 37.453125 56 38.578125 55.875 \nQ 39.703125 55.765625 41.0625 55.515625 \nz\n\" id=\"DejaVuSans-114\"/>\n       <path d=\"M 34.28125 27.484375 \nQ 23.390625 27.484375 19.1875 25 \nQ 14.984375 22.515625 14.984375 16.5 \nQ 14.984375 11.71875 18.140625 8.90625 \nQ 21.296875 6.109375 26.703125 6.109375 \nQ 34.1875 6.109375 38.703125 11.40625 \nQ 43.21875 16.703125 43.21875 25.484375 \nL 43.21875 27.484375 \nz\nM 52.203125 31.203125 \nL 52.203125 0 \nL 43.21875 0 \nL 43.21875 8.296875 \nQ 40.140625 3.328125 35.546875 0.953125 \nQ 30.953125 -1.421875 24.3125 -1.421875 \nQ 15.921875 -1.421875 10.953125 3.296875 \nQ 6 8.015625 6 15.921875 \nQ 6 25.140625 12.171875 29.828125 \nQ 18.359375 34.515625 30.609375 34.515625 \nL 43.21875 34.515625 \nL 43.21875 35.40625 \nQ 43.21875 41.609375 39.140625 45 \nQ 35.0625 48.390625 27.6875 48.390625 \nQ 23 48.390625 18.546875 47.265625 \nQ 14.109375 46.140625 10.015625 43.890625 \nL 10.015625 52.203125 \nQ 14.9375 54.109375 19.578125 55.046875 \nQ 24.21875 56 28.609375 56 \nQ 40.484375 56 46.34375 49.84375 \nQ 52.203125 43.703125 52.203125 31.203125 \nz\n\" id=\"DejaVuSans-97\"/>\n       <path d=\"M 54.890625 33.015625 \nL 54.890625 0 \nL 45.90625 0 \nL 45.90625 32.71875 \nQ 45.90625 40.484375 42.875 44.328125 \nQ 39.84375 48.1875 33.796875 48.1875 \nQ 26.515625 48.1875 22.3125 43.546875 \nQ 18.109375 38.921875 18.109375 30.90625 \nL 18.109375 0 \nL 9.078125 0 \nL 9.078125 54.6875 \nL 18.109375 54.6875 \nL 18.109375 46.1875 \nQ 21.34375 51.125 25.703125 53.5625 \nQ 30.078125 56 35.796875 56 \nQ 45.21875 56 50.046875 50.171875 \nQ 54.890625 44.34375 54.890625 33.015625 \nz\n\" id=\"DejaVuSans-110\"/>\n      </defs>\n      <use xlink:href=\"#DejaVuSans-116\"/>\n      <use x=\"39.208984\" xlink:href=\"#DejaVuSans-114\"/>\n      <use x=\"80.322266\" xlink:href=\"#DejaVuSans-97\"/>\n      <use x=\"141.601562\" xlink:href=\"#DejaVuSans-105\"/>\n      <use x=\"169.384766\" xlink:href=\"#DejaVuSans-110\"/>\n     </g>\n    </g>\n    <g id=\"line2d_15\">\n     <path d=\"M 297.75625 50.094687 \nL 317.75625 50.094687 \n\" style=\"fill:none;stroke:#ff7f0e;stroke-linecap:square;stroke-width:1.5;\"/>\n    </g>\n    <g id=\"line2d_16\"/>\n    <g id=\"text_13\">\n     <!-- validation -->\n     <g transform=\"translate(325.75625 53.594687)scale(0.1 -0.1)\">\n      <defs>\n       <path d=\"M 2.984375 54.6875 \nL 12.5 54.6875 \nL 29.59375 8.796875 \nL 46.6875 54.6875 \nL 56.203125 54.6875 \nL 35.6875 0 \nL 23.484375 0 \nz\n\" id=\"DejaVuSans-118\"/>\n      </defs>\n      <use xlink:href=\"#DejaVuSans-118\"/>\n      <use x=\"59.179688\" xlink:href=\"#DejaVuSans-97\"/>\n      <use x=\"120.458984\" xlink:href=\"#DejaVuSans-108\"/>\n      <use x=\"148.242188\" xlink:href=\"#DejaVuSans-105\"/>\n      <use x=\"176.025391\" xlink:href=\"#DejaVuSans-100\"/>\n      <use x=\"239.501953\" xlink:href=\"#DejaVuSans-97\"/>\n      <use x=\"300.78125\" xlink:href=\"#DejaVuSans-116\"/>\n      <use x=\"339.990234\" xlink:href=\"#DejaVuSans-105\"/>\n      <use x=\"367.773438\" xlink:href=\"#DejaVuSans-111\"/>\n      <use x=\"428.955078\" xlink:href=\"#DejaVuSans-110\"/>\n     </g>\n    </g>\n   </g>\n  </g>\n </g>\n <defs>\n  <clipPath id=\"p5b7db0f6a9\">\n   <rect height=\"217.44\" width=\"334.8\" x=\"49.190625\" y=\"22.318125\"/>\n  </clipPath>\n </defs>\n</svg>\n",
      "image/png": "[encoded data removed]"
     },
     "metadata": {
      "needs_background": "light"
     }
    }
   ],
   "source": [
    "plt.plot(history.history['loss'], label='train')\n",
    "plt.plot(history.history['val_loss'], label='validation')\n",
    "plt.title('Model loss with 100 epoch')\n",
    "plt.legend()\n",
    "plt.show()"
   ]
  },
  {
   "cell_type": "code",
   "execution_count": 29,
   "metadata": {},
   "outputs": [
    {
     "output_type": "stream",
     "name": "stdout",
     "text": [
      "Train Score: 44.00 RMSE\nTest Score: 50.89 RMSE\n"
     ]
    }
   ],
   "source": [
    "trainPredict = model.predict(X_train)\n",
    "model.reset_states()\n",
    "testPredict = model.predict(X_test)\n",
    "# invert predictions\n",
    "trainPredict = y_scaler.inverse_transform(trainPredict)\n",
    "trainY = y_scaler.inverse_transform([y_train])\n",
    "testPredict = y_scaler.inverse_transform(testPredict)\n",
    "testY = y_scaler.inverse_transform([y_test])\n",
    "# calculate root mean squared error\n",
    "trainScore = math.sqrt(mean_squared_error(trainY[0], trainPredict[:,0]))\n",
    "print('Train Score: %.2f RMSE' % (trainScore))\n",
    "testScore = math.sqrt(mean_squared_error(testY[0], testPredict[:,0]))\n",
    "print('Test Score: %.2f RMSE' % (testScore))\n"
   ]
  },
  {
   "cell_type": "code",
   "execution_count": null,
   "metadata": {},
   "outputs": [],
   "source": []
  }
 ]
}